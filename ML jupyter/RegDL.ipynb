{
 "cells": [
  {
   "cell_type": "code",
   "execution_count": 1,
   "metadata": {},
   "outputs": [],
   "source": [
    "import numpy as np"
   ]
  },
  {
   "cell_type": "code",
   "execution_count": 2,
   "metadata": {},
   "outputs": [],
   "source": [
    "import pandas as pd"
   ]
  },
  {
   "cell_type": "code",
   "execution_count": 3,
   "metadata": {},
   "outputs": [],
   "source": [
    "import matplotlib.pyplot as plt\n",
    "%matplotlib inline"
   ]
  },
  {
   "cell_type": "code",
   "execution_count": 4,
   "metadata": {},
   "outputs": [],
   "source": [
    "import seaborn as sns"
   ]
  },
  {
   "cell_type": "code",
   "execution_count": 5,
   "metadata": {},
   "outputs": [],
   "source": [
    "data = pd.read_csv('USA_Housing.csv')"
   ]
  },
  {
   "cell_type": "code",
   "execution_count": 6,
   "metadata": {},
   "outputs": [
    {
     "data": {
      "text/html": [
       "<div>\n",
       "<style scoped>\n",
       "    .dataframe tbody tr th:only-of-type {\n",
       "        vertical-align: middle;\n",
       "    }\n",
       "\n",
       "    .dataframe tbody tr th {\n",
       "        vertical-align: top;\n",
       "    }\n",
       "\n",
       "    .dataframe thead th {\n",
       "        text-align: right;\n",
       "    }\n",
       "</style>\n",
       "<table border=\"1\" class=\"dataframe\">\n",
       "  <thead>\n",
       "    <tr style=\"text-align: right;\">\n",
       "      <th></th>\n",
       "      <th>Avg. Area Income</th>\n",
       "      <th>Avg. Area House Age</th>\n",
       "      <th>Avg. Area Number of Rooms</th>\n",
       "      <th>Avg. Area Number of Bedrooms</th>\n",
       "      <th>Area Population</th>\n",
       "      <th>Price</th>\n",
       "      <th>Address</th>\n",
       "    </tr>\n",
       "  </thead>\n",
       "  <tbody>\n",
       "    <tr>\n",
       "      <th>0</th>\n",
       "      <td>79545.458574</td>\n",
       "      <td>5.682861</td>\n",
       "      <td>7.009188</td>\n",
       "      <td>4.09</td>\n",
       "      <td>23086.800503</td>\n",
       "      <td>1.059034e+06</td>\n",
       "      <td>208 Michael Ferry Apt. 674\\nLaurabury, NE 3701...</td>\n",
       "    </tr>\n",
       "    <tr>\n",
       "      <th>1</th>\n",
       "      <td>79248.642455</td>\n",
       "      <td>6.002900</td>\n",
       "      <td>6.730821</td>\n",
       "      <td>3.09</td>\n",
       "      <td>40173.072174</td>\n",
       "      <td>1.505891e+06</td>\n",
       "      <td>188 Johnson Views Suite 079\\nLake Kathleen, CA...</td>\n",
       "    </tr>\n",
       "    <tr>\n",
       "      <th>2</th>\n",
       "      <td>61287.067179</td>\n",
       "      <td>5.865890</td>\n",
       "      <td>8.512727</td>\n",
       "      <td>5.13</td>\n",
       "      <td>36882.159400</td>\n",
       "      <td>1.058988e+06</td>\n",
       "      <td>9127 Elizabeth Stravenue\\nDanieltown, WI 06482...</td>\n",
       "    </tr>\n",
       "    <tr>\n",
       "      <th>3</th>\n",
       "      <td>63345.240046</td>\n",
       "      <td>7.188236</td>\n",
       "      <td>5.586729</td>\n",
       "      <td>3.26</td>\n",
       "      <td>34310.242831</td>\n",
       "      <td>1.260617e+06</td>\n",
       "      <td>USS Barnett\\nFPO AP 44820</td>\n",
       "    </tr>\n",
       "    <tr>\n",
       "      <th>4</th>\n",
       "      <td>59982.197226</td>\n",
       "      <td>5.040555</td>\n",
       "      <td>7.839388</td>\n",
       "      <td>4.23</td>\n",
       "      <td>26354.109472</td>\n",
       "      <td>6.309435e+05</td>\n",
       "      <td>USNS Raymond\\nFPO AE 09386</td>\n",
       "    </tr>\n",
       "  </tbody>\n",
       "</table>\n",
       "</div>"
      ],
      "text/plain": [
       "   Avg. Area Income  Avg. Area House Age  Avg. Area Number of Rooms  \\\n",
       "0      79545.458574             5.682861                   7.009188   \n",
       "1      79248.642455             6.002900                   6.730821   \n",
       "2      61287.067179             5.865890                   8.512727   \n",
       "3      63345.240046             7.188236                   5.586729   \n",
       "4      59982.197226             5.040555                   7.839388   \n",
       "\n",
       "   Avg. Area Number of Bedrooms  Area Population         Price  \\\n",
       "0                          4.09     23086.800503  1.059034e+06   \n",
       "1                          3.09     40173.072174  1.505891e+06   \n",
       "2                          5.13     36882.159400  1.058988e+06   \n",
       "3                          3.26     34310.242831  1.260617e+06   \n",
       "4                          4.23     26354.109472  6.309435e+05   \n",
       "\n",
       "                                             Address  \n",
       "0  208 Michael Ferry Apt. 674\\nLaurabury, NE 3701...  \n",
       "1  188 Johnson Views Suite 079\\nLake Kathleen, CA...  \n",
       "2  9127 Elizabeth Stravenue\\nDanieltown, WI 06482...  \n",
       "3                          USS Barnett\\nFPO AP 44820  \n",
       "4                         USNS Raymond\\nFPO AE 09386  "
      ]
     },
     "execution_count": 6,
     "metadata": {},
     "output_type": "execute_result"
    }
   ],
   "source": [
    "data.head()"
   ]
  },
  {
   "cell_type": "code",
   "execution_count": 7,
   "metadata": {},
   "outputs": [
    {
     "name": "stdout",
     "output_type": "stream",
     "text": [
      "<class 'pandas.core.frame.DataFrame'>\n",
      "RangeIndex: 5000 entries, 0 to 4999\n",
      "Data columns (total 7 columns):\n",
      "Avg. Area Income                5000 non-null float64\n",
      "Avg. Area House Age             5000 non-null float64\n",
      "Avg. Area Number of Rooms       5000 non-null float64\n",
      "Avg. Area Number of Bedrooms    5000 non-null float64\n",
      "Area Population                 5000 non-null float64\n",
      "Price                           5000 non-null float64\n",
      "Address                         5000 non-null object\n",
      "dtypes: float64(6), object(1)\n",
      "memory usage: 273.5+ KB\n"
     ]
    }
   ],
   "source": [
    "data.info()"
   ]
  },
  {
   "cell_type": "code",
   "execution_count": 8,
   "metadata": {},
   "outputs": [
    {
     "data": {
      "text/html": [
       "<div>\n",
       "<style scoped>\n",
       "    .dataframe tbody tr th:only-of-type {\n",
       "        vertical-align: middle;\n",
       "    }\n",
       "\n",
       "    .dataframe tbody tr th {\n",
       "        vertical-align: top;\n",
       "    }\n",
       "\n",
       "    .dataframe thead th {\n",
       "        text-align: right;\n",
       "    }\n",
       "</style>\n",
       "<table border=\"1\" class=\"dataframe\">\n",
       "  <thead>\n",
       "    <tr style=\"text-align: right;\">\n",
       "      <th></th>\n",
       "      <th>Avg. Area Income</th>\n",
       "      <th>Avg. Area House Age</th>\n",
       "      <th>Avg. Area Number of Rooms</th>\n",
       "      <th>Avg. Area Number of Bedrooms</th>\n",
       "      <th>Area Population</th>\n",
       "      <th>Price</th>\n",
       "    </tr>\n",
       "  </thead>\n",
       "  <tbody>\n",
       "    <tr>\n",
       "      <th>count</th>\n",
       "      <td>5000.000000</td>\n",
       "      <td>5000.000000</td>\n",
       "      <td>5000.000000</td>\n",
       "      <td>5000.000000</td>\n",
       "      <td>5000.000000</td>\n",
       "      <td>5.000000e+03</td>\n",
       "    </tr>\n",
       "    <tr>\n",
       "      <th>mean</th>\n",
       "      <td>68583.108984</td>\n",
       "      <td>5.977222</td>\n",
       "      <td>6.987792</td>\n",
       "      <td>3.981330</td>\n",
       "      <td>36163.516039</td>\n",
       "      <td>1.232073e+06</td>\n",
       "    </tr>\n",
       "    <tr>\n",
       "      <th>std</th>\n",
       "      <td>10657.991214</td>\n",
       "      <td>0.991456</td>\n",
       "      <td>1.005833</td>\n",
       "      <td>1.234137</td>\n",
       "      <td>9925.650114</td>\n",
       "      <td>3.531176e+05</td>\n",
       "    </tr>\n",
       "    <tr>\n",
       "      <th>min</th>\n",
       "      <td>17796.631190</td>\n",
       "      <td>2.644304</td>\n",
       "      <td>3.236194</td>\n",
       "      <td>2.000000</td>\n",
       "      <td>172.610686</td>\n",
       "      <td>1.593866e+04</td>\n",
       "    </tr>\n",
       "    <tr>\n",
       "      <th>25%</th>\n",
       "      <td>61480.562388</td>\n",
       "      <td>5.322283</td>\n",
       "      <td>6.299250</td>\n",
       "      <td>3.140000</td>\n",
       "      <td>29403.928702</td>\n",
       "      <td>9.975771e+05</td>\n",
       "    </tr>\n",
       "    <tr>\n",
       "      <th>50%</th>\n",
       "      <td>68804.286404</td>\n",
       "      <td>5.970429</td>\n",
       "      <td>7.002902</td>\n",
       "      <td>4.050000</td>\n",
       "      <td>36199.406689</td>\n",
       "      <td>1.232669e+06</td>\n",
       "    </tr>\n",
       "    <tr>\n",
       "      <th>75%</th>\n",
       "      <td>75783.338666</td>\n",
       "      <td>6.650808</td>\n",
       "      <td>7.665871</td>\n",
       "      <td>4.490000</td>\n",
       "      <td>42861.290769</td>\n",
       "      <td>1.471210e+06</td>\n",
       "    </tr>\n",
       "    <tr>\n",
       "      <th>max</th>\n",
       "      <td>107701.748378</td>\n",
       "      <td>9.519088</td>\n",
       "      <td>10.759588</td>\n",
       "      <td>6.500000</td>\n",
       "      <td>69621.713378</td>\n",
       "      <td>2.469066e+06</td>\n",
       "    </tr>\n",
       "  </tbody>\n",
       "</table>\n",
       "</div>"
      ],
      "text/plain": [
       "       Avg. Area Income  Avg. Area House Age  Avg. Area Number of Rooms  \\\n",
       "count       5000.000000          5000.000000                5000.000000   \n",
       "mean       68583.108984             5.977222                   6.987792   \n",
       "std        10657.991214             0.991456                   1.005833   \n",
       "min        17796.631190             2.644304                   3.236194   \n",
       "25%        61480.562388             5.322283                   6.299250   \n",
       "50%        68804.286404             5.970429                   7.002902   \n",
       "75%        75783.338666             6.650808                   7.665871   \n",
       "max       107701.748378             9.519088                  10.759588   \n",
       "\n",
       "       Avg. Area Number of Bedrooms  Area Population         Price  \n",
       "count                   5000.000000      5000.000000  5.000000e+03  \n",
       "mean                       3.981330     36163.516039  1.232073e+06  \n",
       "std                        1.234137      9925.650114  3.531176e+05  \n",
       "min                        2.000000       172.610686  1.593866e+04  \n",
       "25%                        3.140000     29403.928702  9.975771e+05  \n",
       "50%                        4.050000     36199.406689  1.232669e+06  \n",
       "75%                        4.490000     42861.290769  1.471210e+06  \n",
       "max                        6.500000     69621.713378  2.469066e+06  "
      ]
     },
     "execution_count": 8,
     "metadata": {},
     "output_type": "execute_result"
    }
   ],
   "source": [
    "data.describe()"
   ]
  },
  {
   "cell_type": "code",
   "execution_count": 9,
   "metadata": {},
   "outputs": [
    {
     "data": {
      "text/plain": [
       "<seaborn.axisgrid.JointGrid at 0x2785673ac50>"
      ]
     },
     "execution_count": 9,
     "metadata": {},
     "output_type": "execute_result"
    },
    {
     "data": {
      "image/png": "[encoded data removed]",
      "text/plain": [
       "<matplotlib.figure.Figure at 0x2785673a438>"
      ]
     },
     "metadata": {},
     "output_type": "display_data"
    }
   ],
   "source": [
    "sns.jointplot('Avg. Area House Age', 'Price', data = data)"
   ]
  },
  {
   "cell_type": "code",
   "execution_count": 23,
   "metadata": {},
   "outputs": [],
   "source": [
    "X = data.drop(['Price','Address'],axis = 1)"
   ]
  },
  {
   "cell_type": "code",
   "execution_count": 24,
   "metadata": {},
   "outputs": [],
   "source": [
    "y = data['Price']"
   ]
  },
  {
   "cell_type": "code",
   "execution_count": 25,
   "metadata": {},
   "outputs": [],
   "source": [
    "from sklearn.model_selection import train_test_split"
   ]
  },
  {
   "cell_type": "code",
   "execution_count": 26,
   "metadata": {},
   "outputs": [],
   "source": [
    "X_train, X_test, y_train, y_test = train_test_split(X, y, test_size=0.3, random_state=42)"
   ]
  },
  {
   "cell_type": "code",
   "execution_count": 27,
   "metadata": {},
   "outputs": [],
   "source": [
    "from sklearn.preprocessing import StandardScaler"
   ]
  },
  {
   "cell_type": "code",
   "execution_count": 28,
   "metadata": {},
   "outputs": [],
   "source": [
    "sc = StandardScaler()"
   ]
  },
  {
   "cell_type": "code",
   "execution_count": null,
   "metadata": {},
   "outputs": [],
   "source": []
  },
  {
   "cell_type": "code",
   "execution_count": 29,
   "metadata": {},
   "outputs": [],
   "source": [
    "from sklearn.linear_model import LinearRegression"
   ]
  },
  {
   "cell_type": "code",
   "execution_count": 30,
   "metadata": {},
   "outputs": [],
   "source": [
    "lr = LinearRegression()"
   ]
  },
  {
   "cell_type": "code",
   "execution_count": 31,
   "metadata": {},
   "outputs": [
    {
     "data": {
      "text/plain": [
       "LinearRegression(copy_X=True, fit_intercept=True, n_jobs=1, normalize=False)"
      ]
     },
     "execution_count": 31,
     "metadata": {},
     "output_type": "execute_result"
    }
   ],
   "source": [
    "lr.fit(X_train,y_train)"
   ]
  },
  {
   "cell_type": "code",
   "execution_count": 32,
   "metadata": {},
   "outputs": [],
   "source": [
    "pred = lr.predict(X_test)"
   ]
  },
  {
   "cell_type": "code",
   "execution_count": 37,
   "metadata": {},
   "outputs": [
    {
     "data": {
      "text/plain": [
       "Text(0,0.5,'Prediction')"
      ]
     },
     "execution_count": 37,
     "metadata": {},
     "output_type": "execute_result"
    },
    {
     "data": {
      "image/png": "[encoded data removed]",
      "text/plain": [
       "<matplotlib.figure.Figure at 0x278584e4438>"
      ]
     },
     "metadata": {},
     "output_type": "display_data"
    }
   ],
   "source": [
    "plt.figure(figsize=(10,8))\n",
    "plt.scatter(y_test,pred)\n",
    "plt.title('Prediction vs Y_true')\n",
    "plt.xlabel('Y_true')\n",
    "plt.ylabel('Prediction')"
   ]
  },
  {
   "cell_type": "code",
   "execution_count": 38,
   "metadata": {},
   "outputs": [],
   "source": [
    "X_train = sc.fit_transform(X_train)\n",
    "X_test = sc.transform(X_test)"
   ]
  },
  {
   "cell_type": "code",
   "execution_count": 39,
   "metadata": {},
   "outputs": [],
   "source": [
    "lr_scaled = LinearRegression()"
   ]
  },
  {
   "cell_type": "code",
   "execution_count": 40,
   "metadata": {},
   "outputs": [
    {
     "data": {
      "text/plain": [
       "LinearRegression(copy_X=True, fit_intercept=True, n_jobs=1, normalize=False)"
      ]
     },
     "execution_count": 40,
     "metadata": {},
     "output_type": "execute_result"
    }
   ],
   "source": [
    "lr_scaled.fit(X_train,y_train)"
   ]
  },
  {
   "cell_type": "code",
   "execution_count": 41,
   "metadata": {},
   "outputs": [],
   "source": [
    "pred_sc = lr_scaled.predict(X_test)"
   ]
  },
  {
   "cell_type": "code",
   "execution_count": 47,
   "metadata": {},
   "outputs": [
    {
     "data": {
      "text/plain": [
       "<matplotlib.collections.PathCollection at 0x27858d9b940>"
      ]
     },
     "execution_count": 47,
     "metadata": {},
     "output_type": "execute_result"
    },
    {
     "data": {
      "image/png": "[encoded data removed]",
      "text/plain": [
       "<matplotlib.figure.Figure at 0x27858d366d8>"
      ]
     },
     "metadata": {},
     "output_type": "display_data"
    }
   ],
   "source": [
    "plt.figure(figsize=(10,8))\n",
    "plt.scatter(y_test,pred_sc)\n"
   ]
  },
  {
   "cell_type": "code",
   "execution_count": 48,
   "metadata": {},
   "outputs": [],
   "source": [
    "from sklearn.metrics import mean_squared_error,mean_absolute_error"
   ]
  },
  {
   "cell_type": "code",
   "execution_count": 45,
   "metadata": {},
   "outputs": [
    {
     "name": "stdout",
     "output_type": "stream",
     "text": [
      "MSE : 10068422551.400928\n"
     ]
    }
   ],
   "source": [
    "print(\"MSE : \" +str(mean_squared_error(y_test,pred)))"
   ]
  },
  {
   "cell_type": "code",
   "execution_count": 46,
   "metadata": {},
   "outputs": [
    {
     "name": "stdout",
     "output_type": "stream",
     "text": [
      "MSE : 10068422551.40088\n"
     ]
    }
   ],
   "source": [
    "print(\"MSE : \" +str(mean_squared_error(y_test,pred_sc)))"
   ]
  },
  {
   "cell_type": "code",
   "execution_count": 49,
   "metadata": {},
   "outputs": [
    {
     "name": "stdout",
     "output_type": "stream",
     "text": [
      "MAE : 81135.5660933688\n"
     ]
    }
   ],
   "source": [
    "print('MAE : ' + str(mean_absolute_error(y_test,pred)))"
   ]
  },
  {
   "cell_type": "code",
   "execution_count": 50,
   "metadata": {},
   "outputs": [
    {
     "name": "stdout",
     "output_type": "stream",
     "text": [
      "MAE : 81135.56609336878\n"
     ]
    }
   ],
   "source": [
    "print('MAE : ' + str(mean_absolute_error(y_test,pred_sc)))"
   ]
  },
  {
   "cell_type": "code",
   "execution_count": 52,
   "metadata": {},
   "outputs": [
    {
     "data": {
      "text/plain": [
       "2.9103830456733704e-11"
      ]
     },
     "execution_count": 52,
     "metadata": {},
     "output_type": "execute_result"
    }
   ],
   "source": [
    "-mean_absolute_error(y_test,pred_sc) + (mean_absolute_error(y_test,pred))"
   ]
  },
  {
   "cell_type": "code",
   "execution_count": 54,
   "metadata": {},
   "outputs": [],
   "source": [
    "import keras "
   ]
  },
  {
   "cell_type": "code",
   "execution_count": 55,
   "metadata": {},
   "outputs": [],
   "source": [
    "from keras.models import Sequential"
   ]
  },
  {
   "cell_type": "code",
   "execution_count": 56,
   "metadata": {},
   "outputs": [],
   "source": [
    "from keras.layers import Dense"
   ]
  },
  {
   "cell_type": "code",
   "execution_count": 57,
   "metadata": {},
   "outputs": [],
   "source": [
    "lr_deep = Sequential()"
   ]
  },
  {
   "cell_type": "code",
   "execution_count": 58,
   "metadata": {},
   "outputs": [
    {
     "data": {
      "text/plain": [
       "5"
      ]
     },
     "execution_count": 58,
     "metadata": {},
     "output_type": "execute_result"
    }
   ],
   "source": [
    "X_test.shape[1]"
   ]
  },
  {
   "cell_type": "code",
   "execution_count": 60,
   "metadata": {},
   "outputs": [],
   "source": [
    "lr_deep.add(Dense(3,activation = 'relu', kernel_initializer='uniform',input_dim = X_train.shape[1]))"
   ]
  },
  {
   "cell_type": "code",
   "execution_count": 63,
   "metadata": {},
   "outputs": [],
   "source": [
    "lr_deep.add(Dense(3,activation = 'relu', kernel_initializer='uniform'))\n",
    "lr_deep.add(Dense(3,activation = 'relu', kernel_initializer='uniform'))"
   ]
  },
  {
   "cell_type": "code",
   "execution_count": 64,
   "metadata": {},
   "outputs": [],
   "source": [
    "lr_deep.add(Dense(1, activation= 'tanh', kernel_initializer='uniform'))"
   ]
  },
  {
   "cell_type": "code",
   "execution_count": 68,
   "metadata": {},
   "outputs": [],
   "source": [
    "lr_deep.compile(optimizer='adam',loss=keras.losses.mean_absolute_error,metrics=['accuracy'])"
   ]
  },
  {
   "cell_type": "code",
   "execution_count": 69,
   "metadata": {},
   "outputs": [
    {
     "name": "stdout",
     "output_type": "stream",
     "text": [
      "Epoch 1/100\n",
      "3500/3500 [==============================] - 1s 351us/step - loss: 1228218.1488 - acc: 0.0000e+00\n",
      "Epoch 2/100\n",
      "3500/3500 [==============================] - 1s 193us/step - loss: 1228218.1430 - acc: 0.0000e+00\n",
      "Epoch 3/100\n",
      "3500/3500 [==============================] - 0s 138us/step - loss: 1228218.1521 - acc: 0.0000e+00\n",
      "Epoch 4/100\n",
      "3500/3500 [==============================] - 1s 200us/step - loss: 1228218.1454 - acc: 0.0000e+00\n",
      "Epoch 5/100\n",
      "3500/3500 [==============================] - 1s 187us/step - loss: 1228218.1446 - acc: 0.0000e+00\n",
      "Epoch 6/100\n",
      "3500/3500 [==============================] - 1s 191us/step - loss: 1228218.1527 - acc: 0.0000e+00\n",
      "Epoch 7/100\n",
      "3500/3500 [==============================] - 1s 193us/step - loss: 1228218.1466 - acc: 0.0000e+00\n",
      "Epoch 8/100\n",
      "3500/3500 [==============================] - 1s 198us/step - loss: 1228218.1400 - acc: 0.0000e+00\n",
      "Epoch 9/100\n",
      "3500/3500 [==============================] - 1s 204us/step - loss: 1228218.1446 - acc: 0.0000e+00\n",
      "Epoch 10/100\n",
      "3500/3500 [==============================] - 1s 210us/step - loss: 1228218.1548 - acc: 0.0000e+00\n",
      "Epoch 11/100\n",
      "3500/3500 [==============================] - 1s 206us/step - loss: 1228218.1455 - acc: 0.0000e+00\n",
      "Epoch 12/100\n",
      "3500/3500 [==============================] - 1s 217us/step - loss: 1228218.1457 - acc: 0.0000e+00\n",
      "Epoch 13/100\n",
      "3500/3500 [==============================] - 1s 208us/step - loss: 1228218.1496 - acc: 0.0000e+00\n",
      "Epoch 14/100\n",
      "3500/3500 [==============================] - 1s 204us/step - loss: 1228218.1505 - acc: 0.0000e+00\n",
      "Epoch 15/100\n",
      "3500/3500 [==============================] - 1s 202us/step - loss: 1228218.1496 - acc: 0.0000e+00\n",
      "Epoch 16/100\n",
      "3500/3500 [==============================] - 1s 204us/step - loss: 1228218.1470 - acc: 0.0000e+00\n",
      "Epoch 17/100\n",
      "3500/3500 [==============================] - 1s 222us/step - loss: 1228218.1470 - acc: 0.0000e+00\n",
      "Epoch 18/100\n",
      "3500/3500 [==============================] - 1s 208us/step - loss: 1228218.1479 - acc: 0.0000e+00\n",
      "Epoch 19/100\n",
      "3500/3500 [==============================] - 1s 206us/step - loss: 1228218.1486 - acc: 0.0000e+00\n",
      "Epoch 20/100\n",
      "3500/3500 [==============================] - 1s 151us/step - loss: 1228218.1511 - acc: 0.0000e+00\n",
      "Epoch 21/100\n",
      "3500/3500 [==============================] - 1s 195us/step - loss: 1228218.1464 - acc: 0.0000e+00\n",
      "Epoch 22/100\n",
      "3500/3500 [==============================] - 1s 208us/step - loss: 1228218.1466 - acc: 0.0000e+00\n",
      "Epoch 23/100\n",
      "3500/3500 [==============================] - 1s 201us/step - loss: 1228218.1562 - acc: 0.0000e+00\n",
      "Epoch 24/100\n",
      "3500/3500 [==============================] - 0s 141us/step - loss: 1228218.1486 - acc: 0.0000e+00\n",
      "Epoch 25/100\n",
      "3500/3500 [==============================] - 1s 210us/step - loss: 1228218.1516 - acc: 0.0000e+00\n",
      "Epoch 26/100\n",
      "3500/3500 [==============================] - 1s 205us/step - loss: 1228218.1486 - acc: 0.0000e+00\n",
      "Epoch 27/100\n",
      "3500/3500 [==============================] - 1s 204us/step - loss: 1228218.1448 - acc: 0.0000e+00\n",
      "Epoch 28/100\n",
      "3500/3500 [==============================] - 1s 218us/step - loss: 1228218.1445 - acc: 0.0000e+00\n",
      "Epoch 29/100\n",
      "3500/3500 [==============================] - 1s 156us/step - loss: 1228218.1525 - acc: 0.0000e+00\n",
      "Epoch 30/100\n",
      "3500/3500 [==============================] - 1s 190us/step - loss: 1228218.1516 - acc: 0.0000e+00\n",
      "Epoch 31/100\n",
      "3500/3500 [==============================] - 1s 205us/step - loss: 1228218.1512 - acc: 0.0000e+00\n",
      "Epoch 32/100\n",
      "3500/3500 [==============================] - 1s 204us/step - loss: 1228218.1480 - acc: 0.0000e+00\n",
      "Epoch 33/100\n",
      "3500/3500 [==============================] - 1s 210us/step - loss: 1228218.1495 - acc: 0.0000e+00\n",
      "Epoch 34/100\n",
      "3500/3500 [==============================] - 1s 200us/step - loss: 1228218.1495 - acc: 0.0000e+00\n",
      "Epoch 35/100\n",
      "3500/3500 [==============================] - 1s 209us/step - loss: 1228218.1504 - acc: 0.0000e+00\n",
      "Epoch 36/100\n",
      "3500/3500 [==============================] - 1s 197us/step - loss: 1228218.1454 - acc: 0.0000e+00\n",
      "Epoch 37/100\n",
      "3500/3500 [==============================] - 1s 209us/step - loss: 1228218.1525 - acc: 0.0000e+00\n",
      "Epoch 38/100\n",
      "3500/3500 [==============================] - 1s 222us/step - loss: 1228218.1473 - acc: 0.0000e+00\n",
      "Epoch 39/100\n",
      "3500/3500 [==============================] - 1s 206us/step - loss: 1228218.1493 - acc: 0.0000e+00\n",
      "Epoch 40/100\n",
      "3500/3500 [==============================] - 0s 142us/step - loss: 1228218.1470 - acc: 0.0000e+00\n",
      "Epoch 41/100\n",
      "3500/3500 [==============================] - 1s 201us/step - loss: 1228218.1529 - acc: 0.0000e+00\n",
      "Epoch 42/100\n",
      "3500/3500 [==============================] - 1s 215us/step - loss: 1228218.1486 - acc: 0.0000e+00\n",
      "Epoch 43/100\n",
      "3500/3500 [==============================] - 1s 173us/step - loss: 1228218.1505 - acc: 0.0000e+00\n",
      "Epoch 44/100\n",
      "3500/3500 [==============================] - 1s 169us/step - loss: 1228218.1509 - acc: 0.0000e+00\n",
      "Epoch 45/100\n",
      "3500/3500 [==============================] - 1s 198us/step - loss: 1228218.1536 - acc: 0.0000e+00\n",
      "Epoch 46/100\n",
      "3500/3500 [==============================] - 1s 195us/step - loss: 1228218.1530 - acc: 0.0000e+00\n",
      "Epoch 47/100\n",
      "3500/3500 [==============================] - 1s 204us/step - loss: 1228218.1479 - acc: 0.0000e+00\n",
      "Epoch 48/100\n",
      "3500/3500 [==============================] - 1s 195us/step - loss: 1228218.1468 - acc: 0.0000e+00\n",
      "Epoch 49/100\n",
      "3500/3500 [==============================] - 1s 195us/step - loss: 1228218.1545 - acc: 0.0000e+00\n",
      "Epoch 50/100\n",
      "3500/3500 [==============================] - 1s 213us/step - loss: 1228218.1473 - acc: 0.0000e+00\n",
      "Epoch 51/100\n",
      "3500/3500 [==============================] - 1s 218us/step - loss: 1228218.1429 - acc: 0.0000e+00\n",
      "Epoch 52/100\n",
      "3500/3500 [==============================] - 1s 196us/step - loss: 1228218.1470 - acc: 0.0000e+00\n",
      "Epoch 53/100\n",
      "3500/3500 [==============================] - 1s 198us/step - loss: 1228218.1502 - acc: 0.0000e+00\n",
      "Epoch 54/100\n",
      "3500/3500 [==============================] - 1s 214us/step - loss: 1228218.1502 - acc: 0.0000e+00\n",
      "Epoch 55/100\n",
      "3500/3500 [==============================] - 1s 193us/step - loss: 1228218.1496 - acc: 0.0000e+00\n",
      "Epoch 56/100\n",
      "3500/3500 [==============================] - 1s 166us/step - loss: 1228218.1482 - acc: 0.0000e+00\n",
      "Epoch 57/100\n",
      "3500/3500 [==============================] - 1s 173us/step - loss: 1228218.1502 - acc: 0.0000e+00\n",
      "Epoch 58/100\n",
      "3500/3500 [==============================] - 1s 217us/step - loss: 1228218.1502 - acc: 0.0000e+00\n",
      "Epoch 59/100\n",
      "3500/3500 [==============================] - 1s 211us/step - loss: 1228218.1471 - acc: 0.0000e+00\n",
      "Epoch 60/100\n",
      "3500/3500 [==============================] - 1s 203us/step - loss: 1228218.1457 - acc: 0.0000e+00\n",
      "Epoch 61/100\n",
      "3500/3500 [==============================] - 1s 209us/step - loss: 1228218.1479 - acc: 0.0000e+00\n",
      "Epoch 62/100\n",
      "3500/3500 [==============================] - 1s 200us/step - loss: 1228218.1500 - acc: 0.0000e+00\n",
      "Epoch 63/100\n",
      "3500/3500 [==============================] - 1s 203us/step - loss: 1228218.1450 - acc: 0.0000e+00\n",
      "Epoch 64/100\n",
      "3500/3500 [==============================] - 1s 210us/step - loss: 1228218.1546 - acc: 0.0000e+00\n",
      "Epoch 65/100\n",
      "3500/3500 [==============================] - 1s 210us/step - loss: 1228218.1471 - acc: 0.0000e+00\n",
      "Epoch 66/100\n",
      "3500/3500 [==============================] - 1s 163us/step - loss: 1228218.1486 - acc: 0.0000e+00\n",
      "Epoch 67/100\n",
      "3500/3500 [==============================] - 1s 168us/step - loss: 1228218.1521 - acc: 0.0000e+00\n",
      "Epoch 68/100\n",
      "3500/3500 [==============================] - 1s 203us/step - loss: 1228218.1518 - acc: 0.0000e+00\n",
      "Epoch 69/100\n",
      "3500/3500 [==============================] - 1s 212us/step - loss: 1228218.1439 - acc: 0.0000e+00\n",
      "Epoch 70/100\n",
      "3500/3500 [==============================] - 1s 198us/step - loss: 1228218.1498 - acc: 0.0000e+00\n",
      "Epoch 71/100\n",
      "3500/3500 [==============================] - 1s 203us/step - loss: 1228218.1466 - acc: 0.0000e+00\n",
      "Epoch 72/100\n",
      "3500/3500 [==============================] - 1s 203us/step - loss: 1228218.1541 - acc: 0.0000e+00\n",
      "Epoch 73/100\n",
      "3500/3500 [==============================] - 1s 205us/step - loss: 1228218.1455 - acc: 0.0000e+00\n",
      "Epoch 74/100\n"
     ]
    },
    {
     "name": "stdout",
     "output_type": "stream",
     "text": [
      "3500/3500 [==============================] - 1s 200us/step - loss: 1228218.1464 - acc: 0.0000e+00\n",
      "Epoch 75/100\n",
      "3500/3500 [==============================] - 1s 211us/step - loss: 1228218.1502 - acc: 0.0000e+00\n",
      "Epoch 76/100\n",
      "3500/3500 [==============================] - 1s 203us/step - loss: 1228218.1523 - acc: 0.0000e+00\n",
      "Epoch 77/100\n",
      "3500/3500 [==============================] - 1s 201us/step - loss: 1228218.1500 - acc: 0.0000e+00\n",
      "Epoch 78/100\n",
      "3500/3500 [==============================] - 1s 153us/step - loss: 1228218.1509 - acc: 0.0000e+00\n",
      "Epoch 79/100\n",
      "3500/3500 [==============================] - 1s 183us/step - loss: 1228218.1518 - acc: 0.0000e+00\n",
      "Epoch 80/100\n",
      "3500/3500 [==============================] - 1s 196us/step - loss: 1228218.1525 - acc: 0.0000e+00\n",
      "Epoch 81/100\n",
      "3500/3500 [==============================] - 1s 158us/step - loss: 1228218.1495 - acc: 0.0000e+00\n",
      "Epoch 82/100\n",
      "3500/3500 [==============================] - 1s 192us/step - loss: 1228218.1511 - acc: 0.0000e+00\n",
      "Epoch 83/100\n",
      "3500/3500 [==============================] - 1s 191us/step - loss: 1228218.1500 - acc: 0.0000e+00\n",
      "Epoch 84/100\n",
      "3500/3500 [==============================] - 1s 196us/step - loss: 1228218.1552 - acc: 0.0000e+00\n",
      "Epoch 85/100\n",
      "3500/3500 [==============================] - 1s 182us/step - loss: 1228218.1461 - acc: 0.0000e+00\n",
      "Epoch 86/100\n",
      "3500/3500 [==============================] - 1s 143us/step - loss: 1228218.1523 - acc: 0.0000e+00\n",
      "Epoch 87/100\n",
      "3500/3500 [==============================] - 1s 195us/step - loss: 1228218.1539 - acc: 0.0000e+00\n",
      "Epoch 88/100\n",
      "3500/3500 [==============================] - 1s 200us/step - loss: 1228218.1475 - acc: 0.0000e+00\n",
      "Epoch 89/100\n",
      "3500/3500 [==============================] - 1s 200us/step - loss: 1228218.1450 - acc: 0.0000e+00\n",
      "Epoch 90/100\n",
      "3500/3500 [==============================] - 1s 229us/step - loss: 1228218.1521 - acc: 0.0000e+00\n",
      "Epoch 91/100\n",
      "3500/3500 [==============================] - 1s 196us/step - loss: 1228218.1477 - acc: 0.0000e+00\n",
      "Epoch 92/100\n",
      "3500/3500 [==============================] - 1s 224us/step - loss: 1228218.1459 - acc: 0.0000e+00\n",
      "Epoch 93/100\n",
      "3500/3500 [==============================] - 1s 150us/step - loss: 1228218.1498 - acc: 0.0000e+00\n",
      "Epoch 94/100\n",
      "3500/3500 [==============================] - 1s 207us/step - loss: 1228218.1466 - acc: 0.0000e+00\n",
      "Epoch 95/100\n",
      "3500/3500 [==============================] - 1s 216us/step - loss: 1228218.1461 - acc: 0.0000e+00\n",
      "Epoch 96/100\n",
      "3500/3500 [==============================] - 1s 181us/step - loss: 1228218.1525 - acc: 0.0000e+00\n",
      "Epoch 97/100\n",
      "3500/3500 [==============================] - 1s 143us/step - loss: 1228218.1514 - acc: 0.0000e+00\n",
      "Epoch 98/100\n",
      "3500/3500 [==============================] - 1s 208us/step - loss: 1228218.1454 - acc: 0.0000e+00\n",
      "Epoch 99/100\n",
      "3500/3500 [==============================] - 1s 204us/step - loss: 1228218.1507 - acc: 0.0000e+00\n",
      "Epoch 100/100\n",
      "3500/3500 [==============================] - 1s 207us/step - loss: 1228218.1454 - acc: 0.0000e+00\n"
     ]
    },
    {
     "data": {
      "text/plain": [
       "<keras.callbacks.History at 0x27863c81320>"
      ]
     },
     "execution_count": 69,
     "metadata": {},
     "output_type": "execute_result"
    }
   ],
   "source": [
    "lr_deep.fit(X_train,y_train,epochs=100, batch_size=10)"
   ]
  },
  {
   "cell_type": "code",
   "execution_count": 71,
   "metadata": {},
   "outputs": [
    {
     "name": "stdout",
     "output_type": "stream",
     "text": [
      "_________________________________________________________________\n",
      "Layer (type)                 Output Shape              Param #   \n",
      "=================================================================\n",
      "dense_2 (Dense)              (None, 3)                 18        \n",
      "_________________________________________________________________\n",
      "dense_4 (Dense)              (None, 3)                 12        \n",
      "_________________________________________________________________\n",
      "dense_5 (Dense)              (None, 3)                 12        \n",
      "_________________________________________________________________\n",
      "dense_6 (Dense)              (None, 3)                 12        \n",
      "_________________________________________________________________\n",
      "dense_7 (Dense)              (None, 1)                 4         \n",
      "=================================================================\n",
      "Total params: 58\n",
      "Trainable params: 58\n",
      "Non-trainable params: 0\n",
      "_________________________________________________________________\n"
     ]
    }
   ],
   "source": [
    "lr_deep.summary()"
   ]
  },
  {
   "cell_type": "code",
   "execution_count": 76,
   "metadata": {},
   "outputs": [],
   "source": [
    "pred_ = lr_deep.predict_(X_test)"
   ]
  },
  {
   "cell_type": "code",
   "execution_count": 77,
   "metadata": {},
   "outputs": [
    {
     "data": {
      "text/plain": [
       "array([[1],\n",
       "       [1],\n",
       "       [1],\n",
       "       ...,\n",
       "       [1],\n",
       "       [1],\n",
       "       [1]])"
      ]
     },
     "execution_count": 77,
     "metadata": {},
     "output_type": "execute_result"
    }
   ],
   "source": [
    "pred_"
   ]
  },
  {
   "cell_type": "code",
   "execution_count": 74,
   "metadata": {},
   "outputs": [
    {
     "data": {
      "text/plain": [
       "<matplotlib.collections.PathCollection at 0x27864f22e10>"
      ]
     },
     "execution_count": 74,
     "metadata": {},
     "output_type": "execute_result"
    },
    {
     "data": {
      "image/png": "[encoded data removed]",
      "text/plain": [
       "<matplotlib.figure.Figure at 0x27864f03dd8>"
      ]
     },
     "metadata": {},
     "output_type": "display_data"
    }
   ],
   "source": [
    "plt.scatter(y_test,pred_)"
   ]
  },
  {
   "cell_type": "code",
   "execution_count": null,
   "metadata": {},
   "outputs": [],
   "source": []
  }
 ],
 "metadata": {
  "kernelspec": {
   "display_name": "Python 3",
   "language": "python",
   "name": "python3"
  },
  "language_info": {
   "codemirror_mode": {
    "name": "ipython",
    "version": 3
   },
   "file_extension": ".py",
   "mimetype": "text/x-python",
   "name": "python",
   "nbconvert_exporter": "python",
   "pygments_lexer": "ipython3",
   "version": "3.6.4"
  }
 },
 "nbformat": 4,
 "nbformat_minor": 2
}
