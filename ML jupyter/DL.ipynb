{
 "cells": [
  {
   "cell_type": "code",
   "execution_count": 1,
   "metadata": {},
   "outputs": [],
   "source": [
    "import numpy as np\n",
    "import pandas as pd\n"
   ]
  },
  {
   "cell_type": "code",
   "execution_count": 2,
   "metadata": {},
   "outputs": [],
   "source": [
    "churn_data = pd.read_csv('Churn_Modelling.csv')"
   ]
  },
  {
   "cell_type": "code",
   "execution_count": 3,
   "metadata": {},
   "outputs": [
    {
     "data": {
      "text/html": [
       "<div>\n",
       "<style scoped>\n",
       "    .dataframe tbody tr th:only-of-type {\n",
       "        vertical-align: middle;\n",
       "    }\n",
       "\n",
       "    .dataframe tbody tr th {\n",
       "        vertical-align: top;\n",
       "    }\n",
       "\n",
       "    .dataframe thead th {\n",
       "        text-align: right;\n",
       "    }\n",
       "</style>\n",
       "<table border=\"1\" class=\"dataframe\">\n",
       "  <thead>\n",
       "    <tr style=\"text-align: right;\">\n",
       "      <th></th>\n",
       "      <th>RowNumber</th>\n",
       "      <th>CustomerId</th>\n",
       "      <th>Surname</th>\n",
       "      <th>CreditScore</th>\n",
       "      <th>Geography</th>\n",
       "      <th>Gender</th>\n",
       "      <th>Age</th>\n",
       "      <th>Tenure</th>\n",
       "      <th>Balance</th>\n",
       "      <th>NumOfProducts</th>\n",
       "      <th>HasCrCard</th>\n",
       "      <th>IsActiveMember</th>\n",
       "      <th>EstimatedSalary</th>\n",
       "      <th>Exited</th>\n",
       "    </tr>\n",
       "  </thead>\n",
       "  <tbody>\n",
       "    <tr>\n",
       "      <th>0</th>\n",
       "      <td>1</td>\n",
       "      <td>15634602</td>\n",
       "      <td>Hargrave</td>\n",
       "      <td>619</td>\n",
       "      <td>France</td>\n",
       "      <td>Female</td>\n",
       "      <td>42</td>\n",
       "      <td>2</td>\n",
       "      <td>0.00</td>\n",
       "      <td>1</td>\n",
       "      <td>1</td>\n",
       "      <td>1</td>\n",
       "      <td>101348.88</td>\n",
       "      <td>1</td>\n",
       "    </tr>\n",
       "    <tr>\n",
       "      <th>1</th>\n",
       "      <td>2</td>\n",
       "      <td>15647311</td>\n",
       "      <td>Hill</td>\n",
       "      <td>608</td>\n",
       "      <td>Spain</td>\n",
       "      <td>Female</td>\n",
       "      <td>41</td>\n",
       "      <td>1</td>\n",
       "      <td>83807.86</td>\n",
       "      <td>1</td>\n",
       "      <td>0</td>\n",
       "      <td>1</td>\n",
       "      <td>112542.58</td>\n",
       "      <td>0</td>\n",
       "    </tr>\n",
       "    <tr>\n",
       "      <th>2</th>\n",
       "      <td>3</td>\n",
       "      <td>15619304</td>\n",
       "      <td>Onio</td>\n",
       "      <td>502</td>\n",
       "      <td>France</td>\n",
       "      <td>Female</td>\n",
       "      <td>42</td>\n",
       "      <td>8</td>\n",
       "      <td>159660.80</td>\n",
       "      <td>3</td>\n",
       "      <td>1</td>\n",
       "      <td>0</td>\n",
       "      <td>113931.57</td>\n",
       "      <td>1</td>\n",
       "    </tr>\n",
       "    <tr>\n",
       "      <th>3</th>\n",
       "      <td>4</td>\n",
       "      <td>15701354</td>\n",
       "      <td>Boni</td>\n",
       "      <td>699</td>\n",
       "      <td>France</td>\n",
       "      <td>Female</td>\n",
       "      <td>39</td>\n",
       "      <td>1</td>\n",
       "      <td>0.00</td>\n",
       "      <td>2</td>\n",
       "      <td>0</td>\n",
       "      <td>0</td>\n",
       "      <td>93826.63</td>\n",
       "      <td>0</td>\n",
       "    </tr>\n",
       "    <tr>\n",
       "      <th>4</th>\n",
       "      <td>5</td>\n",
       "      <td>15737888</td>\n",
       "      <td>Mitchell</td>\n",
       "      <td>850</td>\n",
       "      <td>Spain</td>\n",
       "      <td>Female</td>\n",
       "      <td>43</td>\n",
       "      <td>2</td>\n",
       "      <td>125510.82</td>\n",
       "      <td>1</td>\n",
       "      <td>1</td>\n",
       "      <td>1</td>\n",
       "      <td>79084.10</td>\n",
       "      <td>0</td>\n",
       "    </tr>\n",
       "  </tbody>\n",
       "</table>\n",
       "</div>"
      ],
      "text/plain": [
       "   RowNumber  CustomerId   Surname  CreditScore Geography  Gender  Age  \\\n",
       "0          1    15634602  Hargrave          619    France  Female   42   \n",
       "1          2    15647311      Hill          608     Spain  Female   41   \n",
       "2          3    15619304      Onio          502    France  Female   42   \n",
       "3          4    15701354      Boni          699    France  Female   39   \n",
       "4          5    15737888  Mitchell          850     Spain  Female   43   \n",
       "\n",
       "   Tenure    Balance  NumOfProducts  HasCrCard  IsActiveMember  \\\n",
       "0       2       0.00              1          1               1   \n",
       "1       1   83807.86              1          0               1   \n",
       "2       8  159660.80              3          1               0   \n",
       "3       1       0.00              2          0               0   \n",
       "4       2  125510.82              1          1               1   \n",
       "\n",
       "   EstimatedSalary  Exited  \n",
       "0        101348.88       1  \n",
       "1        112542.58       0  \n",
       "2        113931.57       1  \n",
       "3         93826.63       0  \n",
       "4         79084.10       0  "
      ]
     },
     "execution_count": 3,
     "metadata": {},
     "output_type": "execute_result"
    }
   ],
   "source": [
    "churn_data.head()"
   ]
  },
  {
   "cell_type": "code",
   "execution_count": 6,
   "metadata": {},
   "outputs": [],
   "source": [
    "geo = pd.get_dummies(churn_data['Geography'],drop_first=True)"
   ]
  },
  {
   "cell_type": "code",
   "execution_count": 8,
   "metadata": {},
   "outputs": [],
   "source": [
    "genre = pd.get_dummies(churn_data['Gender'],drop_first=True)"
   ]
  },
  {
   "cell_type": "code",
   "execution_count": 11,
   "metadata": {},
   "outputs": [],
   "source": [
    "data = churn_data.drop(['RowNumber','CustomerId','Surname','Geography','Gender'],axis=1)"
   ]
  },
  {
   "cell_type": "code",
   "execution_count": 13,
   "metadata": {},
   "outputs": [],
   "source": [
    "data = pd.concat([data,genre,geo],axis=1)"
   ]
  },
  {
   "cell_type": "code",
   "execution_count": 15,
   "metadata": {},
   "outputs": [
    {
     "data": {
      "text/html": [
       "<div>\n",
       "<style scoped>\n",
       "    .dataframe tbody tr th:only-of-type {\n",
       "        vertical-align: middle;\n",
       "    }\n",
       "\n",
       "    .dataframe tbody tr th {\n",
       "        vertical-align: top;\n",
       "    }\n",
       "\n",
       "    .dataframe thead th {\n",
       "        text-align: right;\n",
       "    }\n",
       "</style>\n",
       "<table border=\"1\" class=\"dataframe\">\n",
       "  <thead>\n",
       "    <tr style=\"text-align: right;\">\n",
       "      <th></th>\n",
       "      <th>CreditScore</th>\n",
       "      <th>Age</th>\n",
       "      <th>Tenure</th>\n",
       "      <th>Balance</th>\n",
       "      <th>NumOfProducts</th>\n",
       "      <th>HasCrCard</th>\n",
       "      <th>IsActiveMember</th>\n",
       "      <th>EstimatedSalary</th>\n",
       "      <th>Exited</th>\n",
       "      <th>Male</th>\n",
       "      <th>Germany</th>\n",
       "      <th>Spain</th>\n",
       "    </tr>\n",
       "  </thead>\n",
       "  <tbody>\n",
       "    <tr>\n",
       "      <th>0</th>\n",
       "      <td>619</td>\n",
       "      <td>42</td>\n",
       "      <td>2</td>\n",
       "      <td>0.00</td>\n",
       "      <td>1</td>\n",
       "      <td>1</td>\n",
       "      <td>1</td>\n",
       "      <td>101348.88</td>\n",
       "      <td>1</td>\n",
       "      <td>0</td>\n",
       "      <td>0</td>\n",
       "      <td>0</td>\n",
       "    </tr>\n",
       "    <tr>\n",
       "      <th>1</th>\n",
       "      <td>608</td>\n",
       "      <td>41</td>\n",
       "      <td>1</td>\n",
       "      <td>83807.86</td>\n",
       "      <td>1</td>\n",
       "      <td>0</td>\n",
       "      <td>1</td>\n",
       "      <td>112542.58</td>\n",
       "      <td>0</td>\n",
       "      <td>0</td>\n",
       "      <td>0</td>\n",
       "      <td>1</td>\n",
       "    </tr>\n",
       "    <tr>\n",
       "      <th>2</th>\n",
       "      <td>502</td>\n",
       "      <td>42</td>\n",
       "      <td>8</td>\n",
       "      <td>159660.80</td>\n",
       "      <td>3</td>\n",
       "      <td>1</td>\n",
       "      <td>0</td>\n",
       "      <td>113931.57</td>\n",
       "      <td>1</td>\n",
       "      <td>0</td>\n",
       "      <td>0</td>\n",
       "      <td>0</td>\n",
       "    </tr>\n",
       "    <tr>\n",
       "      <th>3</th>\n",
       "      <td>699</td>\n",
       "      <td>39</td>\n",
       "      <td>1</td>\n",
       "      <td>0.00</td>\n",
       "      <td>2</td>\n",
       "      <td>0</td>\n",
       "      <td>0</td>\n",
       "      <td>93826.63</td>\n",
       "      <td>0</td>\n",
       "      <td>0</td>\n",
       "      <td>0</td>\n",
       "      <td>0</td>\n",
       "    </tr>\n",
       "    <tr>\n",
       "      <th>4</th>\n",
       "      <td>850</td>\n",
       "      <td>43</td>\n",
       "      <td>2</td>\n",
       "      <td>125510.82</td>\n",
       "      <td>1</td>\n",
       "      <td>1</td>\n",
       "      <td>1</td>\n",
       "      <td>79084.10</td>\n",
       "      <td>0</td>\n",
       "      <td>0</td>\n",
       "      <td>0</td>\n",
       "      <td>1</td>\n",
       "    </tr>\n",
       "  </tbody>\n",
       "</table>\n",
       "</div>"
      ],
      "text/plain": [
       "   CreditScore  Age  Tenure    Balance  NumOfProducts  HasCrCard  \\\n",
       "0          619   42       2       0.00              1          1   \n",
       "1          608   41       1   83807.86              1          0   \n",
       "2          502   42       8  159660.80              3          1   \n",
       "3          699   39       1       0.00              2          0   \n",
       "4          850   43       2  125510.82              1          1   \n",
       "\n",
       "   IsActiveMember  EstimatedSalary  Exited  Male  Germany  Spain  \n",
       "0               1        101348.88       1     0        0      0  \n",
       "1               1        112542.58       0     0        0      1  \n",
       "2               0        113931.57       1     0        0      0  \n",
       "3               0         93826.63       0     0        0      0  \n",
       "4               1         79084.10       0     0        0      1  "
      ]
     },
     "execution_count": 15,
     "metadata": {},
     "output_type": "execute_result"
    }
   ],
   "source": [
    "data.head()"
   ]
  },
  {
   "cell_type": "code",
   "execution_count": 16,
   "metadata": {},
   "outputs": [],
   "source": [
    "X = data.drop('Exited',axis=1)\n",
    "y = data['Exited']"
   ]
  },
  {
   "cell_type": "code",
   "execution_count": 20,
   "metadata": {},
   "outputs": [
    {
     "data": {
      "text/html": [
       "<div>\n",
       "<style scoped>\n",
       "    .dataframe tbody tr th:only-of-type {\n",
       "        vertical-align: middle;\n",
       "    }\n",
       "\n",
       "    .dataframe tbody tr th {\n",
       "        vertical-align: top;\n",
       "    }\n",
       "\n",
       "    .dataframe thead th {\n",
       "        text-align: right;\n",
       "    }\n",
       "</style>\n",
       "<table border=\"1\" class=\"dataframe\">\n",
       "  <thead>\n",
       "    <tr style=\"text-align: right;\">\n",
       "      <th></th>\n",
       "      <th>CreditScore</th>\n",
       "      <th>Age</th>\n",
       "      <th>Tenure</th>\n",
       "      <th>Balance</th>\n",
       "      <th>NumOfProducts</th>\n",
       "      <th>HasCrCard</th>\n",
       "      <th>IsActiveMember</th>\n",
       "      <th>EstimatedSalary</th>\n",
       "      <th>Male</th>\n",
       "      <th>Germany</th>\n",
       "      <th>Spain</th>\n",
       "    </tr>\n",
       "  </thead>\n",
       "  <tbody>\n",
       "    <tr>\n",
       "      <th>0</th>\n",
       "      <td>619</td>\n",
       "      <td>42</td>\n",
       "      <td>2</td>\n",
       "      <td>0.00</td>\n",
       "      <td>1</td>\n",
       "      <td>1</td>\n",
       "      <td>1</td>\n",
       "      <td>101348.88</td>\n",
       "      <td>0</td>\n",
       "      <td>0</td>\n",
       "      <td>0</td>\n",
       "    </tr>\n",
       "    <tr>\n",
       "      <th>1</th>\n",
       "      <td>608</td>\n",
       "      <td>41</td>\n",
       "      <td>1</td>\n",
       "      <td>83807.86</td>\n",
       "      <td>1</td>\n",
       "      <td>0</td>\n",
       "      <td>1</td>\n",
       "      <td>112542.58</td>\n",
       "      <td>0</td>\n",
       "      <td>0</td>\n",
       "      <td>1</td>\n",
       "    </tr>\n",
       "    <tr>\n",
       "      <th>2</th>\n",
       "      <td>502</td>\n",
       "      <td>42</td>\n",
       "      <td>8</td>\n",
       "      <td>159660.80</td>\n",
       "      <td>3</td>\n",
       "      <td>1</td>\n",
       "      <td>0</td>\n",
       "      <td>113931.57</td>\n",
       "      <td>0</td>\n",
       "      <td>0</td>\n",
       "      <td>0</td>\n",
       "    </tr>\n",
       "    <tr>\n",
       "      <th>3</th>\n",
       "      <td>699</td>\n",
       "      <td>39</td>\n",
       "      <td>1</td>\n",
       "      <td>0.00</td>\n",
       "      <td>2</td>\n",
       "      <td>0</td>\n",
       "      <td>0</td>\n",
       "      <td>93826.63</td>\n",
       "      <td>0</td>\n",
       "      <td>0</td>\n",
       "      <td>0</td>\n",
       "    </tr>\n",
       "    <tr>\n",
       "      <th>4</th>\n",
       "      <td>850</td>\n",
       "      <td>43</td>\n",
       "      <td>2</td>\n",
       "      <td>125510.82</td>\n",
       "      <td>1</td>\n",
       "      <td>1</td>\n",
       "      <td>1</td>\n",
       "      <td>79084.10</td>\n",
       "      <td>0</td>\n",
       "      <td>0</td>\n",
       "      <td>1</td>\n",
       "    </tr>\n",
       "  </tbody>\n",
       "</table>\n",
       "</div>"
      ],
      "text/plain": [
       "   CreditScore  Age  Tenure    Balance  NumOfProducts  HasCrCard  \\\n",
       "0          619   42       2       0.00              1          1   \n",
       "1          608   41       1   83807.86              1          0   \n",
       "2          502   42       8  159660.80              3          1   \n",
       "3          699   39       1       0.00              2          0   \n",
       "4          850   43       2  125510.82              1          1   \n",
       "\n",
       "   IsActiveMember  EstimatedSalary  Male  Germany  Spain  \n",
       "0               1        101348.88     0        0      0  \n",
       "1               1        112542.58     0        0      1  \n",
       "2               0        113931.57     0        0      0  \n",
       "3               0         93826.63     0        0      0  \n",
       "4               1         79084.10     0        0      1  "
      ]
     },
     "execution_count": 20,
     "metadata": {},
     "output_type": "execute_result"
    }
   ],
   "source": [
    "\n",
    "X.head()"
   ]
  },
  {
   "cell_type": "code",
   "execution_count": 21,
   "metadata": {},
   "outputs": [
    {
     "data": {
      "text/plain": [
       "0    1\n",
       "1    0\n",
       "2    1\n",
       "3    0\n",
       "4    0\n",
       "Name: Exited, dtype: int64"
      ]
     },
     "execution_count": 21,
     "metadata": {},
     "output_type": "execute_result"
    }
   ],
   "source": [
    "y.head()\n"
   ]
  },
  {
   "cell_type": "code",
   "execution_count": 25,
   "metadata": {},
   "outputs": [
    {
     "data": {
      "text/plain": [
       "CreditScore           850.00\n",
       "Age                    92.00\n",
       "Tenure                 10.00\n",
       "Balance            250898.09\n",
       "NumOfProducts           4.00\n",
       "HasCrCard               1.00\n",
       "IsActiveMember          1.00\n",
       "EstimatedSalary    199992.48\n",
       "Male                    1.00\n",
       "Germany                 1.00\n",
       "Spain                   1.00\n",
       "dtype: float64"
      ]
     },
     "execution_count": 25,
     "metadata": {},
     "output_type": "execute_result"
    }
   ],
   "source": [
    "X.max()"
   ]
  },
  {
   "cell_type": "code",
   "execution_count": 26,
   "metadata": {},
   "outputs": [],
   "source": [
    "from sklearn.preprocessing import StandardScaler"
   ]
  },
  {
   "cell_type": "code",
   "execution_count": 27,
   "metadata": {},
   "outputs": [],
   "source": [
    "sc = StandardScaler()"
   ]
  },
  {
   "cell_type": "code",
   "execution_count": 28,
   "metadata": {},
   "outputs": [],
   "source": [
    "from sklearn.model_selection import train_test_split"
   ]
  },
  {
   "cell_type": "code",
   "execution_count": 29,
   "metadata": {},
   "outputs": [],
   "source": [
    " X_train, X_test, y_train, y_test = train_test_split(X, y, test_size=0.3, random_state=42)"
   ]
  },
  {
   "cell_type": "code",
   "execution_count": 31,
   "metadata": {},
   "outputs": [
    {
     "data": {
      "text/plain": [
       "(7000,)"
      ]
     },
     "execution_count": 31,
     "metadata": {},
     "output_type": "execute_result"
    }
   ],
   "source": [
    "y_train.shape"
   ]
  },
  {
   "cell_type": "code",
   "execution_count": 32,
   "metadata": {},
   "outputs": [],
   "source": [
    "X_train = sc.fit_transform(X_train)\n",
    "X_test = sc.transform(X_test)"
   ]
  },
  {
   "cell_type": "code",
   "execution_count": null,
   "metadata": {},
   "outputs": [],
   "source": [
    "# Deep learning"
   ]
  },
  {
   "cell_type": "code",
   "execution_count": 34,
   "metadata": {},
   "outputs": [
    {
     "name": "stderr",
     "output_type": "stream",
     "text": [
      "D:\\Anaconda\\lib\\site-packages\\h5py\\__init__.py:36: FutureWarning: Conversion of the second argument of issubdtype from `float` to `np.floating` is deprecated. In future, it will be treated as `np.float64 == np.dtype(float).type`.\n",
      "  from ._conv import register_converters as _register_converters\n",
      "Using TensorFlow backend.\n"
     ]
    }
   ],
   "source": [
    "import keras"
   ]
  },
  {
   "cell_type": "code",
   "execution_count": 35,
   "metadata": {},
   "outputs": [],
   "source": [
    "from keras.models import Sequential\n",
    "from keras.layers import Dense"
   ]
  },
  {
   "cell_type": "code",
   "execution_count": 36,
   "metadata": {},
   "outputs": [],
   "source": [
    "cl = Sequential()"
   ]
  },
  {
   "cell_type": "code",
   "execution_count": 37,
   "metadata": {},
   "outputs": [],
   "source": [
    "cl.add(Dense(units= 6, activation='relu',kernel_initializer='uniform',input_dim=11))"
   ]
  },
  {
   "cell_type": "code",
   "execution_count": 38,
   "metadata": {},
   "outputs": [],
   "source": [
    "cl.add(Dense(units= 6, activation='relu',kernel_initializer='uniform'))"
   ]
  },
  {
   "cell_type": "code",
   "execution_count": 48,
   "metadata": {},
   "outputs": [],
   "source": [
    "cl.add(Dense(units= 1, activation='tanh',kernel_initializer='uniform'))"
   ]
  },
  {
   "cell_type": "code",
   "execution_count": 49,
   "metadata": {},
   "outputs": [],
   "source": [
    "cl.compile(optimizer='adam',loss='binary_crossentropy',metrics=['accuracy'])"
   ]
  },
  {
   "cell_type": "code",
   "execution_count": 50,
   "metadata": {},
   "outputs": [
    {
     "name": "stdout",
     "output_type": "stream",
     "text": [
      "Epoch 1/100\n",
      "7000/7000 [==============================] - 3s 497us/step - loss: 0.5404 - acc: 0.7924\n",
      "Epoch 2/100\n",
      "7000/7000 [==============================] - 1s 189us/step - loss: 0.4509 - acc: 0.7924\n",
      "Epoch 3/100\n",
      "7000/7000 [==============================] - 1s 186us/step - loss: 0.4319 - acc: 0.7924\n",
      "Epoch 4/100\n",
      "7000/7000 [==============================] - 1s 182us/step - loss: 0.4224 - acc: 0.7924\n",
      "Epoch 5/100\n",
      "7000/7000 [==============================] - 1s 185us/step - loss: 0.4169 - acc: 0.8131\n",
      "Epoch 6/100\n",
      "7000/7000 [==============================] - 1s 182us/step - loss: 0.4133 - acc: 0.8291\n",
      "Epoch 7/100\n",
      "7000/7000 [==============================] - 1s 187us/step - loss: 0.4108 - acc: 0.8299\n",
      "Epoch 8/100\n",
      "7000/7000 [==============================] - 1s 187us/step - loss: 0.4086 - acc: 0.8297\n",
      "Epoch 9/100\n",
      "7000/7000 [==============================] - 1s 190us/step - loss: 0.4074 - acc: 0.8319\n",
      "Epoch 10/100\n",
      "7000/7000 [==============================] - 1s 198us/step - loss: 0.4059 - acc: 0.8306\n",
      "Epoch 11/100\n",
      "7000/7000 [==============================] - 1s 202us/step - loss: 0.4050 - acc: 0.8304\n",
      "Epoch 12/100\n",
      "7000/7000 [==============================] - 1s 195us/step - loss: 0.4041 - acc: 0.8316\n",
      "Epoch 13/100\n",
      "7000/7000 [==============================] - 1s 186us/step - loss: 0.4033 - acc: 0.8329\n",
      "Epoch 14/100\n",
      "7000/7000 [==============================] - 1s 187us/step - loss: 0.4027 - acc: 0.8313\n",
      "Epoch 15/100\n",
      "7000/7000 [==============================] - 1s 184us/step - loss: 0.4026 - acc: 0.8340\n",
      "Epoch 16/100\n",
      "7000/7000 [==============================] - 1s 188us/step - loss: 0.4023 - acc: 0.8324\n",
      "Epoch 17/100\n",
      "7000/7000 [==============================] - 1s 194us/step - loss: 0.4011 - acc: 0.8327\n",
      "Epoch 18/100\n",
      "7000/7000 [==============================] - 1s 188us/step - loss: 0.4015 - acc: 0.8320\n",
      "Epoch 19/100\n",
      "7000/7000 [==============================] - 1s 187us/step - loss: 0.4005 - acc: 0.8337\n",
      "Epoch 20/100\n",
      "7000/7000 [==============================] - 1s 192us/step - loss: 0.4006 - acc: 0.8326\n",
      "Epoch 21/100\n",
      "7000/7000 [==============================] - 2s 216us/step - loss: 0.4007 - acc: 0.8336\n",
      "Epoch 22/100\n",
      "7000/7000 [==============================] - 1s 190us/step - loss: 0.4004 - acc: 0.8333\n",
      "Epoch 23/100\n",
      "7000/7000 [==============================] - 1s 191us/step - loss: 0.4000 - acc: 0.8337\n",
      "Epoch 24/100\n",
      "7000/7000 [==============================] - 1s 193us/step - loss: 0.4002 - acc: 0.8334\n",
      "Epoch 25/100\n",
      "7000/7000 [==============================] - 1s 196us/step - loss: 0.4000 - acc: 0.8323\n",
      "Epoch 26/100\n",
      "7000/7000 [==============================] - 1s 195us/step - loss: 0.3997 - acc: 0.8330\n",
      "Epoch 27/100\n",
      "7000/7000 [==============================] - 1s 209us/step - loss: 0.3996 - acc: 0.8341\n",
      "Epoch 28/100\n",
      "7000/7000 [==============================] - 1s 202us/step - loss: 0.3992 - acc: 0.8350\n",
      "Epoch 29/100\n",
      "7000/7000 [==============================] - 1s 198us/step - loss: 0.3992 - acc: 0.8320\n",
      "Epoch 30/100\n",
      "7000/7000 [==============================] - 1s 209us/step - loss: 0.3992 - acc: 0.8339\n",
      "Epoch 31/100\n",
      "7000/7000 [==============================] - 1s 206us/step - loss: 0.3989 - acc: 0.8343\n",
      "Epoch 32/100\n",
      "7000/7000 [==============================] - 1s 196us/step - loss: 0.3985 - acc: 0.8364\n",
      "Epoch 33/100\n",
      "7000/7000 [==============================] - 1s 200us/step - loss: 0.3986 - acc: 0.8333\n",
      "Epoch 34/100\n",
      "7000/7000 [==============================] - 1s 197us/step - loss: 0.3979 - acc: 0.8343\n",
      "Epoch 35/100\n",
      "7000/7000 [==============================] - 1s 200us/step - loss: 0.3976 - acc: 0.8337\n",
      "Epoch 36/100\n",
      "7000/7000 [==============================] - 1s 195us/step - loss: 0.3967 - acc: 0.8359\n",
      "Epoch 37/100\n",
      "7000/7000 [==============================] - 1s 193us/step - loss: 0.3969 - acc: 0.8353\n",
      "Epoch 38/100\n",
      "7000/7000 [==============================] - 1s 197us/step - loss: 0.3967 - acc: 0.8354\n",
      "Epoch 39/100\n",
      "7000/7000 [==============================] - 1s 193us/step - loss: 0.3963 - acc: 0.8347\n",
      "Epoch 40/100\n",
      "7000/7000 [==============================] - 1s 196us/step - loss: 0.3955 - acc: 0.8361\n",
      "Epoch 41/100\n",
      "7000/7000 [==============================] - 1s 199us/step - loss: 0.3950 - acc: 0.8357\n",
      "Epoch 42/100\n",
      "7000/7000 [==============================] - 2s 215us/step - loss: 0.3940 - acc: 0.8366\n",
      "Epoch 43/100\n",
      "7000/7000 [==============================] - 1s 200us/step - loss: 0.3921 - acc: 0.8396\n",
      "Epoch 44/100\n",
      "7000/7000 [==============================] - 1s 198us/step - loss: 0.3897 - acc: 0.8403\n",
      "Epoch 45/100\n",
      "7000/7000 [==============================] - 1s 208us/step - loss: 0.3864 - acc: 0.8434\n",
      "Epoch 46/100\n",
      "7000/7000 [==============================] - 1s 199us/step - loss: 0.3839 - acc: 0.8443\n",
      "Epoch 47/100\n",
      "7000/7000 [==============================] - 1s 198us/step - loss: 0.3810 - acc: 0.8453\n",
      "Epoch 48/100\n",
      "7000/7000 [==============================] - 1s 212us/step - loss: 0.3780 - acc: 0.8464\n",
      "Epoch 49/100\n",
      "7000/7000 [==============================] - 1s 206us/step - loss: 0.3753 - acc: 0.8491\n",
      "Epoch 50/100\n",
      "7000/7000 [==============================] - 1s 193us/step - loss: 0.3709 - acc: 0.8500\n",
      "Epoch 51/100\n",
      "7000/7000 [==============================] - 1s 183us/step - loss: 0.3650 - acc: 0.8530\n",
      "Epoch 52/100\n",
      "7000/7000 [==============================] - 1s 172us/step - loss: 0.3602 - acc: 0.8557\n",
      "Epoch 53/100\n",
      "7000/7000 [==============================] - 1s 175us/step - loss: 0.3556 - acc: 0.8551\n",
      "Epoch 54/100\n",
      "7000/7000 [==============================] - 1s 185us/step - loss: 0.3513 - acc: 0.8580\n",
      "Epoch 55/100\n",
      "7000/7000 [==============================] - 1s 201us/step - loss: 0.3500 - acc: 0.8581\n",
      "Epoch 56/100\n",
      "7000/7000 [==============================] - 1s 206us/step - loss: 0.3481 - acc: 0.8594\n",
      "Epoch 57/100\n",
      "7000/7000 [==============================] - 1s 212us/step - loss: 0.3471 - acc: 0.8589\n",
      "Epoch 58/100\n",
      "7000/7000 [==============================] - 1s 201us/step - loss: 0.3465 - acc: 0.8594\n",
      "Epoch 59/100\n",
      "7000/7000 [==============================] - 1s 206us/step - loss: 0.3461 - acc: 0.8586\n",
      "Epoch 60/100\n",
      "7000/7000 [==============================] - 1s 210us/step - loss: 0.3450 - acc: 0.8591\n",
      "Epoch 61/100\n",
      "7000/7000 [==============================] - 1s 208us/step - loss: 0.3451 - acc: 0.8594\n",
      "Epoch 62/100\n",
      "7000/7000 [==============================] - 1s 207us/step - loss: 0.3449 - acc: 0.8597\n",
      "Epoch 63/100\n",
      "7000/7000 [==============================] - 1s 209us/step - loss: 0.3455 - acc: 0.8599\n",
      "Epoch 64/100\n",
      "7000/7000 [==============================] - 1s 203us/step - loss: 0.3440 - acc: 0.8583\n",
      "Epoch 65/100\n",
      "7000/7000 [==============================] - 1s 206us/step - loss: 0.3440 - acc: 0.8593\n",
      "Epoch 66/100\n",
      "7000/7000 [==============================] - 1s 203us/step - loss: 0.3439 - acc: 0.8577\n",
      "Epoch 67/100\n",
      "7000/7000 [==============================] - 1s 204us/step - loss: 0.3439 - acc: 0.8587\n",
      "Epoch 68/100\n",
      "7000/7000 [==============================] - 2s 215us/step - loss: 0.3438 - acc: 0.8586\n",
      "Epoch 69/100\n",
      "7000/7000 [==============================] - 1s 206us/step - loss: 0.3438 - acc: 0.8566\n",
      "Epoch 70/100\n",
      "7000/7000 [==============================] - 1s 203us/step - loss: 0.3433 - acc: 0.8601\n",
      "Epoch 71/100\n",
      "7000/7000 [==============================] - 1s 202us/step - loss: 0.3435 - acc: 0.8591\n",
      "Epoch 72/100\n",
      "7000/7000 [==============================] - 1s 204us/step - loss: 0.3434 - acc: 0.8576\n",
      "Epoch 73/100\n",
      "7000/7000 [==============================] - 1s 201us/step - loss: 0.3443 - acc: 0.8590\n",
      "Epoch 74/100\n",
      "7000/7000 [==============================] - 1s 195us/step - loss: 0.3430 - acc: 0.8587\n",
      "Epoch 75/100\n",
      "7000/7000 [==============================] - 1s 202us/step - loss: 0.3425 - acc: 0.8580\n",
      "Epoch 76/100\n",
      "7000/7000 [==============================] - 1s 206us/step - loss: 0.3428 - acc: 0.8576\n",
      "Epoch 77/100\n",
      "7000/7000 [==============================] - 1s 202us/step - loss: 0.3428 - acc: 0.8591\n",
      "Epoch 78/100\n",
      "7000/7000 [==============================] - 1s 206us/step - loss: 0.3430 - acc: 0.8581\n",
      "Epoch 79/100\n",
      "7000/7000 [==============================] - 1s 208us/step - loss: 0.3427 - acc: 0.8583\n",
      "Epoch 80/100\n",
      "7000/7000 [==============================] - 1s 206us/step - loss: 0.3428 - acc: 0.8579\n",
      "Epoch 81/100\n",
      "7000/7000 [==============================] - 1s 207us/step - loss: 0.3420 - acc: 0.8600\n",
      "Epoch 82/100\n",
      "7000/7000 [==============================] - 1s 183us/step - loss: 0.3427 - acc: 0.8573\n",
      "Epoch 83/100\n",
      "7000/7000 [==============================] - 1s 177us/step - loss: 0.3421 - acc: 0.8591\n",
      "Epoch 84/100\n",
      "7000/7000 [==============================] - 1s 186us/step - loss: 0.3428 - acc: 0.8599\n",
      "Epoch 85/100\n",
      "7000/7000 [==============================] - 1s 192us/step - loss: 0.3420 - acc: 0.8596\n",
      "Epoch 86/100\n",
      "7000/7000 [==============================] - 1s 184us/step - loss: 0.3427 - acc: 0.8594\n",
      "Epoch 87/100\n",
      "7000/7000 [==============================] - 1s 181us/step - loss: 0.3425 - acc: 0.8600\n",
      "Epoch 88/100\n",
      "7000/7000 [==============================] - 1s 181us/step - loss: 0.3421 - acc: 0.8599\n",
      "Epoch 89/100\n",
      "7000/7000 [==============================] - 1s 196us/step - loss: 0.3426 - acc: 0.8589\n",
      "Epoch 90/100\n",
      "7000/7000 [==============================] - 1s 193us/step - loss: 0.3422 - acc: 0.8586\n",
      "Epoch 91/100\n",
      "7000/7000 [==============================] - 1s 188us/step - loss: 0.3419 - acc: 0.8616\n",
      "Epoch 92/100\n",
      "7000/7000 [==============================] - 1s 195us/step - loss: 0.3425 - acc: 0.8589\n",
      "Epoch 93/100\n",
      "7000/7000 [==============================] - 1s 187us/step - loss: 0.3423 - acc: 0.8589\n",
      "Epoch 94/100\n",
      "7000/7000 [==============================] - 1s 187us/step - loss: 0.3418 - acc: 0.8577\n",
      "Epoch 95/100\n",
      "7000/7000 [==============================] - 1s 193us/step - loss: 0.3420 - acc: 0.8591\n",
      "Epoch 96/100\n",
      "7000/7000 [==============================] - 1s 190us/step - loss: 0.3422 - acc: 0.8561\n",
      "Epoch 97/100\n",
      "7000/7000 [==============================] - 1s 191us/step - loss: 0.3411 - acc: 0.8599\n",
      "Epoch 98/100\n",
      "7000/7000 [==============================] - 1s 193us/step - loss: 0.3419 - acc: 0.8603\n",
      "Epoch 99/100\n",
      "7000/7000 [==============================] - 1s 201us/step - loss: 0.3418 - acc: 0.8617\n",
      "Epoch 100/100\n",
      "7000/7000 [==============================] - 1s 201us/step - loss: 0.3422 - acc: 0.8603\n"
     ]
    },
    {
     "data": {
      "text/plain": [
       "<keras.callbacks.History at 0x1762be1a940>"
      ]
     },
     "execution_count": 50,
     "metadata": {},
     "output_type": "execute_result"
    }
   ],
   "source": [
    "cl.fit(X_train,y_train,epochs = 100, batch_size= 10)"
   ]
  },
  {
   "cell_type": "code",
   "execution_count": 51,
   "metadata": {},
   "outputs": [],
   "source": [
    "pred = cl.predict(X_test)"
   ]
  },
  {
   "cell_type": "code",
   "execution_count": 52,
   "metadata": {},
   "outputs": [],
   "source": [
    "pred_class = cl.predict_classes(X_test)"
   ]
  },
  {
   "cell_type": "code",
   "execution_count": 53,
   "metadata": {},
   "outputs": [
    {
     "data": {
      "text/plain": [
       "array([[0],\n",
       "       [0],\n",
       "       [0],\n",
       "       ...,\n",
       "       [0],\n",
       "       [0],\n",
       "       [0]])"
      ]
     },
     "execution_count": 53,
     "metadata": {},
     "output_type": "execute_result"
    }
   ],
   "source": [
    "pred_class"
   ]
  },
  {
   "cell_type": "code",
   "execution_count": 56,
   "metadata": {},
   "outputs": [],
   "source": [
    "from sklearn.metrics import classification_report, confusion_matrix"
   ]
  },
  {
   "cell_type": "code",
   "execution_count": 57,
   "metadata": {},
   "outputs": [
    {
     "name": "stdout",
     "output_type": "stream",
     "text": [
      "             precision    recall  f1-score   support\n",
      "\n",
      "          0       0.88      0.97      0.92      2416\n",
      "          1       0.77      0.45      0.57       584\n",
      "\n",
      "avg / total       0.86      0.87      0.85      3000\n",
      "\n"
     ]
    }
   ],
   "source": [
    "print(classification_report(y_test,pred_class))"
   ]
  },
  {
   "cell_type": "code",
   "execution_count": null,
   "metadata": {},
   "outputs": [],
   "source": []
  },
  {
   "cell_type": "code",
   "execution_count": 58,
   "metadata": {},
   "outputs": [
    {
     "data": {
      "text/plain": [
       "array([[2335,   81],\n",
       "       [ 319,  265]], dtype=int64)"
      ]
     },
     "execution_count": 58,
     "metadata": {},
     "output_type": "execute_result"
    }
   ],
   "source": [
    "confusion_matrix(y_test,pred_class)"
   ]
  },
  {
   "cell_type": "code",
   "execution_count": 59,
   "metadata": {},
   "outputs": [
    {
     "data": {
      "text/plain": [
       "0.8666666666666667"
      ]
     },
     "execution_count": 59,
     "metadata": {},
     "output_type": "execute_result"
    }
   ],
   "source": [
    "(2335 + 265) / 3000"
   ]
  },
  {
   "cell_type": "code",
   "execution_count": null,
   "metadata": {},
   "outputs": [],
   "source": []
  }
 ],
 "metadata": {
  "kernelspec": {
   "display_name": "Python 3",
   "language": "python",
   "name": "python3"
  },
  "language_info": {
   "codemirror_mode": {
    "name": "ipython",
    "version": 3
   },
   "file_extension": ".py",
   "mimetype": "text/x-python",
   "name": "python",
   "nbconvert_exporter": "python",
   "pygments_lexer": "ipython3",
   "version": "3.6.8"
  }
 },
 "nbformat": 4,
 "nbformat_minor": 2
}
