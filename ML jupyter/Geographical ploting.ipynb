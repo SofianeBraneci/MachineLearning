{
 "cells": [
  {
   "cell_type": "code",
   "execution_count": 1,
   "metadata": {},
   "outputs": [],
   "source": [
    "import plotly.plotly as py\n",
    "import plotly.graph_objs as go "
   ]
  },
  {
   "cell_type": "code",
   "execution_count": 2,
   "metadata": {},
   "outputs": [],
   "source": [
    "from plotly.offline import download_plotlyjs, init_notebook_mode, plot, iplot"
   ]
  },
  {
   "cell_type": "code",
   "execution_count": 3,
   "metadata": {},
   "outputs": [
    {
     "data": {
      "text/html": [
       "<script type=\"text/javascript\">window.PlotlyConfig = {MathJaxConfig: 'local'};</script><script type=\"text/javascript\">if (window.MathJax) {MathJax.Hub.Config({SVG: {font: \"STIX-Web\"}});}</script><script>requirejs.config({paths: { 'plotly': ['https://cdn.plot.ly/plotly-latest.min']},});if(!window._Plotly) {require(['plotly'],function(plotly) {window._Plotly=plotly;});}</script>"
      ],
      "text/vnd.plotly.v1+html": [
       "<script type=\"text/javascript\">window.PlotlyConfig = {MathJaxConfig: 'local'};</script><script type=\"text/javascript\">if (window.MathJax) {MathJax.Hub.Config({SVG: {font: \"STIX-Web\"}});}</script><script>requirejs.config({paths: { 'plotly': ['https://cdn.plot.ly/plotly-latest.min']},});if(!window._Plotly) {require(['plotly'],function(plotly) {window._Plotly=plotly;});}</script>"
      ]
     },
     "metadata": {},
     "output_type": "display_data"
    }
   ],
   "source": [
    "init_notebook_mode(connected=True)"
   ]
  },
  {
   "cell_type": "code",
   "execution_count": 4,
   "metadata": {},
   "outputs": [],
   "source": [
    "data = dict(type = 'choropleth', locations = 'AZ CA NY'.split(),\n",
    "           locationmodes = 'USA-states', \n",
    "           colorscale= 'Portland',\n",
    "           text = ['text 1', 'text 2', 'text 3'],\n",
    "           z = [1.0,2.0,3.,],\n",
    "           colorbar = {'title':'Colorbar Title Goes Here'})"
   ]
  },
  {
   "cell_type": "code",
   "execution_count": 5,
   "metadata": {},
   "outputs": [
    {
     "data": {
      "text/plain": [
       "{'colorbar': {'title': 'Colorbar Title Goes Here'},\n",
       " 'colorscale': 'Portland',\n",
       " 'locationmodes': 'USA-states',\n",
       " 'locations': ['AZ', 'CA', 'NY'],\n",
       " 'text': ['text 1', 'text 2', 'text 3'],\n",
       " 'type': 'choropleth',\n",
       " 'z': [1.0, 2.0, 3.0]}"
      ]
     },
     "execution_count": 5,
     "metadata": {},
     "output_type": "execute_result"
    }
   ],
   "source": [
    "data"
   ]
  },
  {
   "cell_type": "code",
   "execution_count": 6,
   "metadata": {},
   "outputs": [],
   "source": [
    "layout = dict(geo = {'scope': 'usa'})"
   ]
  },
  {
   "cell_type": "code",
   "execution_count": 7,
   "metadata": {},
   "outputs": [
    {
     "ename": "ValueError",
     "evalue": "Invalid property specified for object of type plotly.graph_objs.Choropleth: 'locationmodes'\n\n    Valid properties:\n        autocolorscale\n            Determines whether the colorscale is a default palette\n            (`autocolorscale: true`) or the palette determined by\n            `colorscale`. In case `colorscale` is unspecified or\n            `autocolorscale` is true, the default  palette will be\n            chosen according to whether numbers in the `color`\n            array are all positive, all negative or mixed.\n        colorbar\n            plotly.graph_objs.choropleth.ColorBar instance or dict\n            with compatible properties\n        colorscale\n            Sets the colorscale. The colorscale must be an array\n            containing arrays mapping a normalized value to an rgb,\n            rgba, hex, hsl, hsv, or named color string. At minimum,\n            a mapping for the lowest (0) and highest (1) values are\n            required. For example, `[[0, 'rgb(0,0,255)', [1,\n            'rgb(255,0,0)']]`. To control the bounds of the\n            colorscale in color space, use`zmin` and `zmax`.\n            Alternatively, `colorscale` may be a palette name\n            string of the following list: Greys,YlGnBu,Greens,YlOrR\n            d,Bluered,RdBu,Reds,Blues,Picnic,Rainbow,Portland,Jet,H\n            ot,Blackbody,Earth,Electric,Viridis,Cividis.\n        customdata\n            Assigns extra data each datum. This may be useful when\n            listening to hover, click and selection events. Note\n            that, \"scatter\" traces also appends customdata items in\n            the markers DOM elements\n        customdatasrc\n            Sets the source reference on plot.ly for  customdata .\n        geo\n            Sets a reference between this trace's geospatial\n            coordinates and a geographic map. If \"geo\" (the default\n            value), the geospatial coordinates refer to\n            `layout.geo`. If \"geo2\", the geospatial coordinates\n            refer to `layout.geo2`, and so on.\n        hoverinfo\n            Determines which trace information appear on hover. If\n            `none` or `skip` are set, no information is displayed\n            upon hovering. But, if `none` is set, click and hover\n            events are still fired.\n        hoverinfosrc\n            Sets the source reference on plot.ly for  hoverinfo .\n        hoverlabel\n            plotly.graph_objs.choropleth.Hoverlabel instance or\n            dict with compatible properties\n        ids\n            Assigns id labels to each datum. These ids for object\n            constancy of data points during animation. Should be an\n            array of strings, not numbers or any other type.\n        idssrc\n            Sets the source reference on plot.ly for  ids .\n        legendgroup\n            Sets the legend group for this trace. Traces part of\n            the same legend group hide/show at the same time when\n            toggling legend items.\n        locationmode\n            Determines the set of locations used to match entries\n            in `locations` to regions on the map.\n        locations\n            Sets the coordinates via location IDs or names. See\n            `locationmode` for more info.\n        locationssrc\n            Sets the source reference on plot.ly for  locations .\n        marker\n            plotly.graph_objs.choropleth.Marker instance or dict\n            with compatible properties\n        name\n            Sets the trace name. The trace name appear as the\n            legend item and on hover.\n        opacity\n            Sets the opacity of the trace.\n        reversescale\n            Reverses the color mapping if true. If true, `zmin`\n            will correspond to the last color in the array and\n            `zmax` will correspond to the first color.\n        selected\n            plotly.graph_objs.choropleth.Selected instance or dict\n            with compatible properties\n        selectedpoints\n            Array containing integer indices of selected points.\n            Has an effect only for traces that support selections.\n            Note that an empty array means an empty selection where\n            the `unselected` are turned on for all points, whereas,\n            any other non-array values means no selection all where\n            the `selected` and `unselected` styles have no effect.\n        showlegend\n            Determines whether or not an item corresponding to this\n            trace is shown in the legend.\n        showscale\n            Determines whether or not a colorbar is displayed for\n            this trace.\n        stream\n            plotly.graph_objs.choropleth.Stream instance or dict\n            with compatible properties\n        text\n            Sets the text elements associated with each location.\n        textsrc\n            Sets the source reference on plot.ly for  text .\n        uid\n\n        unselected\n            plotly.graph_objs.choropleth.Unselected instance or\n            dict with compatible properties\n        visible\n            Determines whether or not this trace is visible. If\n            \"legendonly\", the trace is not drawn, but can appear as\n            a legend item (provided that the legend itself is\n            visible).\n        z\n            Sets the color values.\n        zauto\n            Determines whether or not the color domain is computed\n            with respect to the input data (here in `z`) or the\n            bounds set in `zmin` and `zmax`  Defaults to `false`\n            when `zmin` and `zmax` are set by the user.\n        zmax\n            Sets the upper bound of the color domain. Value should\n            have the same units as in `z` and if set, `zmin` must\n            be set as well.\n        zmin\n            Sets the lower bound of the color domain. Value should\n            have the same units as in `z` and if set, `zmax` must\n            be set as well.\n        zsrc\n            Sets the source reference on plot.ly for  z .\n        ",
     "output_type": "error",
     "traceback": [
      "\u001b[1;31m---------------------------------------------------------------------------\u001b[0m",
      "\u001b[1;31mValueError\u001b[0m                                Traceback (most recent call last)",
      "\u001b[1;32m<ipython-input-7-5e3c3fb631e4>\u001b[0m in \u001b[0;36m<module>\u001b[1;34m()\u001b[0m\n\u001b[1;32m----> 1\u001b[1;33m \u001b[0mgo\u001b[0m\u001b[1;33m.\u001b[0m\u001b[0mFigure\u001b[0m\u001b[1;33m(\u001b[0m\u001b[0mdata\u001b[0m \u001b[1;33m=\u001b[0m \u001b[1;33m[\u001b[0m\u001b[0mdata\u001b[0m\u001b[1;33m]\u001b[0m\u001b[1;33m,\u001b[0m \u001b[0mlayout\u001b[0m \u001b[1;33m=\u001b[0m \u001b[0mlayout\u001b[0m\u001b[1;33m)\u001b[0m\u001b[1;33m\u001b[0m\u001b[0m\n\u001b[0m",
      "\u001b[1;32mD:\\Anaconda\\lib\\site-packages\\plotly\\graph_objs\\_figure.py\u001b[0m in \u001b[0;36m__init__\u001b[1;34m(self, data, layout, frames, skip_invalid)\u001b[0m\n\u001b[0;32m    409\u001b[0m             \u001b[1;32mis\u001b[0m \u001b[0minvalid\u001b[0m \u001b[0mAND\u001b[0m \u001b[0mskip_invalid\u001b[0m \u001b[1;32mis\u001b[0m \u001b[1;32mFalse\u001b[0m\u001b[1;33m\u001b[0m\u001b[0m\n\u001b[0;32m    410\u001b[0m         \"\"\"\n\u001b[1;32m--> 411\u001b[1;33m         \u001b[0msuper\u001b[0m\u001b[1;33m(\u001b[0m\u001b[0mFigure\u001b[0m\u001b[1;33m,\u001b[0m \u001b[0mself\u001b[0m\u001b[1;33m)\u001b[0m\u001b[1;33m.\u001b[0m\u001b[0m__init__\u001b[0m\u001b[1;33m(\u001b[0m\u001b[0mdata\u001b[0m\u001b[1;33m,\u001b[0m \u001b[0mlayout\u001b[0m\u001b[1;33m,\u001b[0m \u001b[0mframes\u001b[0m\u001b[1;33m,\u001b[0m \u001b[0mskip_invalid\u001b[0m\u001b[1;33m)\u001b[0m\u001b[1;33m\u001b[0m\u001b[0m\n\u001b[0m\u001b[0;32m    412\u001b[0m \u001b[1;33m\u001b[0m\u001b[0m\n\u001b[0;32m    413\u001b[0m     def add_area(\n",
      "\u001b[1;32mD:\\Anaconda\\lib\\site-packages\\plotly\\basedatatypes.py\u001b[0m in \u001b[0;36m__init__\u001b[1;34m(self, data, layout_plotly, frames, skip_invalid)\u001b[0m\n\u001b[0;32m    139\u001b[0m         \u001b[1;31m# ### Import traces ###\u001b[0m\u001b[1;33m\u001b[0m\u001b[1;33m\u001b[0m\u001b[0m\n\u001b[0;32m    140\u001b[0m         data = self._data_validator.validate_coerce(data,\n\u001b[1;32m--> 141\u001b[1;33m                                                     skip_invalid=skip_invalid)\n\u001b[0m\u001b[0;32m    142\u001b[0m \u001b[1;33m\u001b[0m\u001b[0m\n\u001b[0;32m    143\u001b[0m         \u001b[1;31m# ### Save tuple of trace objects ###\u001b[0m\u001b[1;33m\u001b[0m\u001b[1;33m\u001b[0m\u001b[0m\n",
      "\u001b[1;32mD:\\Anaconda\\lib\\site-packages\\_plotly_utils\\basevalidators.py\u001b[0m in \u001b[0;36mvalidate_coerce\u001b[1;34m(self, v, skip_invalid)\u001b[0m\n\u001b[0;32m   2280\u001b[0m                     \u001b[1;32melse\u001b[0m\u001b[1;33m:\u001b[0m\u001b[1;33m\u001b[0m\u001b[0m\n\u001b[0;32m   2281\u001b[0m                         trace = self.class_map[trace_type](\n\u001b[1;32m-> 2282\u001b[1;33m                             skip_invalid=skip_invalid, **v_copy)\n\u001b[0m\u001b[0;32m   2283\u001b[0m                         \u001b[0mres\u001b[0m\u001b[1;33m.\u001b[0m\u001b[0mappend\u001b[0m\u001b[1;33m(\u001b[0m\u001b[0mtrace\u001b[0m\u001b[1;33m)\u001b[0m\u001b[1;33m\u001b[0m\u001b[0m\n\u001b[0;32m   2284\u001b[0m                 \u001b[1;32melse\u001b[0m\u001b[1;33m:\u001b[0m\u001b[1;33m\u001b[0m\u001b[0m\n",
      "\u001b[1;32mD:\\Anaconda\\lib\\site-packages\\plotly\\graph_objs\\_choropleth.py\u001b[0m in \u001b[0;36m__init__\u001b[1;34m(self, arg, autocolorscale, colorbar, colorscale, customdata, customdatasrc, geo, hoverinfo, hoverinfosrc, hoverlabel, ids, idssrc, legendgroup, locationmode, locations, locationssrc, marker, name, opacity, reversescale, selected, selectedpoints, showlegend, showscale, stream, text, textsrc, uid, unselected, visible, z, zauto, zmax, zmin, zsrc, **kwargs)\u001b[0m\n\u001b[0;32m   1497\u001b[0m         \u001b[1;31m# Process unknown kwargs\u001b[0m\u001b[1;33m\u001b[0m\u001b[1;33m\u001b[0m\u001b[0m\n\u001b[0;32m   1498\u001b[0m         \u001b[1;31m# ----------------------\u001b[0m\u001b[1;33m\u001b[0m\u001b[1;33m\u001b[0m\u001b[0m\n\u001b[1;32m-> 1499\u001b[1;33m         \u001b[0mself\u001b[0m\u001b[1;33m.\u001b[0m\u001b[0m_process_kwargs\u001b[0m\u001b[1;33m(\u001b[0m\u001b[1;33m**\u001b[0m\u001b[0mdict\u001b[0m\u001b[1;33m(\u001b[0m\u001b[0marg\u001b[0m\u001b[1;33m,\u001b[0m \u001b[1;33m**\u001b[0m\u001b[0mkwargs\u001b[0m\u001b[1;33m)\u001b[0m\u001b[1;33m)\u001b[0m\u001b[1;33m\u001b[0m\u001b[0m\n\u001b[0m\u001b[0;32m   1500\u001b[0m \u001b[1;33m\u001b[0m\u001b[0m\n\u001b[0;32m   1501\u001b[0m         \u001b[1;31m# Reset skip_invalid\u001b[0m\u001b[1;33m\u001b[0m\u001b[1;33m\u001b[0m\u001b[0m\n",
      "\u001b[1;32mD:\\Anaconda\\lib\\site-packages\\plotly\\basedatatypes.py\u001b[0m in \u001b[0;36m_process_kwargs\u001b[1;34m(self, **kwargs)\u001b[0m\n\u001b[0;32m   2378\u001b[0m         \"\"\"\n\u001b[0;32m   2379\u001b[0m         \u001b[1;32mif\u001b[0m \u001b[1;32mnot\u001b[0m \u001b[0mself\u001b[0m\u001b[1;33m.\u001b[0m\u001b[0m_skip_invalid\u001b[0m\u001b[1;33m:\u001b[0m\u001b[1;33m\u001b[0m\u001b[0m\n\u001b[1;32m-> 2380\u001b[1;33m             \u001b[0mself\u001b[0m\u001b[1;33m.\u001b[0m\u001b[0m_raise_on_invalid_property_error\u001b[0m\u001b[1;33m(\u001b[0m\u001b[1;33m*\u001b[0m\u001b[0mkwargs\u001b[0m\u001b[1;33m.\u001b[0m\u001b[0mkeys\u001b[0m\u001b[1;33m(\u001b[0m\u001b[1;33m)\u001b[0m\u001b[1;33m)\u001b[0m\u001b[1;33m\u001b[0m\u001b[0m\n\u001b[0m\u001b[0;32m   2381\u001b[0m \u001b[1;33m\u001b[0m\u001b[0m\n\u001b[0;32m   2382\u001b[0m     \u001b[1;33m@\u001b[0m\u001b[0mproperty\u001b[0m\u001b[1;33m\u001b[0m\u001b[0m\n",
      "\u001b[1;32mD:\\Anaconda\\lib\\site-packages\\plotly\\basedatatypes.py\u001b[0m in \u001b[0;36m_raise_on_invalid_property_error\u001b[1;34m(self, *args)\u001b[0m\n\u001b[0;32m   2972\u001b[0m                                  \u001b[0mfull_obj_name\u001b[0m\u001b[1;33m=\u001b[0m\u001b[0mfull_obj_name\u001b[0m\u001b[1;33m,\u001b[0m\u001b[1;33m\u001b[0m\u001b[0m\n\u001b[0;32m   2973\u001b[0m                                  \u001b[0minvalid_str\u001b[0m\u001b[1;33m=\u001b[0m\u001b[0minvalid_str\u001b[0m\u001b[1;33m,\u001b[0m\u001b[1;33m\u001b[0m\u001b[0m\n\u001b[1;32m-> 2974\u001b[1;33m                                  prop_descriptions=self._prop_descriptions))\n\u001b[0m\u001b[0;32m   2975\u001b[0m \u001b[1;33m\u001b[0m\u001b[0m\n\u001b[0;32m   2976\u001b[0m     \u001b[1;32mdef\u001b[0m \u001b[0mupdate\u001b[0m\u001b[1;33m(\u001b[0m\u001b[0mself\u001b[0m\u001b[1;33m,\u001b[0m \u001b[0mdict1\u001b[0m\u001b[1;33m=\u001b[0m\u001b[1;32mNone\u001b[0m\u001b[1;33m,\u001b[0m \u001b[1;33m**\u001b[0m\u001b[0mkwargs\u001b[0m\u001b[1;33m)\u001b[0m\u001b[1;33m:\u001b[0m\u001b[1;33m\u001b[0m\u001b[0m\n",
      "\u001b[1;31mValueError\u001b[0m: Invalid property specified for object of type plotly.graph_objs.Choropleth: 'locationmodes'\n\n    Valid properties:\n        autocolorscale\n            Determines whether the colorscale is a default palette\n            (`autocolorscale: true`) or the palette determined by\n            `colorscale`. In case `colorscale` is unspecified or\n            `autocolorscale` is true, the default  palette will be\n            chosen according to whether numbers in the `color`\n            array are all positive, all negative or mixed.\n        colorbar\n            plotly.graph_objs.choropleth.ColorBar instance or dict\n            with compatible properties\n        colorscale\n            Sets the colorscale. The colorscale must be an array\n            containing arrays mapping a normalized value to an rgb,\n            rgba, hex, hsl, hsv, or named color string. At minimum,\n            a mapping for the lowest (0) and highest (1) values are\n            required. For example, `[[0, 'rgb(0,0,255)', [1,\n            'rgb(255,0,0)']]`. To control the bounds of the\n            colorscale in color space, use`zmin` and `zmax`.\n            Alternatively, `colorscale` may be a palette name\n            string of the following list: Greys,YlGnBu,Greens,YlOrR\n            d,Bluered,RdBu,Reds,Blues,Picnic,Rainbow,Portland,Jet,H\n            ot,Blackbody,Earth,Electric,Viridis,Cividis.\n        customdata\n            Assigns extra data each datum. This may be useful when\n            listening to hover, click and selection events. Note\n            that, \"scatter\" traces also appends customdata items in\n            the markers DOM elements\n        customdatasrc\n            Sets the source reference on plot.ly for  customdata .\n        geo\n            Sets a reference between this trace's geospatial\n            coordinates and a geographic map. If \"geo\" (the default\n            value), the geospatial coordinates refer to\n            `layout.geo`. If \"geo2\", the geospatial coordinates\n            refer to `layout.geo2`, and so on.\n        hoverinfo\n            Determines which trace information appear on hover. If\n            `none` or `skip` are set, no information is displayed\n            upon hovering. But, if `none` is set, click and hover\n            events are still fired.\n        hoverinfosrc\n            Sets the source reference on plot.ly for  hoverinfo .\n        hoverlabel\n            plotly.graph_objs.choropleth.Hoverlabel instance or\n            dict with compatible properties\n        ids\n            Assigns id labels to each datum. These ids for object\n            constancy of data points during animation. Should be an\n            array of strings, not numbers or any other type.\n        idssrc\n            Sets the source reference on plot.ly for  ids .\n        legendgroup\n            Sets the legend group for this trace. Traces part of\n            the same legend group hide/show at the same time when\n            toggling legend items.\n        locationmode\n            Determines the set of locations used to match entries\n            in `locations` to regions on the map.\n        locations\n            Sets the coordinates via location IDs or names. See\n            `locationmode` for more info.\n        locationssrc\n            Sets the source reference on plot.ly for  locations .\n        marker\n            plotly.graph_objs.choropleth.Marker instance or dict\n            with compatible properties\n        name\n            Sets the trace name. The trace name appear as the\n            legend item and on hover.\n        opacity\n            Sets the opacity of the trace.\n        reversescale\n            Reverses the color mapping if true. If true, `zmin`\n            will correspond to the last color in the array and\n            `zmax` will correspond to the first color.\n        selected\n            plotly.graph_objs.choropleth.Selected instance or dict\n            with compatible properties\n        selectedpoints\n            Array containing integer indices of selected points.\n            Has an effect only for traces that support selections.\n            Note that an empty array means an empty selection where\n            the `unselected` are turned on for all points, whereas,\n            any other non-array values means no selection all where\n            the `selected` and `unselected` styles have no effect.\n        showlegend\n            Determines whether or not an item corresponding to this\n            trace is shown in the legend.\n        showscale\n            Determines whether or not a colorbar is displayed for\n            this trace.\n        stream\n            plotly.graph_objs.choropleth.Stream instance or dict\n            with compatible properties\n        text\n            Sets the text elements associated with each location.\n        textsrc\n            Sets the source reference on plot.ly for  text .\n        uid\n\n        unselected\n            plotly.graph_objs.choropleth.Unselected instance or\n            dict with compatible properties\n        visible\n            Determines whether or not this trace is visible. If\n            \"legendonly\", the trace is not drawn, but can appear as\n            a legend item (provided that the legend itself is\n            visible).\n        z\n            Sets the color values.\n        zauto\n            Determines whether or not the color domain is computed\n            with respect to the input data (here in `z`) or the\n            bounds set in `zmin` and `zmax`  Defaults to `false`\n            when `zmin` and `zmax` are set by the user.\n        zmax\n            Sets the upper bound of the color domain. Value should\n            have the same units as in `z` and if set, `zmin` must\n            be set as well.\n        zmin\n            Sets the lower bound of the color domain. Value should\n            have the same units as in `z` and if set, `zmax` must\n            be set as well.\n        zsrc\n            Sets the source reference on plot.ly for  z .\n        "
     ]
    }
   ],
   "source": [
    "go.Figure(data = [data], layout = layout)"
   ]
  },
  {
   "cell_type": "code",
   "execution_count": null,
   "metadata": {},
   "outputs": [],
   "source": []
  }
 ],
 "metadata": {
  "kernelspec": {
   "display_name": "Python 3",
   "language": "python",
   "name": "python3"
  },
  "language_info": {
   "codemirror_mode": {
    "name": "ipython",
    "version": 3
   },
   "file_extension": ".py",
   "mimetype": "text/x-python",
   "name": "python",
   "nbconvert_exporter": "python",
   "pygments_lexer": "ipython3",
   "version": "3.6.4"
  }
 },
 "nbformat": 4,
 "nbformat_minor": 2
}
