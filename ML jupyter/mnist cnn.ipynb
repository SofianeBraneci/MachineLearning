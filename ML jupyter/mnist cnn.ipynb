{
 "cells": [
  {
   "cell_type": "code",
   "execution_count": 1,
   "metadata": {},
   "outputs": [],
   "source": [
    "import numpy as np\n",
    "import matplotlib.pyplot as plt"
   ]
  },
  {
   "cell_type": "code",
   "execution_count": 2,
   "metadata": {},
   "outputs": [
    {
     "name": "stderr",
     "output_type": "stream",
     "text": [
      "D:\\Anaconda\\lib\\site-packages\\h5py\\__init__.py:36: FutureWarning: Conversion of the second argument of issubdtype from `float` to `np.floating` is deprecated. In future, it will be treated as `np.float64 == np.dtype(float).type`.\n",
      "  from ._conv import register_converters as _register_converters\n",
      "Using TensorFlow backend.\n"
     ]
    }
   ],
   "source": [
    "import keras"
   ]
  },
  {
   "cell_type": "code",
   "execution_count": 3,
   "metadata": {},
   "outputs": [],
   "source": [
    "from sklearn.datasets import load_digits"
   ]
  },
  {
   "cell_type": "code",
   "execution_count": 4,
   "metadata": {},
   "outputs": [],
   "source": [
    "digits, target = load_digits(return_X_y=True)"
   ]
  },
  {
   "cell_type": "code",
   "execution_count": 5,
   "metadata": {},
   "outputs": [
    {
     "data": {
      "text/plain": [
       "array([[ 0.,  0.,  5., ...,  0.,  0.,  0.],\n",
       "       [ 0.,  0.,  0., ..., 10.,  0.,  0.],\n",
       "       [ 0.,  0.,  0., ..., 16.,  9.,  0.],\n",
       "       ...,\n",
       "       [ 0.,  0.,  1., ...,  6.,  0.,  0.],\n",
       "       [ 0.,  0.,  2., ..., 12.,  0.,  0.],\n",
       "       [ 0.,  0., 10., ..., 12.,  1.,  0.]])"
      ]
     },
     "execution_count": 5,
     "metadata": {},
     "output_type": "execute_result"
    }
   ],
   "source": [
    "digits"
   ]
  },
  {
   "cell_type": "code",
   "execution_count": 6,
   "metadata": {},
   "outputs": [
    {
     "data": {
      "text/plain": [
       "<matplotlib.image.AxesImage at 0x2206ff2b5f8>"
      ]
     },
     "execution_count": 6,
     "metadata": {},
     "output_type": "execute_result"
    },
    {
     "data": {
      "image/png": "[encoded data removed]",
      "text/plain": [
       "<Figure size 432x288 with 1 Axes>"
      ]
     },
     "metadata": {
      "needs_background": "light"
     },
     "output_type": "display_data"
    }
   ],
   "source": [
    "plt.imshow(digits[70].reshape(8,8),cmap='gray')"
   ]
  },
  {
   "cell_type": "code",
   "execution_count": 7,
   "metadata": {},
   "outputs": [],
   "source": [
    "def reshape_images(images):\n",
    "    reshaped_images = []\n",
    "    for i in range(len(images)):\n",
    "        reshaped_images.append(images[i].reshape(8,8,1))\n",
    "    return np.array(reshaped_images)"
   ]
  },
  {
   "cell_type": "code",
   "execution_count": 8,
   "metadata": {},
   "outputs": [
    {
     "data": {
      "text/plain": [
       "(64,)"
      ]
     },
     "execution_count": 8,
     "metadata": {},
     "output_type": "execute_result"
    }
   ],
   "source": [
    "digits[0].shape"
   ]
  },
  {
   "cell_type": "code",
   "execution_count": 9,
   "metadata": {},
   "outputs": [],
   "source": [
    "images = digits"
   ]
  },
  {
   "cell_type": "code",
   "execution_count": 10,
   "metadata": {},
   "outputs": [
    {
     "data": {
      "text/plain": [
       "(64,)"
      ]
     },
     "execution_count": 10,
     "metadata": {},
     "output_type": "execute_result"
    }
   ],
   "source": [
    "images[0].shape"
   ]
  },
  {
   "cell_type": "code",
   "execution_count": null,
   "metadata": {},
   "outputs": [],
   "source": []
  },
  {
   "cell_type": "code",
   "execution_count": 11,
   "metadata": {},
   "outputs": [],
   "source": [
    "from sklearn.svm import SVC"
   ]
  },
  {
   "cell_type": "code",
   "execution_count": 12,
   "metadata": {},
   "outputs": [],
   "source": [
    "clf = SVC(gamma=0.001, C=300, decision_function_shape='ovo')"
   ]
  },
  {
   "cell_type": "code",
   "execution_count": 13,
   "metadata": {},
   "outputs": [
    {
     "data": {
      "text/plain": [
       "1797"
      ]
     },
     "execution_count": 13,
     "metadata": {},
     "output_type": "execute_result"
    }
   ],
   "source": [
    "len(images)"
   ]
  },
  {
   "cell_type": "code",
   "execution_count": 14,
   "metadata": {},
   "outputs": [
    {
     "data": {
      "text/plain": [
       "1797"
      ]
     },
     "execution_count": 14,
     "metadata": {},
     "output_type": "execute_result"
    }
   ],
   "source": [
    "539 + 1258"
   ]
  },
  {
   "cell_type": "code",
   "execution_count": 16,
   "metadata": {},
   "outputs": [],
   "source": [
    "X_train = digits[:1258]\n",
    "X_test = digits[1258:]\n",
    "y_train = target[:1258]\n",
    "y_test = target[1258:]"
   ]
  },
  {
   "cell_type": "code",
   "execution_count": 17,
   "metadata": {},
   "outputs": [
    {
     "data": {
      "text/plain": [
       "SVC(C=300, cache_size=200, class_weight=None, coef0=0.0,\n",
       "  decision_function_shape='ovo', degree=3, gamma=0.001, kernel='rbf',\n",
       "  max_iter=-1, probability=False, random_state=None, shrinking=True,\n",
       "  tol=0.001, verbose=False)"
      ]
     },
     "execution_count": 17,
     "metadata": {},
     "output_type": "execute_result"
    }
   ],
   "source": [
    "clf.fit(X_train, y_train)"
   ]
  },
  {
   "cell_type": "code",
   "execution_count": 18,
   "metadata": {},
   "outputs": [],
   "source": [
    "prediction = clf.predict(X_test)"
   ]
  },
  {
   "cell_type": "code",
   "execution_count": 19,
   "metadata": {},
   "outputs": [],
   "source": [
    "from sklearn.metrics import classification_report"
   ]
  },
  {
   "cell_type": "code",
   "execution_count": 20,
   "metadata": {},
   "outputs": [
    {
     "name": "stdout",
     "output_type": "stream",
     "text": [
      "             precision    recall  f1-score   support\n",
      "\n",
      "          0       1.00      0.98      0.99        53\n",
      "          1       0.96      1.00      0.98        53\n",
      "          2       1.00      0.98      0.99        53\n",
      "          3       0.96      0.91      0.93        53\n",
      "          4       0.98      0.95      0.96        56\n",
      "          5       0.95      0.98      0.96        56\n",
      "          6       0.98      0.98      0.98        54\n",
      "          7       1.00      1.00      1.00        54\n",
      "          8       0.94      0.98      0.96        52\n",
      "          9       0.95      0.96      0.95        55\n",
      "\n",
      "avg / total       0.97      0.97      0.97       539\n",
      "\n"
     ]
    }
   ],
   "source": [
    "print(classification_report(y_test, prediction))"
   ]
  },
  {
   "cell_type": "code",
   "execution_count": 21,
   "metadata": {},
   "outputs": [],
   "source": [
    "images = reshape_images(digits)"
   ]
  },
  {
   "cell_type": "code",
   "execution_count": 22,
   "metadata": {},
   "outputs": [],
   "source": [
    "from keras.layers import Dense, Dropout, Conv2D,MaxPool2D,Flatten\n",
    "from keras.models import Sequential"
   ]
  },
  {
   "cell_type": "code",
   "execution_count": 25,
   "metadata": {},
   "outputs": [],
   "source": [
    "targets = keras.utils.to_categorical(target, num_classes=10)"
   ]
  },
  {
   "cell_type": "code",
   "execution_count": 26,
   "metadata": {},
   "outputs": [
    {
     "data": {
      "text/plain": [
       "array([1., 0., 0., 0., 0., 0., 0., 0., 0., 0.], dtype=float32)"
      ]
     },
     "execution_count": 26,
     "metadata": {},
     "output_type": "execute_result"
    }
   ],
   "source": [
    "targets[0]"
   ]
  },
  {
   "cell_type": "markdown",
   "metadata": {},
   "source": [
    "# USING ANN"
   ]
  },
  {
   "cell_type": "code",
   "execution_count": 27,
   "metadata": {},
   "outputs": [],
   "source": [
    "model = Sequential([\n",
    "    Dense(units=16,kernel_initializer='uniform', activation='relu', input_shape=(64,)),\n",
    "    Dropout(rate=0.4),\n",
    "    Dense(units=12,kernel_initializer='uniform', activation='relu'),\n",
    "    Dense(units=10,kernel_initializer='uniform', activation='softmax')\n",
    "])"
   ]
  },
  {
   "cell_type": "code",
   "execution_count": 28,
   "metadata": {},
   "outputs": [],
   "source": [
    "model.compile(optimizer='adam', loss='categorical_crossentropy', metrics=['accuracy'])"
   ]
  },
  {
   "cell_type": "code",
   "execution_count": 29,
   "metadata": {},
   "outputs": [],
   "source": [
    "X_train = digits[:1258]\n",
    "X_test = digits[1258:]\n",
    "y_train = targets_[:1258]\n",
    "y_test = targets_[1258:]"
   ]
  },
  {
   "cell_type": "code",
   "execution_count": 30,
   "metadata": {},
   "outputs": [
    {
     "data": {
      "text/plain": [
       "(1258, 64)"
      ]
     },
     "execution_count": 30,
     "metadata": {},
     "output_type": "execute_result"
    }
   ],
   "source": [
    "X_train.shape"
   ]
  },
  {
   "cell_type": "code",
   "execution_count": 31,
   "metadata": {},
   "outputs": [
    {
     "name": "stdout",
     "output_type": "stream",
     "text": [
      "Train on 1258 samples, validate on 539 samples\n",
      "Epoch 1/100\n",
      "1258/1258 [==============================] - 1s 957us/step - loss: 2.1974 - acc: 0.1741 - val_loss: 1.8341 - val_acc: 0.3377\n",
      "Epoch 2/100\n",
      "1258/1258 [==============================] - 0s 246us/step - loss: 1.5433 - acc: 0.4134 - val_loss: 1.1616 - val_acc: 0.7161\n",
      "Epoch 3/100\n",
      "1258/1258 [==============================] - 0s 222us/step - loss: 1.1524 - acc: 0.5787 - val_loss: 0.9607 - val_acc: 0.7050\n",
      "Epoch 4/100\n",
      "1258/1258 [==============================] - 0s 236us/step - loss: 0.9951 - acc: 0.6407 - val_loss: 0.8112 - val_acc: 0.7885\n",
      "Epoch 5/100\n",
      "1258/1258 [==============================] - 0s 257us/step - loss: 0.8557 - acc: 0.6868 - val_loss: 0.7405 - val_acc: 0.8275\n",
      "Epoch 6/100\n",
      "1258/1258 [==============================] - 0s 244us/step - loss: 0.7981 - acc: 0.7178 - val_loss: 0.7032 - val_acc: 0.8367\n",
      "Epoch 7/100\n",
      "1258/1258 [==============================] - 0s 230us/step - loss: 0.7401 - acc: 0.7353 - val_loss: 0.6546 - val_acc: 0.8015\n",
      "Epoch 8/100\n",
      "1258/1258 [==============================] - 0s 260us/step - loss: 0.7054 - acc: 0.7504 - val_loss: 0.6049 - val_acc: 0.8442\n",
      "Epoch 9/100\n",
      "1258/1258 [==============================] - 0s 255us/step - loss: 0.6805 - acc: 0.7544 - val_loss: 0.5687 - val_acc: 0.8534\n",
      "Epoch 10/100\n",
      "1258/1258 [==============================] - 0s 253us/step - loss: 0.6489 - acc: 0.7631 - val_loss: 0.5830 - val_acc: 0.8330\n",
      "Epoch 11/100\n",
      "1258/1258 [==============================] - 0s 256us/step - loss: 0.5966 - acc: 0.7679 - val_loss: 0.5215 - val_acc: 0.8646\n",
      "Epoch 12/100\n",
      "1258/1258 [==============================] - 0s 269us/step - loss: 0.5837 - acc: 0.7862 - val_loss: 0.5360 - val_acc: 0.8590\n",
      "Epoch 13/100\n",
      "1258/1258 [==============================] - 0s 223us/step - loss: 0.5734 - acc: 0.7957 - val_loss: 0.4737 - val_acc: 0.8571\n",
      "Epoch 14/100\n",
      "1258/1258 [==============================] - 0s 221us/step - loss: 0.5101 - acc: 0.8140 - val_loss: 0.4680 - val_acc: 0.8720\n",
      "Epoch 15/100\n",
      "1258/1258 [==============================] - 0s 251us/step - loss: 0.4951 - acc: 0.8362 - val_loss: 0.4584 - val_acc: 0.8683\n",
      "Epoch 16/100\n",
      "1258/1258 [==============================] - 0s 218us/step - loss: 0.4872 - acc: 0.8291 - val_loss: 0.4612 - val_acc: 0.8720\n",
      "Epoch 17/100\n",
      "1258/1258 [==============================] - 0s 224us/step - loss: 0.5026 - acc: 0.8275 - val_loss: 0.4369 - val_acc: 0.8868\n",
      "Epoch 18/100\n",
      "1258/1258 [==============================] - 0s 212us/step - loss: 0.4676 - acc: 0.8299 - val_loss: 0.4492 - val_acc: 0.8887\n",
      "Epoch 19/100\n",
      "1258/1258 [==============================] - 0s 273us/step - loss: 0.4717 - acc: 0.8283 - val_loss: 0.4394 - val_acc: 0.8868\n",
      "Epoch 20/100\n",
      "1258/1258 [==============================] - 0s 258us/step - loss: 0.4490 - acc: 0.8442 - val_loss: 0.4292 - val_acc: 0.8813\n",
      "Epoch 21/100\n",
      "1258/1258 [==============================] - 0s 255us/step - loss: 0.4665 - acc: 0.8283 - val_loss: 0.4197 - val_acc: 0.8868\n",
      "Epoch 22/100\n",
      "1258/1258 [==============================] - 0s 228us/step - loss: 0.4175 - acc: 0.8458 - val_loss: 0.4157 - val_acc: 0.8868\n",
      "Epoch 23/100\n",
      "1258/1258 [==============================] - 0s 268us/step - loss: 0.4039 - acc: 0.8553 - val_loss: 0.4097 - val_acc: 0.8942\n",
      "Epoch 24/100\n",
      "1258/1258 [==============================] - 0s 273us/step - loss: 0.4328 - acc: 0.8434 - val_loss: 0.4172 - val_acc: 0.8887\n",
      "Epoch 25/100\n",
      "1258/1258 [==============================] - 0s 236us/step - loss: 0.4305 - acc: 0.8410 - val_loss: 0.4094 - val_acc: 0.8942\n",
      "Epoch 26/100\n",
      "1258/1258 [==============================] - 0s 286us/step - loss: 0.4060 - acc: 0.8529 - val_loss: 0.3987 - val_acc: 0.8980\n",
      "Epoch 27/100\n",
      "1258/1258 [==============================] - 0s 278us/step - loss: 0.4301 - acc: 0.8458 - val_loss: 0.4139 - val_acc: 0.8887\n",
      "Epoch 28/100\n",
      "1258/1258 [==============================] - 0s 273us/step - loss: 0.3960 - acc: 0.8561 - val_loss: 0.4025 - val_acc: 0.9017\n",
      "Epoch 29/100\n",
      "1258/1258 [==============================] - 0s 267us/step - loss: 0.3920 - acc: 0.8601 - val_loss: 0.3968 - val_acc: 0.9054\n",
      "Epoch 30/100\n",
      "1258/1258 [==============================] - 0s 240us/step - loss: 0.3730 - acc: 0.8736 - val_loss: 0.3997 - val_acc: 0.9072\n",
      "Epoch 31/100\n",
      "1258/1258 [==============================] - 0s 297us/step - loss: 0.3965 - acc: 0.8569 - val_loss: 0.4222 - val_acc: 0.9035\n",
      "Epoch 32/100\n",
      "1258/1258 [==============================] - 0s 259us/step - loss: 0.3933 - acc: 0.8577 - val_loss: 0.4240 - val_acc: 0.8980\n",
      "Epoch 33/100\n",
      "1258/1258 [==============================] - 0s 289us/step - loss: 0.3647 - acc: 0.8617 - val_loss: 0.3941 - val_acc: 0.8998\n",
      "Epoch 34/100\n",
      "1258/1258 [==============================] - 0s 304us/step - loss: 0.3544 - acc: 0.8736 - val_loss: 0.4152 - val_acc: 0.8961\n",
      "Epoch 35/100\n",
      "1258/1258 [==============================] - 0s 276us/step - loss: 0.3763 - acc: 0.8561 - val_loss: 0.4146 - val_acc: 0.8942\n",
      "Epoch 36/100\n",
      "1258/1258 [==============================] - 0s 267us/step - loss: 0.3552 - acc: 0.8792 - val_loss: 0.3453 - val_acc: 0.9165\n",
      "Epoch 37/100\n",
      "1258/1258 [==============================] - 0s 265us/step - loss: 0.3893 - acc: 0.8641 - val_loss: 0.4057 - val_acc: 0.8942\n",
      "Epoch 38/100\n",
      "1258/1258 [==============================] - 0s 225us/step - loss: 0.3623 - acc: 0.8712 - val_loss: 0.4042 - val_acc: 0.9072\n",
      "Epoch 39/100\n",
      "1258/1258 [==============================] - 0s 232us/step - loss: 0.3402 - acc: 0.8808 - val_loss: 0.4042 - val_acc: 0.9109\n",
      "Epoch 40/100\n",
      "1258/1258 [==============================] - 0s 233us/step - loss: 0.3677 - acc: 0.8672 - val_loss: 0.4202 - val_acc: 0.8980\n",
      "Epoch 41/100\n",
      "1258/1258 [==============================] - 0s 253us/step - loss: 0.3488 - acc: 0.8696 - val_loss: 0.4685 - val_acc: 0.9017\n",
      "Epoch 42/100\n",
      "1258/1258 [==============================] - 0s 269us/step - loss: 0.3259 - acc: 0.8855 - val_loss: 0.4326 - val_acc: 0.8980\n",
      "Epoch 43/100\n",
      "1258/1258 [==============================] - 0s 255us/step - loss: 0.3206 - acc: 0.8863 - val_loss: 0.3827 - val_acc: 0.9109\n",
      "Epoch 44/100\n",
      "1258/1258 [==============================] - 0s 240us/step - loss: 0.3366 - acc: 0.8808 - val_loss: 0.3737 - val_acc: 0.9128\n",
      "Epoch 45/100\n",
      "1258/1258 [==============================] - 0s 202us/step - loss: 0.3359 - acc: 0.8728 - val_loss: 0.4006 - val_acc: 0.9091\n",
      "Epoch 46/100\n",
      "1258/1258 [==============================] - 0s 198us/step - loss: 0.3409 - acc: 0.8649 - val_loss: 0.3771 - val_acc: 0.9128\n",
      "Epoch 47/100\n",
      "1258/1258 [==============================] - 0s 238us/step - loss: 0.3660 - acc: 0.8672 - val_loss: 0.3847 - val_acc: 0.9147\n",
      "Epoch 48/100\n",
      "1258/1258 [==============================] - 0s 239us/step - loss: 0.3325 - acc: 0.8800 - val_loss: 0.3623 - val_acc: 0.9128\n",
      "Epoch 49/100\n",
      "1258/1258 [==============================] - 0s 261us/step - loss: 0.3707 - acc: 0.8688 - val_loss: 0.3895 - val_acc: 0.9128\n",
      "Epoch 50/100\n",
      "1258/1258 [==============================] - 0s 262us/step - loss: 0.3626 - acc: 0.8641 - val_loss: 0.4065 - val_acc: 0.9054\n",
      "Epoch 51/100\n",
      "1258/1258 [==============================] - 0s 225us/step - loss: 0.3423 - acc: 0.8768 - val_loss: 0.4539 - val_acc: 0.9017\n",
      "Epoch 52/100\n",
      "1258/1258 [==============================] - 0s 256us/step - loss: 0.3112 - acc: 0.8935 - val_loss: 0.3973 - val_acc: 0.9035\n",
      "Epoch 53/100\n",
      "1258/1258 [==============================] - 0s 237us/step - loss: 0.3381 - acc: 0.8736 - val_loss: 0.3902 - val_acc: 0.9165\n",
      "Epoch 54/100\n",
      "1258/1258 [==============================] - 0s 253us/step - loss: 0.3346 - acc: 0.8792 - val_loss: 0.4164 - val_acc: 0.9184\n",
      "Epoch 55/100\n",
      "1258/1258 [==============================] - 0s 255us/step - loss: 0.3183 - acc: 0.8935 - val_loss: 0.3925 - val_acc: 0.9184\n",
      "Epoch 56/100\n",
      "1258/1258 [==============================] - 0s 200us/step - loss: 0.3237 - acc: 0.8808 - val_loss: 0.4031 - val_acc: 0.9072\n",
      "Epoch 57/100\n",
      "1258/1258 [==============================] - 0s 246us/step - loss: 0.3115 - acc: 0.8943 - val_loss: 0.4017 - val_acc: 0.9109\n",
      "Epoch 58/100\n",
      "1258/1258 [==============================] - 0s 194us/step - loss: 0.3605 - acc: 0.8625 - val_loss: 0.3945 - val_acc: 0.9054\n",
      "Epoch 59/100\n",
      "1258/1258 [==============================] - 0s 221us/step - loss: 0.3140 - acc: 0.8816 - val_loss: 0.4252 - val_acc: 0.9054\n",
      "Epoch 60/100\n",
      "1258/1258 [==============================] - 0s 225us/step - loss: 0.3234 - acc: 0.8816 - val_loss: 0.4004 - val_acc: 0.9184\n",
      "Epoch 61/100\n",
      "1258/1258 [==============================] - 0s 276us/step - loss: 0.2856 - acc: 0.8943 - val_loss: 0.4533 - val_acc: 0.8998\n",
      "Epoch 62/100\n",
      "1258/1258 [==============================] - 0s 297us/step - loss: 0.3201 - acc: 0.8935 - val_loss: 0.4186 - val_acc: 0.9017\n",
      "Epoch 63/100\n",
      "1258/1258 [==============================] - 0s 263us/step - loss: 0.3133 - acc: 0.8824 - val_loss: 0.3992 - val_acc: 0.9054\n",
      "Epoch 64/100\n",
      "1258/1258 [==============================] - 0s 240us/step - loss: 0.3337 - acc: 0.8688 - val_loss: 0.4124 - val_acc: 0.9072\n",
      "Epoch 65/100\n",
      "1258/1258 [==============================] - 0s 244us/step - loss: 0.3139 - acc: 0.8951 - val_loss: 0.3931 - val_acc: 0.9109\n",
      "Epoch 66/100\n",
      "1258/1258 [==============================] - 0s 233us/step - loss: 0.2869 - acc: 0.8975 - val_loss: 0.3800 - val_acc: 0.9184\n",
      "Epoch 67/100\n",
      "1258/1258 [==============================] - 0s 242us/step - loss: 0.3303 - acc: 0.8776 - val_loss: 0.4257 - val_acc: 0.9072\n",
      "Epoch 68/100\n",
      "1258/1258 [==============================] - 0s 275us/step - loss: 0.3269 - acc: 0.8808 - val_loss: 0.3773 - val_acc: 0.9202\n",
      "Epoch 69/100\n",
      "1258/1258 [==============================] - 0s 268us/step - loss: 0.2897 - acc: 0.8871 - val_loss: 0.4296 - val_acc: 0.9091\n",
      "Epoch 70/100\n",
      "1258/1258 [==============================] - 0s 219us/step - loss: 0.2988 - acc: 0.8847 - val_loss: 0.4538 - val_acc: 0.9054\n",
      "Epoch 71/100\n",
      "1258/1258 [==============================] - 0s 247us/step - loss: 0.2955 - acc: 0.8855 - val_loss: 0.5254 - val_acc: 0.8961\n",
      "Epoch 72/100\n",
      "1258/1258 [==============================] - 0s 227us/step - loss: 0.3527 - acc: 0.8728 - val_loss: 0.4532 - val_acc: 0.8961\n",
      "Epoch 73/100\n",
      "1258/1258 [==============================] - 0s 252us/step - loss: 0.2827 - acc: 0.9126 - val_loss: 0.4463 - val_acc: 0.9091\n",
      "Epoch 74/100\n",
      "1258/1258 [==============================] - 0s 246us/step - loss: 0.3323 - acc: 0.8752 - val_loss: 0.4260 - val_acc: 0.9091\n",
      "Epoch 75/100\n",
      "1258/1258 [==============================] - 0s 298us/step - loss: 0.2944 - acc: 0.8887 - val_loss: 0.4525 - val_acc: 0.9017\n",
      "Epoch 76/100\n",
      "1258/1258 [==============================] - 0s 210us/step - loss: 0.3225 - acc: 0.8800 - val_loss: 0.3977 - val_acc: 0.9091\n",
      "Epoch 77/100\n",
      "1258/1258 [==============================] - 0s 212us/step - loss: 0.3118 - acc: 0.8887 - val_loss: 0.4333 - val_acc: 0.9147\n",
      "Epoch 78/100\n",
      "1258/1258 [==============================] - 0s 277us/step - loss: 0.2821 - acc: 0.8990 - val_loss: 0.5029 - val_acc: 0.8942\n",
      "Epoch 79/100\n",
      "1258/1258 [==============================] - 0s 228us/step - loss: 0.3416 - acc: 0.8728 - val_loss: 0.4071 - val_acc: 0.9184\n",
      "Epoch 80/100\n",
      "1258/1258 [==============================] - 0s 238us/step - loss: 0.2770 - acc: 0.9006 - val_loss: 0.4885 - val_acc: 0.9054\n",
      "Epoch 81/100\n",
      "1258/1258 [==============================] - 0s 228us/step - loss: 0.2751 - acc: 0.9070 - val_loss: 0.4555 - val_acc: 0.8905\n",
      "Epoch 82/100\n",
      "1258/1258 [==============================] - 0s 253us/step - loss: 0.3018 - acc: 0.8863 - val_loss: 0.4243 - val_acc: 0.9091\n",
      "Epoch 83/100\n",
      "1258/1258 [==============================] - 0s 311us/step - loss: 0.2952 - acc: 0.8998 - val_loss: 0.4160 - val_acc: 0.9147\n",
      "Epoch 84/100\n",
      "1258/1258 [==============================] - 0s 296us/step - loss: 0.3256 - acc: 0.8824 - val_loss: 0.4851 - val_acc: 0.9091\n",
      "Epoch 85/100\n",
      "1258/1258 [==============================] - 0s 279us/step - loss: 0.3182 - acc: 0.8871 - val_loss: 0.4042 - val_acc: 0.9128\n",
      "Epoch 86/100\n",
      "1258/1258 [==============================] - 0s 291us/step - loss: 0.3077 - acc: 0.8855 - val_loss: 0.4542 - val_acc: 0.9017\n",
      "Epoch 87/100\n",
      "1258/1258 [==============================] - 0s 221us/step - loss: 0.3197 - acc: 0.8831 - val_loss: 0.4865 - val_acc: 0.9091\n",
      "Epoch 88/100\n",
      "1258/1258 [==============================] - 0s 285us/step - loss: 0.2981 - acc: 0.8927 - val_loss: 0.4006 - val_acc: 0.9128\n",
      "Epoch 89/100\n",
      "1258/1258 [==============================] - 0s 261us/step - loss: 0.2584 - acc: 0.9102 - val_loss: 0.4230 - val_acc: 0.9202\n",
      "Epoch 90/100\n",
      "1258/1258 [==============================] - 0s 286us/step - loss: 0.2802 - acc: 0.8943 - val_loss: 0.4239 - val_acc: 0.9165\n",
      "Epoch 91/100\n",
      "1258/1258 [==============================] - 0s 295us/step - loss: 0.3080 - acc: 0.8911 - val_loss: 0.4227 - val_acc: 0.9147\n",
      "Epoch 92/100\n",
      "1258/1258 [==============================] - 0s 325us/step - loss: 0.3162 - acc: 0.8871 - val_loss: 0.4568 - val_acc: 0.8924\n",
      "Epoch 93/100\n",
      "1258/1258 [==============================] - 0s 275us/step - loss: 0.3200 - acc: 0.8863 - val_loss: 0.4804 - val_acc: 0.9072\n",
      "Epoch 94/100\n",
      "1258/1258 [==============================] - 0s 225us/step - loss: 0.2790 - acc: 0.8983 - val_loss: 0.4943 - val_acc: 0.8942\n",
      "Epoch 95/100\n",
      "1258/1258 [==============================] - 0s 225us/step - loss: 0.2960 - acc: 0.8847 - val_loss: 0.4360 - val_acc: 0.8980\n",
      "Epoch 96/100\n",
      "1258/1258 [==============================] - 0s 249us/step - loss: 0.2911 - acc: 0.8967 - val_loss: 0.5000 - val_acc: 0.8924\n",
      "Epoch 97/100\n",
      "1258/1258 [==============================] - 0s 251us/step - loss: 0.3177 - acc: 0.8831 - val_loss: 0.4559 - val_acc: 0.9035\n",
      "Epoch 98/100\n",
      "1258/1258 [==============================] - 0s 244us/step - loss: 0.3091 - acc: 0.8863 - val_loss: 0.4277 - val_acc: 0.9109\n",
      "Epoch 99/100\n",
      "1258/1258 [==============================] - 0s 277us/step - loss: 0.2758 - acc: 0.8951 - val_loss: 0.4350 - val_acc: 0.9147\n",
      "Epoch 100/100\n",
      "1258/1258 [==============================] - 0s 227us/step - loss: 0.2868 - acc: 0.8927 - val_loss: 0.4443 - val_acc: 0.9054\n"
     ]
    }
   ],
   "source": [
    "hist = model.fit(X_train, y_train, epochs=100,batch_size=10,validation_data=(X_test,y_test),validation_split=0.25)"
   ]
  },
  {
   "cell_type": "code",
   "execution_count": 33,
   "metadata": {},
   "outputs": [],
   "source": [
    "history = hist"
   ]
  },
  {
   "cell_type": "code",
   "execution_count": 34,
   "metadata": {},
   "outputs": [
    {
     "data": {
      "image/png": "[encoded data removed]",
      "text/plain": [
       "<Figure size 432x288 with 1 Axes>"
      ]
     },
     "metadata": {
      "needs_background": "light"
     },
     "output_type": "display_data"
    },
    {
     "data": {
      "image/png": "[encoded data removed]",
      "text/plain": [
       "<Figure size 432x288 with 1 Axes>"
      ]
     },
     "metadata": {
      "needs_background": "light"
     },
     "output_type": "display_data"
    }
   ],
   "source": [
    "plt.plot(history.history['acc'])\n",
    "plt.plot(history.history['val_acc'])\n",
    "plt.title('Model accuracy')\n",
    "plt.ylabel('Accuracy')\n",
    "plt.xlabel('Epoch')\n",
    "plt.legend(['Train', 'Test'], loc='upper left')\n",
    "plt.show()\n",
    "\n",
    "# Plot training & validation loss values\n",
    "plt.plot(history.history['loss'])\n",
    "plt.plot(history.history['val_loss'])\n",
    "plt.title('Model loss')\n",
    "plt.ylabel('Loss')\n",
    "plt.xlabel('Epoch')\n",
    "plt.legend(['Train', 'Test'], loc='upper left')\n",
    "plt.show()"
   ]
  },
  {
   "cell_type": "code",
   "execution_count": 35,
   "metadata": {},
   "outputs": [],
   "source": [
    "pred = model.predict_classes(X_test)"
   ]
  },
  {
   "cell_type": "code",
   "execution_count": 36,
   "metadata": {},
   "outputs": [
    {
     "data": {
      "text/plain": [
       "array([0, 5, 3, 6, 9, 6, 4, 7, 5, 4, 4, 7, 2, 2, 2, 2, 5, 7, 9, 5, 4, 1,\n",
       "       8, 4, 9, 0, 8, 9, 8, 0, 9, 2, 3, 4, 5, 1, 7, 8, 9, 0, 1, 2, 3, 6,\n",
       "       5, 6, 7, 8, 9, 0, 1, 2, 3, 4, 5, 6, 7, 8, 9, 0, 9, 5, 5, 6, 5, 0,\n",
       "       9, 8, 9, 8, 4, 1, 7, 7, 3, 5, 1, 0, 0, 2, 5, 7, 8, 2, 0, 1, 2, 6,\n",
       "       3, 3, 7, 3, 3, 4, 6, 6, 6, 4, 9, 1, 5, 0, 9, 6, 2, 8, 3, 0, 0, 1,\n",
       "       7, 6, 3, 2, 1, 7, 4, 6, 3, 1, 3, 9, 1, 7, 6, 8, 6, 3, 1, 4, 0, 8,\n",
       "       3, 6, 9, 6, 1, 7, 5, 4, 4, 7, 2, 8, 2, 2, 5, 7, 9, 5, 4, 8, 8, 4,\n",
       "       9, 0, 8, 0, 1, 2, 3, 4, 5, 6, 7, 9, 9, 0, 1, 2, 3, 4, 5, 6, 7, 8,\n",
       "       9, 0, 1, 2, 3, 4, 5, 6, 7, 8, 9, 0, 9, 5, 5, 6, 5, 0, 9, 8, 9, 8,\n",
       "       4, 9, 7, 7, 3, 5, 9, 0, 0, 2, 2, 7, 8, 2, 0, 9, 2, 6, 3, 3, 7, 3,\n",
       "       3, 4, 6, 6, 6, 4, 9, 9, 5, 0, 9, 5, 2, 2, 2, 0, 0, 9, 7, 6, 3, 2,\n",
       "       1, 7, 4, 6, 3, 1, 3, 9, 1, 7, 6, 8, 4, 3, 9, 4, 0, 5, 3, 6, 9, 6,\n",
       "       1, 7, 5, 4, 4, 7, 2, 8, 2, 2, 5, 7, 9, 5, 4, 8, 8, 4, 9, 0, 9, 9,\n",
       "       8, 0, 1, 2, 3, 4, 5, 1, 8, 4, 9, 0, 1, 8, 3, 4, 5, 6, 9, 0, 4, 2,\n",
       "       3, 4, 5, 6, 7, 5, 7, 4, 9, 5, 5, 6, 5, 0, 9, 8, 9, 8, 4, 1, 7, 7,\n",
       "       3, 5, 1, 6, 0, 3, 2, 4, 8, 2, 0, 1, 2, 6, 1, 3, 7, 3, 3, 4, 6, 6,\n",
       "       6, 8, 9, 1, 5, 0, 9, 5, 3, 8, 0, 1, 7, 6, 3, 2, 1, 7, 8, 6, 3, 1,\n",
       "       3, 9, 1, 7, 6, 8, 4, 3, 1, 4, 0, 5, 3, 1, 9, 6, 1, 7, 5, 4, 4, 7,\n",
       "       8, 2, 5, 7, 3, 5, 8, 4, 5, 0, 8, 9, 1, 0, 1, 2, 3, 4, 5, 6, 7, 8,\n",
       "       9, 0, 1, 2, 2, 4, 5, 6, 7, 8, 9, 0, 1, 2, 8, 4, 5, 6, 7, 8, 9, 0,\n",
       "       9, 5, 5, 6, 5, 0, 9, 8, 9, 8, 4, 1, 7, 7, 1, 5, 1, 0, 0, 2, 2, 7,\n",
       "       8, 2, 0, 1, 2, 6, 3, 2, 7, 9, 3, 4, 6, 6, 6, 4, 9, 1, 5, 0, 9, 8,\n",
       "       3, 8, 2, 0, 0, 1, 7, 6, 3, 2, 1, 1, 4, 6, 3, 1, 3, 9, 1, 7, 6, 8,\n",
       "       4, 5, 1, 4, 0, 5, 3, 6, 9, 6, 1, 7, 5, 4, 4, 7, 2, 8, 2, 2, 5, 7,\n",
       "       9, 5, 4, 1, 8, 4, 9, 0, 8, 9, 8], dtype=int64)"
      ]
     },
     "execution_count": 36,
     "metadata": {},
     "output_type": "execute_result"
    }
   ],
   "source": [
    "pred"
   ]
  },
  {
   "cell_type": "code",
   "execution_count": 37,
   "metadata": {},
   "outputs": [
    {
     "name": "stdout",
     "output_type": "stream",
     "text": [
      "             precision    recall  f1-score   support\n",
      "\n",
      "          0       1.00      0.96      0.98        53\n",
      "          1       0.83      0.83      0.83        53\n",
      "          2       0.92      0.87      0.89        53\n",
      "          3       0.90      0.87      0.88        53\n",
      "          4       0.91      0.91      0.91        56\n",
      "          5       0.93      0.95      0.94        56\n",
      "          6       0.93      0.94      0.94        54\n",
      "          7       0.98      0.94      0.96        54\n",
      "          8       0.83      0.83      0.83        52\n",
      "          9       0.84      0.95      0.89        55\n",
      "\n",
      "avg / total       0.91      0.91      0.91       539\n",
      "\n"
     ]
    }
   ],
   "source": [
    "print(classification_report(y_test,keras.utils.to_categorical(pred)))"
   ]
  },
  {
   "cell_type": "code",
   "execution_count": 38,
   "metadata": {},
   "outputs": [],
   "source": [
    "# conv way\n",
    "images = reshape_images(digits)"
   ]
  },
  {
   "cell_type": "code",
   "execution_count": 39,
   "metadata": {},
   "outputs": [],
   "source": [
    "X_train = images[:1258]\n",
    "X_test = images[1258:]\n",
    "y_train = targets[:1258]\n",
    "y_test = targets[1258:]"
   ]
  },
  {
   "cell_type": "code",
   "execution_count": 95,
   "metadata": {},
   "outputs": [],
   "source": [
    "cnn = Sequential([\n",
    "    Conv2D(filters=128, kernel_size=(3,3), input_shape=(8,8,1),kernel_initializer='uniform'),\n",
    "    MaxPool2D(),\n",
    "    Conv2D(filters=64, kernel_size=(2,2),kernel_initializer='uniform'),\n",
    "    MaxPool2D(),\n",
    "    Dropout(0.6),\n",
    "    Flatten(),\n",
    "    Dense(units=16,kernel_initializer='uniform', activation='relu'),\n",
    "    Dropout(rate=0.4),\n",
    "    Dense(units=12,kernel_initializer='uniform', activation='relu'),\n",
    "    Dense(units=10,kernel_initializer='uniform', activation='softmax')\n",
    "    \n",
    "])"
   ]
  },
  {
   "cell_type": "code",
   "execution_count": 97,
   "metadata": {},
   "outputs": [],
   "source": [
    "cnn.compile(optimizer='adam', loss='categorical_crossentropy',metrics=['accuracy'])"
   ]
  },
  {
   "cell_type": "code",
   "execution_count": null,
   "metadata": {},
   "outputs": [
    {
     "name": "stdout",
     "output_type": "stream",
     "text": [
      "Train on 1258 samples, validate on 539 samples\n",
      "Epoch 1/300\n",
      "1258/1258 [==============================] - 3s 2ms/step - loss: 2.2910 - acc: 0.1129 - val_loss: 2.1973 - val_acc: 0.2078\n",
      "Epoch 2/300\n",
      "1258/1258 [==============================] - 1s 788us/step - loss: 1.9320 - acc: 0.2655 - val_loss: 1.5036 - val_acc: 0.4750\n",
      "Epoch 3/300\n",
      "1258/1258 [==============================] - 1s 873us/step - loss: 1.4187 - acc: 0.4730 - val_loss: 0.9864 - val_acc: 0.6698\n",
      "Epoch 4/300\n",
      "1258/1258 [==============================] - 1s 905us/step - loss: 1.1215 - acc: 0.5747 - val_loss: 0.8199 - val_acc: 0.7532\n",
      "Epoch 5/300\n",
      "1258/1258 [==============================] - 1s 843us/step - loss: 1.0276 - acc: 0.6296 - val_loss: 0.7495 - val_acc: 0.7681\n",
      "Epoch 6/300\n",
      "1258/1258 [==============================] - 1s 1ms/step - loss: 0.9144 - acc: 0.6558 - val_loss: 0.6828 - val_acc: 0.7477\n",
      "Epoch 7/300\n",
      "1258/1258 [==============================] - 1s 827us/step - loss: 0.8245 - acc: 0.6852 - val_loss: 0.6488 - val_acc: 0.7885\n",
      "Epoch 8/300\n",
      "1258/1258 [==============================] - 1s 849us/step - loss: 0.8142 - acc: 0.6940 - val_loss: 0.7030 - val_acc: 0.7829\n",
      "Epoch 9/300\n",
      "1258/1258 [==============================] - 1s 813us/step - loss: 0.8045 - acc: 0.7083 - val_loss: 0.6855 - val_acc: 0.7978\n",
      "Epoch 10/300\n",
      "1258/1258 [==============================] - 1s 816us/step - loss: 0.7860 - acc: 0.6932 - val_loss: 0.5773 - val_acc: 0.8237\n",
      "Epoch 11/300\n",
      "1258/1258 [==============================] - 1s 763us/step - loss: 0.7008 - acc: 0.7377 - val_loss: 0.6232 - val_acc: 0.8256\n",
      "Epoch 12/300\n",
      "1258/1258 [==============================] - 1s 790us/step - loss: 0.7227 - acc: 0.7377 - val_loss: 0.5563 - val_acc: 0.8386\n",
      "Epoch 13/300\n",
      "1258/1258 [==============================] - 1s 735us/step - loss: 0.6946 - acc: 0.7432 - val_loss: 0.6147 - val_acc: 0.8126\n",
      "Epoch 14/300\n",
      "1258/1258 [==============================] - 1s 749us/step - loss: 0.6300 - acc: 0.7456 - val_loss: 0.5677 - val_acc: 0.8423\n",
      "Epoch 15/300\n",
      "1258/1258 [==============================] - 1s 725us/step - loss: 0.6378 - acc: 0.7512 - val_loss: 0.5262 - val_acc: 0.8293\n",
      "Epoch 16/300\n",
      "1258/1258 [==============================] - 1s 751us/step - loss: 0.6441 - acc: 0.7599 - val_loss: 0.5480 - val_acc: 0.8330\n",
      "Epoch 17/300\n",
      "1258/1258 [==============================] - 1s 759us/step - loss: 0.5822 - acc: 0.7838 - val_loss: 0.4596 - val_acc: 0.8720\n",
      "Epoch 18/300\n",
      "1258/1258 [==============================] - 1s 753us/step - loss: 0.6276 - acc: 0.7599 - val_loss: 0.4816 - val_acc: 0.8720\n",
      "Epoch 19/300\n",
      "1258/1258 [==============================] - 1s 722us/step - loss: 0.5804 - acc: 0.7639 - val_loss: 0.4760 - val_acc: 0.8887\n",
      "Epoch 20/300\n",
      "1258/1258 [==============================] - 1s 810us/step - loss: 0.5727 - acc: 0.7838 - val_loss: 0.4413 - val_acc: 0.8720\n",
      "Epoch 21/300\n",
      "1258/1258 [==============================] - 1s 766us/step - loss: 0.5640 - acc: 0.7901 - val_loss: 0.4366 - val_acc: 0.8683\n",
      "Epoch 22/300\n",
      "1258/1258 [==============================] - 1s 716us/step - loss: 0.4969 - acc: 0.8092 - val_loss: 0.4166 - val_acc: 0.8942\n",
      "Epoch 23/300\n",
      "1258/1258 [==============================] - 1s 767us/step - loss: 0.5134 - acc: 0.8060 - val_loss: 0.4086 - val_acc: 0.8813\n",
      "Epoch 24/300\n",
      "1258/1258 [==============================] - 1s 703us/step - loss: 0.5321 - acc: 0.7822 - val_loss: 0.4236 - val_acc: 0.8813\n",
      "Epoch 25/300\n",
      "1258/1258 [==============================] - 1s 773us/step - loss: 0.5063 - acc: 0.8084 - val_loss: 0.4294 - val_acc: 0.8850\n",
      "Epoch 26/300\n",
      "1258/1258 [==============================] - 1s 867us/step - loss: 0.5135 - acc: 0.8076 - val_loss: 0.3606 - val_acc: 0.9035\n",
      "Epoch 27/300\n",
      "1258/1258 [==============================] - 1s 806us/step - loss: 0.4519 - acc: 0.8211 - val_loss: 0.4035 - val_acc: 0.8831\n",
      "Epoch 28/300\n",
      "1258/1258 [==============================] - 1s 744us/step - loss: 0.4755 - acc: 0.8092 - val_loss: 0.3846 - val_acc: 0.9035\n",
      "Epoch 29/300\n",
      "1258/1258 [==============================] - 1s 786us/step - loss: 0.4468 - acc: 0.8362 - val_loss: 0.4282 - val_acc: 0.8850\n",
      "Epoch 30/300\n",
      "1258/1258 [==============================] - 1s 783us/step - loss: 0.4413 - acc: 0.8339 - val_loss: 0.3943 - val_acc: 0.8980\n",
      "Epoch 31/300\n",
      "1258/1258 [==============================] - 1s 743us/step - loss: 0.4757 - acc: 0.8172 - val_loss: 0.4366 - val_acc: 0.8924\n",
      "Epoch 32/300\n",
      "1258/1258 [==============================] - 1s 850us/step - loss: 0.4572 - acc: 0.8132 - val_loss: 0.4198 - val_acc: 0.9035\n",
      "Epoch 33/300\n",
      "1258/1258 [==============================] - 1s 806us/step - loss: 0.4794 - acc: 0.8076 - val_loss: 0.4339 - val_acc: 0.8720\n",
      "Epoch 34/300\n",
      "1258/1258 [==============================] - 1s 762us/step - loss: 0.4712 - acc: 0.8068 - val_loss: 0.4181 - val_acc: 0.8850\n",
      "Epoch 35/300\n",
      "1258/1258 [==============================] - 1s 814us/step - loss: 0.4509 - acc: 0.8219 - val_loss: 0.4139 - val_acc: 0.8831\n",
      "Epoch 36/300\n",
      "1258/1258 [==============================] - 1s 820us/step - loss: 0.4184 - acc: 0.8299 - val_loss: 0.3527 - val_acc: 0.8980\n",
      "Epoch 37/300\n",
      "1258/1258 [==============================] - 1s 741us/step - loss: 0.4644 - acc: 0.8045 - val_loss: 0.3774 - val_acc: 0.9054\n",
      "Epoch 38/300\n",
      "1258/1258 [==============================] - 1s 777us/step - loss: 0.4219 - acc: 0.8339 - val_loss: 0.3804 - val_acc: 0.8998\n",
      "Epoch 39/300\n",
      "1258/1258 [==============================] - 1s 770us/step - loss: 0.4044 - acc: 0.8347 - val_loss: 0.3856 - val_acc: 0.8887\n",
      "Epoch 40/300\n",
      "1258/1258 [==============================] - 1s 794us/step - loss: 0.4265 - acc: 0.8339 - val_loss: 0.3507 - val_acc: 0.8961\n",
      "Epoch 41/300\n",
      "1258/1258 [==============================] - 1s 752us/step - loss: 0.4257 - acc: 0.8331 - val_loss: 0.3277 - val_acc: 0.9147\n",
      "Epoch 42/300\n",
      "1258/1258 [==============================] - 1s 749us/step - loss: 0.4126 - acc: 0.8267 - val_loss: 0.3351 - val_acc: 0.9128\n",
      "Epoch 43/300\n",
      "1258/1258 [==============================] - 1s 749us/step - loss: 0.4016 - acc: 0.8394 - val_loss: 0.3798 - val_acc: 0.8998\n",
      "Epoch 44/300\n",
      "1258/1258 [==============================] - 1s 803us/step - loss: 0.4490 - acc: 0.8283 - val_loss: 0.3211 - val_acc: 0.9128\n",
      "Epoch 45/300\n",
      "1258/1258 [==============================] - 1s 676us/step - loss: 0.3824 - acc: 0.8625 - val_loss: 0.3396 - val_acc: 0.9072\n",
      "Epoch 46/300\n",
      "1258/1258 [==============================] - 1s 799us/step - loss: 0.3822 - acc: 0.8601 - val_loss: 0.3241 - val_acc: 0.9202\n",
      "Epoch 47/300\n",
      "1258/1258 [==============================] - 1s 735us/step - loss: 0.4694 - acc: 0.8219 - val_loss: 0.3655 - val_acc: 0.8961\n",
      "Epoch 48/300\n",
      "1258/1258 [==============================] - 1s 794us/step - loss: 0.3985 - acc: 0.8593 - val_loss: 0.3155 - val_acc: 0.9184\n",
      "Epoch 49/300\n",
      "1258/1258 [==============================] - 1s 773us/step - loss: 0.4025 - acc: 0.8378 - val_loss: 0.3075 - val_acc: 0.9147\n",
      "Epoch 50/300\n",
      "1258/1258 [==============================] - 1s 743us/step - loss: 0.3426 - acc: 0.8657 - val_loss: 0.3080 - val_acc: 0.9202\n",
      "Epoch 51/300\n",
      "1258/1258 [==============================] - 1s 765us/step - loss: 0.3925 - acc: 0.8458 - val_loss: 0.2774 - val_acc: 0.9295\n",
      "Epoch 52/300\n",
      "1258/1258 [==============================] - 1s 786us/step - loss: 0.4092 - acc: 0.8323 - val_loss: 0.3489 - val_acc: 0.9017\n",
      "Epoch 53/300\n",
      "1258/1258 [==============================] - 1s 732us/step - loss: 0.3859 - acc: 0.8537 - val_loss: 0.2835 - val_acc: 0.9239\n",
      "Epoch 54/300\n",
      "1258/1258 [==============================] - 1s 744us/step - loss: 0.3661 - acc: 0.8609 - val_loss: 0.3838 - val_acc: 0.9072\n",
      "Epoch 55/300\n",
      "1258/1258 [==============================] - 1s 744us/step - loss: 0.3871 - acc: 0.8450 - val_loss: 0.3117 - val_acc: 0.9258\n",
      "Epoch 56/300\n",
      "1258/1258 [==============================] - 1s 879us/step - loss: 0.3831 - acc: 0.8514 - val_loss: 0.2763 - val_acc: 0.9276\n",
      "Epoch 57/300\n",
      "1258/1258 [==============================] - 1s 809us/step - loss: 0.3726 - acc: 0.8498 - val_loss: 0.3204 - val_acc: 0.9184\n",
      "Epoch 58/300\n",
      "1258/1258 [==============================] - 1s 779us/step - loss: 0.3809 - acc: 0.8490 - val_loss: 0.3333 - val_acc: 0.9221\n",
      "Epoch 59/300\n",
      "1258/1258 [==============================] - 1s 780us/step - loss: 0.3656 - acc: 0.8482 - val_loss: 0.3669 - val_acc: 0.9221\n",
      "Epoch 60/300\n",
      "1258/1258 [==============================] - 1s 753us/step - loss: 0.3934 - acc: 0.8506 - val_loss: 0.2754 - val_acc: 0.9276\n",
      "Epoch 61/300\n",
      "1258/1258 [==============================] - 1s 769us/step - loss: 0.4194 - acc: 0.8426 - val_loss: 0.2791 - val_acc: 0.9276\n",
      "Epoch 62/300\n",
      "1258/1258 [==============================] - 1s 749us/step - loss: 0.4033 - acc: 0.8490 - val_loss: 0.2596 - val_acc: 0.9295\n",
      "Epoch 63/300\n",
      "1258/1258 [==============================] - 1s 815us/step - loss: 0.3433 - acc: 0.8641 - val_loss: 0.2786 - val_acc: 0.9314\n",
      "Epoch 64/300\n",
      "1258/1258 [==============================] - 1s 821us/step - loss: 0.3464 - acc: 0.8649 - val_loss: 0.3107 - val_acc: 0.9351\n",
      "Epoch 65/300\n",
      "1258/1258 [==============================] - 1s 756us/step - loss: 0.3438 - acc: 0.8720 - val_loss: 0.3176 - val_acc: 0.9221\n",
      "Epoch 66/300\n",
      "1258/1258 [==============================] - 1s 860us/step - loss: 0.3664 - acc: 0.8601 - val_loss: 0.3071 - val_acc: 0.9239\n",
      "Epoch 67/300\n",
      "1258/1258 [==============================] - 1s 782us/step - loss: 0.3615 - acc: 0.8474 - val_loss: 0.3217 - val_acc: 0.9184\n",
      "Epoch 68/300\n",
      "1258/1258 [==============================] - 1s 834us/step - loss: 0.3496 - acc: 0.8633 - val_loss: 0.3387 - val_acc: 0.9184\n",
      "Epoch 69/300\n",
      "1258/1258 [==============================] - 1s 854us/step - loss: 0.3263 - acc: 0.8641 - val_loss: 0.3331 - val_acc: 0.9258\n",
      "Epoch 70/300\n",
      "1258/1258 [==============================] - 1s 776us/step - loss: 0.3366 - acc: 0.8696 - val_loss: 0.2898 - val_acc: 0.9332\n",
      "Epoch 71/300\n",
      "1258/1258 [==============================] - 1s 725us/step - loss: 0.3715 - acc: 0.8601 - val_loss: 0.2997 - val_acc: 0.9276\n",
      "Epoch 72/300\n",
      "1258/1258 [==============================] - 1s 685us/step - loss: 0.3378 - acc: 0.8672 - val_loss: 0.3486 - val_acc: 0.9239\n",
      "Epoch 73/300\n",
      "1258/1258 [==============================] - 1s 705us/step - loss: 0.3267 - acc: 0.8665 - val_loss: 0.2532 - val_acc: 0.9369\n",
      "Epoch 74/300\n",
      "1258/1258 [==============================] - 1s 792us/step - loss: 0.3529 - acc: 0.8561 - val_loss: 0.3547 - val_acc: 0.9276\n",
      "Epoch 75/300\n",
      "1258/1258 [==============================] - 1s 759us/step - loss: 0.3516 - acc: 0.8680 - val_loss: 0.2700 - val_acc: 0.9481\n",
      "Epoch 76/300\n",
      "1258/1258 [==============================] - 1s 745us/step - loss: 0.3504 - acc: 0.8482 - val_loss: 0.3053 - val_acc: 0.9276\n",
      "Epoch 77/300\n",
      "1258/1258 [==============================] - 1s 771us/step - loss: 0.3476 - acc: 0.8561 - val_loss: 0.2905 - val_acc: 0.9369\n",
      "Epoch 78/300\n",
      "1258/1258 [==============================] - 1s 751us/step - loss: 0.3682 - acc: 0.8529 - val_loss: 0.2777 - val_acc: 0.9369\n",
      "Epoch 79/300\n",
      "1258/1258 [==============================] - 1s 799us/step - loss: 0.3301 - acc: 0.8633 - val_loss: 0.3140 - val_acc: 0.9165\n",
      "Epoch 80/300\n",
      "1258/1258 [==============================] - 1s 788us/step - loss: 0.3566 - acc: 0.8688 - val_loss: 0.2591 - val_acc: 0.9332\n",
      "Epoch 81/300\n",
      "1258/1258 [==============================] - 1s 747us/step - loss: 0.3608 - acc: 0.8649 - val_loss: 0.2909 - val_acc: 0.9314\n",
      "Epoch 82/300\n",
      "1258/1258 [==============================] - 1s 740us/step - loss: 0.3617 - acc: 0.8617 - val_loss: 0.2483 - val_acc: 0.9425\n",
      "Epoch 83/300\n",
      "1258/1258 [==============================] - 1s 731us/step - loss: 0.3413 - acc: 0.8720 - val_loss: 0.2609 - val_acc: 0.9332\n",
      "Epoch 84/300\n",
      "1258/1258 [==============================] - 1s 735us/step - loss: 0.3426 - acc: 0.8641 - val_loss: 0.3370 - val_acc: 0.9295\n",
      "Epoch 85/300\n",
      "1258/1258 [==============================] - 1s 691us/step - loss: 0.3753 - acc: 0.8545 - val_loss: 0.3006 - val_acc: 0.9202\n",
      "Epoch 86/300\n",
      "1258/1258 [==============================] - 1s 742us/step - loss: 0.3199 - acc: 0.8728 - val_loss: 0.2763 - val_acc: 0.9332\n",
      "Epoch 87/300\n",
      "1258/1258 [==============================] - 1s 748us/step - loss: 0.3052 - acc: 0.8776 - val_loss: 0.2687 - val_acc: 0.9388\n",
      "Epoch 88/300\n",
      "1258/1258 [==============================] - 1s 721us/step - loss: 0.2955 - acc: 0.8784 - val_loss: 0.3279 - val_acc: 0.9314\n",
      "Epoch 89/300\n",
      "1258/1258 [==============================] - 1s 779us/step - loss: 0.3130 - acc: 0.8784 - val_loss: 0.3605 - val_acc: 0.9165\n",
      "Epoch 90/300\n",
      "1258/1258 [==============================] - 1s 771us/step - loss: 0.3300 - acc: 0.8760 - val_loss: 0.3225 - val_acc: 0.9239\n",
      "Epoch 91/300\n",
      "1258/1258 [==============================] - 1s 798us/step - loss: 0.3335 - acc: 0.8585 - val_loss: 0.3484 - val_acc: 0.9314\n",
      "Epoch 92/300\n",
      "1258/1258 [==============================] - 1s 791us/step - loss: 0.3615 - acc: 0.8545 - val_loss: 0.2860 - val_acc: 0.9202\n",
      "Epoch 93/300\n",
      "1258/1258 [==============================] - 1s 761us/step - loss: 0.3333 - acc: 0.8688 - val_loss: 0.2693 - val_acc: 0.9258\n",
      "Epoch 94/300\n",
      "1258/1258 [==============================] - 1s 669us/step - loss: 0.3576 - acc: 0.8474 - val_loss: 0.2614 - val_acc: 0.9332\n",
      "Epoch 95/300\n",
      "1258/1258 [==============================] - 1s 734us/step - loss: 0.3465 - acc: 0.8625 - val_loss: 0.2841 - val_acc: 0.9258\n",
      "Epoch 96/300\n",
      "1258/1258 [==============================] - 1s 749us/step - loss: 0.3192 - acc: 0.8831 - val_loss: 0.3217 - val_acc: 0.9314\n",
      "Epoch 97/300\n",
      "1258/1258 [==============================] - 1s 744us/step - loss: 0.3116 - acc: 0.8808 - val_loss: 0.2642 - val_acc: 0.9425\n",
      "Epoch 98/300\n",
      "1258/1258 [==============================] - 1s 755us/step - loss: 0.3249 - acc: 0.8728 - val_loss: 0.2739 - val_acc: 0.9369\n",
      "Epoch 99/300\n",
      "1258/1258 [==============================] - 1s 766us/step - loss: 0.3604 - acc: 0.8561 - val_loss: 0.2581 - val_acc: 0.9425\n",
      "Epoch 100/300\n",
      "1258/1258 [==============================] - 1s 756us/step - loss: 0.3120 - acc: 0.8712 - val_loss: 0.2490 - val_acc: 0.9406\n",
      "Epoch 101/300\n",
      "1258/1258 [==============================] - 1s 732us/step - loss: 0.3068 - acc: 0.8728 - val_loss: 0.2939 - val_acc: 0.9332\n",
      "Epoch 102/300\n",
      "1258/1258 [==============================] - 1s 737us/step - loss: 0.2648 - acc: 0.8927 - val_loss: 0.3056 - val_acc: 0.9239\n",
      "Epoch 103/300\n",
      "1258/1258 [==============================] - 1s 752us/step - loss: 0.3207 - acc: 0.8712 - val_loss: 0.2903 - val_acc: 0.9314\n",
      "Epoch 104/300\n",
      "1258/1258 [==============================] - 1s 739us/step - loss: 0.2922 - acc: 0.8784 - val_loss: 0.2869 - val_acc: 0.9425\n",
      "Epoch 105/300\n",
      "1258/1258 [==============================] - 1s 805us/step - loss: 0.2816 - acc: 0.8943 - val_loss: 0.2911 - val_acc: 0.9258\n",
      "Epoch 106/300\n",
      "1258/1258 [==============================] - 1s 772us/step - loss: 0.3360 - acc: 0.8593 - val_loss: 0.3713 - val_acc: 0.9295\n",
      "Epoch 107/300\n",
      "1258/1258 [==============================] - 1s 727us/step - loss: 0.3550 - acc: 0.8680 - val_loss: 0.3408 - val_acc: 0.9276\n",
      "Epoch 108/300\n",
      "1258/1258 [==============================] - 1s 787us/step - loss: 0.2850 - acc: 0.8839 - val_loss: 0.2850 - val_acc: 0.9332\n",
      "Epoch 109/300\n",
      "1258/1258 [==============================] - 1s 669us/step - loss: 0.3024 - acc: 0.8871 - val_loss: 0.2412 - val_acc: 0.9406\n",
      "Epoch 110/300\n",
      "1258/1258 [==============================] - 1s 659us/step - loss: 0.3008 - acc: 0.8752 - val_loss: 0.2932 - val_acc: 0.9425\n",
      "Epoch 111/300\n",
      "1258/1258 [==============================] - 1s 755us/step - loss: 0.3382 - acc: 0.8657 - val_loss: 0.2672 - val_acc: 0.9332\n",
      "Epoch 112/300\n",
      "1258/1258 [==============================] - 1s 735us/step - loss: 0.3103 - acc: 0.8776 - val_loss: 0.2283 - val_acc: 0.9443\n",
      "Epoch 113/300\n",
      "1258/1258 [==============================] - 1s 609us/step - loss: 0.3196 - acc: 0.8665 - val_loss: 0.2875 - val_acc: 0.9351\n",
      "Epoch 114/300\n",
      "1258/1258 [==============================] - 1s 697us/step - loss: 0.3232 - acc: 0.8752 - val_loss: 0.2556 - val_acc: 0.9332\n",
      "Epoch 115/300\n",
      "1258/1258 [==============================] - 1s 793us/step - loss: 0.2764 - acc: 0.8855 - val_loss: 0.2623 - val_acc: 0.9332\n",
      "Epoch 116/300\n",
      "1258/1258 [==============================] - 1s 849us/step - loss: 0.3631 - acc: 0.8649 - val_loss: 0.2639 - val_acc: 0.9443\n",
      "Epoch 117/300\n",
      "1258/1258 [==============================] - 1s 672us/step - loss: 0.3166 - acc: 0.8744 - val_loss: 0.2561 - val_acc: 0.9406\n",
      "Epoch 118/300\n",
      "1258/1258 [==============================] - 1s 703us/step - loss: 0.2990 - acc: 0.8808 - val_loss: 0.3342 - val_acc: 0.9295\n",
      "Epoch 119/300\n",
      "1258/1258 [==============================] - 1s 750us/step - loss: 0.3144 - acc: 0.8736 - val_loss: 0.2678 - val_acc: 0.9406\n",
      "Epoch 120/300\n",
      "1258/1258 [==============================] - 1s 753us/step - loss: 0.3377 - acc: 0.8752 - val_loss: 0.2509 - val_acc: 0.9332\n",
      "Epoch 121/300\n",
      "1258/1258 [==============================] - 1s 781us/step - loss: 0.3122 - acc: 0.8800 - val_loss: 0.3733 - val_acc: 0.9184\n",
      "Epoch 122/300\n",
      "1258/1258 [==============================] - 1s 757us/step - loss: 0.3152 - acc: 0.8871 - val_loss: 0.2991 - val_acc: 0.9276\n",
      "Epoch 123/300\n",
      "1258/1258 [==============================] - 1s 802us/step - loss: 0.3023 - acc: 0.8760 - val_loss: 0.3380 - val_acc: 0.9054\n",
      "Epoch 124/300\n",
      "1258/1258 [==============================] - 1s 734us/step - loss: 0.3082 - acc: 0.8768 - val_loss: 0.3021 - val_acc: 0.9239\n",
      "Epoch 125/300\n",
      "1258/1258 [==============================] - 1s 736us/step - loss: 0.2831 - acc: 0.8887 - val_loss: 0.2351 - val_acc: 0.9425\n",
      "Epoch 126/300\n",
      "1258/1258 [==============================] - 1s 771us/step - loss: 0.3256 - acc: 0.8712 - val_loss: 0.3015 - val_acc: 0.9258\n",
      "Epoch 127/300\n",
      "1258/1258 [==============================] - 1s 685us/step - loss: 0.3324 - acc: 0.8736 - val_loss: 0.2680 - val_acc: 0.9351\n",
      "Epoch 128/300\n",
      "1258/1258 [==============================] - 1s 706us/step - loss: 0.3141 - acc: 0.8863 - val_loss: 0.3162 - val_acc: 0.9314\n",
      "Epoch 129/300\n",
      "1258/1258 [==============================] - 1s 711us/step - loss: 0.3098 - acc: 0.8752 - val_loss: 0.3303 - val_acc: 0.9165\n",
      "Epoch 130/300\n",
      "1258/1258 [==============================] - 1s 713us/step - loss: 0.2870 - acc: 0.8824 - val_loss: 0.2906 - val_acc: 0.9258\n",
      "Epoch 131/300\n",
      "1258/1258 [==============================] - 1s 672us/step - loss: 0.3165 - acc: 0.8800 - val_loss: 0.2927 - val_acc: 0.9221\n",
      "Epoch 132/300\n",
      "1258/1258 [==============================] - 1s 765us/step - loss: 0.2727 - acc: 0.8927 - val_loss: 0.2622 - val_acc: 0.9314\n",
      "Epoch 133/300\n",
      "1258/1258 [==============================] - 1s 655us/step - loss: 0.2862 - acc: 0.8951 - val_loss: 0.3238 - val_acc: 0.9091\n",
      "Epoch 134/300\n",
      "1258/1258 [==============================] - 1s 684us/step - loss: 0.3000 - acc: 0.8744 - val_loss: 0.2942 - val_acc: 0.9332\n",
      "Epoch 135/300\n",
      "1258/1258 [==============================] - 1s 676us/step - loss: 0.2982 - acc: 0.8816 - val_loss: 0.2909 - val_acc: 0.9239\n",
      "Epoch 136/300\n",
      "1258/1258 [==============================] - 1s 715us/step - loss: 0.3014 - acc: 0.8927 - val_loss: 0.2949 - val_acc: 0.9258\n",
      "Epoch 137/300\n",
      "1258/1258 [==============================] - 1s 715us/step - loss: 0.2719 - acc: 0.8903 - val_loss: 0.3071 - val_acc: 0.9388\n",
      "Epoch 138/300\n",
      "1258/1258 [==============================] - 1s 648us/step - loss: 0.2363 - acc: 0.9022 - val_loss: 0.2902 - val_acc: 0.9314\n",
      "Epoch 139/300\n",
      "1258/1258 [==============================] - 1s 664us/step - loss: 0.2710 - acc: 0.8983 - val_loss: 0.3400 - val_acc: 0.9184\n",
      "Epoch 140/300\n",
      "1258/1258 [==============================] - 1s 714us/step - loss: 0.2890 - acc: 0.8951 - val_loss: 0.3107 - val_acc: 0.9202\n",
      "Epoch 141/300\n",
      "1258/1258 [==============================] - 1s 713us/step - loss: 0.3029 - acc: 0.8776 - val_loss: 0.3374 - val_acc: 0.9351\n",
      "Epoch 142/300\n",
      "1258/1258 [==============================] - 1s 724us/step - loss: 0.2967 - acc: 0.8760 - val_loss: 0.2764 - val_acc: 0.9351\n",
      "Epoch 143/300\n",
      "1258/1258 [==============================] - 1s 667us/step - loss: 0.3096 - acc: 0.8816 - val_loss: 0.2667 - val_acc: 0.9332\n",
      "Epoch 144/300\n",
      "1258/1258 [==============================] - 1s 681us/step - loss: 0.2834 - acc: 0.8744 - val_loss: 0.2591 - val_acc: 0.9462\n",
      "Epoch 145/300\n",
      "1258/1258 [==============================] - 1s 701us/step - loss: 0.2589 - acc: 0.8990 - val_loss: 0.2700 - val_acc: 0.9425\n",
      "Epoch 146/300\n",
      "1258/1258 [==============================] - 1s 659us/step - loss: 0.2583 - acc: 0.8959 - val_loss: 0.2739 - val_acc: 0.9406\n",
      "Epoch 147/300\n",
      "1258/1258 [==============================] - 1s 688us/step - loss: 0.3395 - acc: 0.8760 - val_loss: 0.2728 - val_acc: 0.9388\n",
      "Epoch 148/300\n",
      "1258/1258 [==============================] - 1s 685us/step - loss: 0.2915 - acc: 0.8855 - val_loss: 0.2689 - val_acc: 0.9332\n",
      "Epoch 149/300\n",
      "1258/1258 [==============================] - 1s 723us/step - loss: 0.2717 - acc: 0.8879 - val_loss: 0.3087 - val_acc: 0.9369\n",
      "Epoch 150/300\n",
      "1258/1258 [==============================] - 1s 718us/step - loss: 0.3041 - acc: 0.8760 - val_loss: 0.2991 - val_acc: 0.9314\n",
      "Epoch 151/300\n",
      "1258/1258 [==============================] - 1s 727us/step - loss: 0.2647 - acc: 0.8871 - val_loss: 0.2846 - val_acc: 0.9388\n",
      "Epoch 152/300\n",
      "1258/1258 [==============================] - 1s 682us/step - loss: 0.2867 - acc: 0.8951 - val_loss: 0.2865 - val_acc: 0.9462\n",
      "Epoch 153/300\n",
      "1258/1258 [==============================] - 1s 709us/step - loss: 0.2430 - acc: 0.9046 - val_loss: 0.3316 - val_acc: 0.9184\n",
      "Epoch 154/300\n",
      "1258/1258 [==============================] - 1s 760us/step - loss: 0.2536 - acc: 0.9062 - val_loss: 0.2882 - val_acc: 0.9314\n",
      "Epoch 155/300\n",
      "1258/1258 [==============================] - 1s 615us/step - loss: 0.2480 - acc: 0.8990 - val_loss: 0.2901 - val_acc: 0.9276\n",
      "Epoch 156/300\n",
      "1258/1258 [==============================] - 1s 692us/step - loss: 0.2924 - acc: 0.8863 - val_loss: 0.2923 - val_acc: 0.9351\n",
      "Epoch 157/300\n",
      "1258/1258 [==============================] - 1s 702us/step - loss: 0.2966 - acc: 0.8839 - val_loss: 0.3750 - val_acc: 0.9202\n",
      "Epoch 158/300\n",
      "1258/1258 [==============================] - 1s 656us/step - loss: 0.2618 - acc: 0.8935 - val_loss: 0.2601 - val_acc: 0.9443\n",
      "Epoch 159/300\n",
      "1258/1258 [==============================] - 1s 680us/step - loss: 0.3087 - acc: 0.8752 - val_loss: 0.3087 - val_acc: 0.9276\n",
      "Epoch 160/300\n",
      "1258/1258 [==============================] - 1s 687us/step - loss: 0.2576 - acc: 0.8990 - val_loss: 0.3093 - val_acc: 0.9314\n",
      "Epoch 161/300\n",
      "1258/1258 [==============================] - 1s 656us/step - loss: 0.3232 - acc: 0.8831 - val_loss: 0.3031 - val_acc: 0.9258\n",
      "Epoch 162/300\n",
      "1258/1258 [==============================] - 1s 663us/step - loss: 0.3204 - acc: 0.8784 - val_loss: 0.2757 - val_acc: 0.9258\n",
      "Epoch 163/300\n",
      "1258/1258 [==============================] - 1s 695us/step - loss: 0.2755 - acc: 0.8855 - val_loss: 0.2760 - val_acc: 0.9295\n",
      "Epoch 164/300\n",
      "1258/1258 [==============================] - 1s 659us/step - loss: 0.2920 - acc: 0.8903 - val_loss: 0.3359 - val_acc: 0.9147\n",
      "Epoch 165/300\n",
      "1258/1258 [==============================] - 1s 729us/step - loss: 0.2815 - acc: 0.8951 - val_loss: 0.3482 - val_acc: 0.9239\n",
      "Epoch 166/300\n",
      "1258/1258 [==============================] - 1s 689us/step - loss: 0.2615 - acc: 0.8824 - val_loss: 0.3672 - val_acc: 0.9332\n",
      "Epoch 167/300\n",
      "1258/1258 [==============================] - 1s 642us/step - loss: 0.2637 - acc: 0.8951 - val_loss: 0.3438 - val_acc: 0.9276\n",
      "Epoch 168/300\n",
      "1258/1258 [==============================] - 1s 637us/step - loss: 0.2572 - acc: 0.9014 - val_loss: 0.3034 - val_acc: 0.9276\n",
      "Epoch 169/300\n",
      "1258/1258 [==============================] - 1s 659us/step - loss: 0.3313 - acc: 0.8752 - val_loss: 0.3179 - val_acc: 0.9239\n",
      "Epoch 170/300\n",
      "1258/1258 [==============================] - 1s 677us/step - loss: 0.2754 - acc: 0.8959 - val_loss: 0.2829 - val_acc: 0.9276\n",
      "Epoch 171/300\n",
      "1258/1258 [==============================] - 1s 695us/step - loss: 0.2691 - acc: 0.8919 - val_loss: 0.3764 - val_acc: 0.9221\n",
      "Epoch 172/300\n",
      "1258/1258 [==============================] - 1s 695us/step - loss: 0.2538 - acc: 0.8983 - val_loss: 0.2874 - val_acc: 0.9314\n",
      "Epoch 173/300\n",
      "1258/1258 [==============================] - 1s 742us/step - loss: 0.2695 - acc: 0.8903 - val_loss: 0.3201 - val_acc: 0.9239\n",
      "Epoch 174/300\n",
      "1258/1258 [==============================] - 1s 639us/step - loss: 0.2884 - acc: 0.8895 - val_loss: 0.3331 - val_acc: 0.9276\n",
      "Epoch 175/300\n",
      "1258/1258 [==============================] - 1s 679us/step - loss: 0.2986 - acc: 0.8975 - val_loss: 0.2739 - val_acc: 0.9276\n",
      "Epoch 176/300\n",
      "1258/1258 [==============================] - 1s 689us/step - loss: 0.2855 - acc: 0.8911 - val_loss: 0.3118 - val_acc: 0.9165\n",
      "Epoch 177/300\n",
      "1258/1258 [==============================] - 1s 649us/step - loss: 0.2712 - acc: 0.8998 - val_loss: 0.2864 - val_acc: 0.9351\n",
      "Epoch 178/300\n",
      "1258/1258 [==============================] - 1s 650us/step - loss: 0.2880 - acc: 0.8879 - val_loss: 0.2674 - val_acc: 0.9351\n",
      "Epoch 179/300\n",
      "1258/1258 [==============================] - 1s 638us/step - loss: 0.2582 - acc: 0.8990 - val_loss: 0.3314 - val_acc: 0.9184\n",
      "Epoch 180/300\n",
      "1258/1258 [==============================] - 1s 625us/step - loss: 0.3021 - acc: 0.8895 - val_loss: 0.3360 - val_acc: 0.9369\n",
      "Epoch 181/300\n",
      "1258/1258 [==============================] - 1s 646us/step - loss: 0.2680 - acc: 0.8951 - val_loss: 0.3527 - val_acc: 0.9184\n",
      "Epoch 182/300\n",
      "1258/1258 [==============================] - 1s 624us/step - loss: 0.2581 - acc: 0.8967 - val_loss: 0.3421 - val_acc: 0.9276\n",
      "Epoch 183/300\n",
      "1258/1258 [==============================] - 1s 628us/step - loss: 0.2826 - acc: 0.8919 - val_loss: 0.2802 - val_acc: 0.9314\n",
      "Epoch 184/300\n",
      "1258/1258 [==============================] - 1s 613us/step - loss: 0.3164 - acc: 0.8776 - val_loss: 0.3263 - val_acc: 0.9202\n",
      "Epoch 185/300\n",
      "1258/1258 [==============================] - 1s 613us/step - loss: 0.2841 - acc: 0.8887 - val_loss: 0.2985 - val_acc: 0.9369\n",
      "Epoch 186/300\n",
      "1258/1258 [==============================] - 1s 624us/step - loss: 0.2704 - acc: 0.9014 - val_loss: 0.3643 - val_acc: 0.9369\n",
      "Epoch 187/300\n",
      "1258/1258 [==============================] - 1s 611us/step - loss: 0.2537 - acc: 0.9046 - val_loss: 0.3217 - val_acc: 0.9332\n",
      "Epoch 188/300\n",
      "1258/1258 [==============================] - 1s 608us/step - loss: 0.2790 - acc: 0.8927 - val_loss: 0.3476 - val_acc: 0.9202\n",
      "Epoch 189/300\n",
      "1258/1258 [==============================] - 1s 623us/step - loss: 0.2420 - acc: 0.9054 - val_loss: 0.2832 - val_acc: 0.9369\n",
      "Epoch 190/300\n",
      "1258/1258 [==============================] - 1s 618us/step - loss: 0.3140 - acc: 0.8855 - val_loss: 0.3155 - val_acc: 0.9369\n",
      "Epoch 191/300\n",
      "1258/1258 [==============================] - 1s 616us/step - loss: 0.3108 - acc: 0.8784 - val_loss: 0.3114 - val_acc: 0.9332\n",
      "Epoch 192/300\n",
      "1258/1258 [==============================] - 1s 618us/step - loss: 0.3187 - acc: 0.8728 - val_loss: 0.2964 - val_acc: 0.9276\n",
      "Epoch 193/300\n",
      "1258/1258 [==============================] - 1s 616us/step - loss: 0.2964 - acc: 0.8959 - val_loss: 0.2843 - val_acc: 0.9351\n",
      "Epoch 194/300\n",
      "1258/1258 [==============================] - 1s 600us/step - loss: 0.2766 - acc: 0.8927 - val_loss: 0.2933 - val_acc: 0.9221\n",
      "Epoch 195/300\n",
      "1258/1258 [==============================] - 1s 613us/step - loss: 0.2836 - acc: 0.8927 - val_loss: 0.3272 - val_acc: 0.9276\n",
      "Epoch 196/300\n",
      "1258/1258 [==============================] - 1s 611us/step - loss: 0.3064 - acc: 0.8760 - val_loss: 0.2731 - val_acc: 0.9351\n",
      "Epoch 197/300\n",
      "1258/1258 [==============================] - 1s 608us/step - loss: 0.3087 - acc: 0.8887 - val_loss: 0.2635 - val_acc: 0.9314\n",
      "Epoch 198/300\n",
      "1258/1258 [==============================] - 1s 650us/step - loss: 0.2821 - acc: 0.8887 - val_loss: 0.2692 - val_acc: 0.9276\n",
      "Epoch 199/300\n",
      "1258/1258 [==============================] - 1s 597us/step - loss: 0.2537 - acc: 0.8935 - val_loss: 0.2782 - val_acc: 0.9258\n",
      "Epoch 200/300\n",
      "1258/1258 [==============================] - 1s 642us/step - loss: 0.2569 - acc: 0.8967 - val_loss: 0.2778 - val_acc: 0.9406\n",
      "Epoch 201/300\n",
      "1258/1258 [==============================] - 1s 610us/step - loss: 0.2424 - acc: 0.9094 - val_loss: 0.2545 - val_acc: 0.9276\n",
      "Epoch 202/300\n",
      "1258/1258 [==============================] - 1s 737us/step - loss: 0.2729 - acc: 0.8967 - val_loss: 0.2586 - val_acc: 0.9388\n",
      "Epoch 203/300\n",
      "1258/1258 [==============================] - 1s 673us/step - loss: 0.2618 - acc: 0.8983 - val_loss: 0.2799 - val_acc: 0.9332\n",
      "Epoch 204/300\n",
      "1258/1258 [==============================] - 1s 785us/step - loss: 0.2668 - acc: 0.9038 - val_loss: 0.2923 - val_acc: 0.9388\n",
      "Epoch 205/300\n",
      "1258/1258 [==============================] - 1s 748us/step - loss: 0.2957 - acc: 0.8919 - val_loss: 0.2602 - val_acc: 0.9276\n",
      "Epoch 206/300\n",
      "1258/1258 [==============================] - 1s 787us/step - loss: 0.2486 - acc: 0.9046 - val_loss: 0.2577 - val_acc: 0.9332\n",
      "Epoch 207/300\n",
      "1258/1258 [==============================] - 1s 734us/step - loss: 0.2374 - acc: 0.9022 - val_loss: 0.2586 - val_acc: 0.9314\n",
      "Epoch 208/300\n",
      "1258/1258 [==============================] - 1s 662us/step - loss: 0.2531 - acc: 0.9006 - val_loss: 0.2845 - val_acc: 0.9351\n",
      "Epoch 209/300\n",
      "1258/1258 [==============================] - 1s 680us/step - loss: 0.2849 - acc: 0.8863 - val_loss: 0.2539 - val_acc: 0.9351\n",
      "Epoch 210/300\n",
      "1258/1258 [==============================] - 1s 645us/step - loss: 0.2285 - acc: 0.9110 - val_loss: 0.2746 - val_acc: 0.9388\n",
      "Epoch 211/300\n",
      "1258/1258 [==============================] - 1s 634us/step - loss: 0.2653 - acc: 0.9014 - val_loss: 0.2801 - val_acc: 0.9276\n",
      "Epoch 212/300\n",
      "1258/1258 [==============================] - 1s 605us/step - loss: 0.2523 - acc: 0.8959 - val_loss: 0.2750 - val_acc: 0.9351\n",
      "Epoch 213/300\n",
      "1258/1258 [==============================] - 1s 662us/step - loss: 0.2678 - acc: 0.8895 - val_loss: 0.2684 - val_acc: 0.9239\n",
      "Epoch 214/300\n",
      "1258/1258 [==============================] - 1s 679us/step - loss: 0.3201 - acc: 0.8744 - val_loss: 0.2506 - val_acc: 0.9406\n",
      "Epoch 215/300\n",
      "1258/1258 [==============================] - 1s 624us/step - loss: 0.2505 - acc: 0.8951 - val_loss: 0.2701 - val_acc: 0.9388\n",
      "Epoch 216/300\n",
      "1258/1258 [==============================] - 1s 581us/step - loss: 0.2772 - acc: 0.8967 - val_loss: 0.2800 - val_acc: 0.9388\n",
      "Epoch 217/300\n",
      "1258/1258 [==============================] - 1s 588us/step - loss: 0.2732 - acc: 0.8998 - val_loss: 0.3013 - val_acc: 0.9314\n",
      "Epoch 218/300\n",
      "1258/1258 [==============================] - 1s 574us/step - loss: 0.2581 - acc: 0.8935 - val_loss: 0.3164 - val_acc: 0.9239\n",
      "Epoch 219/300\n",
      "1258/1258 [==============================] - 1s 606us/step - loss: 0.2549 - acc: 0.9022 - val_loss: 0.3442 - val_acc: 0.9314\n",
      "Epoch 220/300\n",
      "1258/1258 [==============================] - 1s 557us/step - loss: 0.2631 - acc: 0.9110 - val_loss: 0.3105 - val_acc: 0.9351\n",
      "Epoch 221/300\n",
      "1258/1258 [==============================] - 1s 564us/step - loss: 0.2748 - acc: 0.8863 - val_loss: 0.2659 - val_acc: 0.9462\n",
      "Epoch 222/300\n",
      "1258/1258 [==============================] - 1s 575us/step - loss: 0.2713 - acc: 0.9054 - val_loss: 0.2394 - val_acc: 0.9462\n",
      "Epoch 223/300\n",
      "1258/1258 [==============================] - 1s 566us/step - loss: 0.2770 - acc: 0.8903 - val_loss: 0.2729 - val_acc: 0.9499\n",
      "Epoch 224/300\n",
      "1258/1258 [==============================] - 1s 569us/step - loss: 0.2611 - acc: 0.8887 - val_loss: 0.2359 - val_acc: 0.9499\n",
      "Epoch 225/300\n",
      "1258/1258 [==============================] - 1s 554us/step - loss: 0.2428 - acc: 0.9046 - val_loss: 0.2450 - val_acc: 0.9425\n",
      "Epoch 226/300\n",
      "1258/1258 [==============================] - 1s 570us/step - loss: 0.2518 - acc: 0.9022 - val_loss: 0.2429 - val_acc: 0.9388\n",
      "Epoch 227/300\n",
      "1258/1258 [==============================] - 1s 583us/step - loss: 0.2567 - acc: 0.8967 - val_loss: 0.2717 - val_acc: 0.9462\n",
      "Epoch 228/300\n",
      "1258/1258 [==============================] - 1s 638us/step - loss: 0.2419 - acc: 0.9038 - val_loss: 0.2280 - val_acc: 0.9406\n",
      "Epoch 229/300\n",
      "1258/1258 [==============================] - 1s 637us/step - loss: 0.2659 - acc: 0.8990 - val_loss: 0.3165 - val_acc: 0.9332\n",
      "Epoch 230/300\n",
      "1258/1258 [==============================] - 1s 549us/step - loss: 0.2537 - acc: 0.9046 - val_loss: 0.2676 - val_acc: 0.9369\n",
      "Epoch 231/300\n",
      "1258/1258 [==============================] - 1s 547us/step - loss: 0.2262 - acc: 0.9157 - val_loss: 0.2577 - val_acc: 0.9332\n",
      "Epoch 232/300\n",
      "1258/1258 [==============================] - 1s 600us/step - loss: 0.2823 - acc: 0.8935 - val_loss: 0.3058 - val_acc: 0.9332\n",
      "Epoch 233/300\n",
      "1258/1258 [==============================] - 1s 615us/step - loss: 0.2301 - acc: 0.9046 - val_loss: 0.3220 - val_acc: 0.9258\n",
      "Epoch 234/300\n",
      "1258/1258 [==============================] - 1s 596us/step - loss: 0.2329 - acc: 0.9086 - val_loss: 0.3173 - val_acc: 0.9351\n",
      "Epoch 235/300\n",
      "1258/1258 [==============================] - 1s 530us/step - loss: 0.2798 - acc: 0.8855 - val_loss: 0.2694 - val_acc: 0.9425\n",
      "Epoch 236/300\n",
      "1258/1258 [==============================] - 1s 540us/step - loss: 0.2695 - acc: 0.9022 - val_loss: 0.3108 - val_acc: 0.9258\n",
      "Epoch 237/300\n",
      "1258/1258 [==============================] - 1s 555us/step - loss: 0.2617 - acc: 0.8975 - val_loss: 0.2827 - val_acc: 0.9258\n",
      "Epoch 238/300\n",
      "1258/1258 [==============================] - 1s 617us/step - loss: 0.2731 - acc: 0.8895 - val_loss: 0.2564 - val_acc: 0.9351\n",
      "Epoch 239/300\n",
      "1258/1258 [==============================] - 1s 611us/step - loss: 0.2571 - acc: 0.8919 - val_loss: 0.2121 - val_acc: 0.9536\n",
      "Epoch 240/300\n",
      "1258/1258 [==============================] - 1s 522us/step - loss: 0.2525 - acc: 0.8983 - val_loss: 0.2124 - val_acc: 0.9462\n",
      "Epoch 241/300\n",
      "1258/1258 [==============================] - 1s 548us/step - loss: 0.2731 - acc: 0.8951 - val_loss: 0.3253 - val_acc: 0.9295\n",
      "Epoch 242/300\n",
      "1258/1258 [==============================] - 1s 549us/step - loss: 0.2886 - acc: 0.8816 - val_loss: 0.3975 - val_acc: 0.9332\n",
      "Epoch 243/300\n",
      "1258/1258 [==============================] - 1s 545us/step - loss: 0.2470 - acc: 0.9006 - val_loss: 0.2936 - val_acc: 0.9369\n",
      "Epoch 244/300\n",
      "1258/1258 [==============================] - 1s 530us/step - loss: 0.2887 - acc: 0.8863 - val_loss: 0.3525 - val_acc: 0.9351\n",
      "Epoch 245/300\n",
      "1258/1258 [==============================] - 1s 509us/step - loss: 0.1993 - acc: 0.9213 - val_loss: 0.3164 - val_acc: 0.9332\n",
      "Epoch 246/300\n",
      "1258/1258 [==============================] - 1s 508us/step - loss: 0.2536 - acc: 0.9006 - val_loss: 0.3660 - val_acc: 0.9314\n",
      "Epoch 247/300\n",
      "1258/1258 [==============================] - 1s 505us/step - loss: 0.2495 - acc: 0.9054 - val_loss: 0.2702 - val_acc: 0.9276\n",
      "Epoch 248/300\n",
      "1258/1258 [==============================] - 1s 502us/step - loss: 0.2331 - acc: 0.9110 - val_loss: 0.3399 - val_acc: 0.9314\n",
      "Epoch 249/300\n",
      "1258/1258 [==============================] - 1s 507us/step - loss: 0.2820 - acc: 0.8943 - val_loss: 0.2993 - val_acc: 0.9406\n",
      "Epoch 250/300\n",
      "1258/1258 [==============================] - 1s 509us/step - loss: 0.2841 - acc: 0.8887 - val_loss: 0.3089 - val_acc: 0.9072\n",
      "Epoch 251/300\n",
      "1258/1258 [==============================] - 1s 553us/step - loss: 0.2798 - acc: 0.8967 - val_loss: 0.2712 - val_acc: 0.9518\n",
      "Epoch 252/300\n",
      "1258/1258 [==============================] - 1s 576us/step - loss: 0.2382 - acc: 0.9149 - val_loss: 0.2496 - val_acc: 0.9499\n",
      "Epoch 253/300\n",
      "1258/1258 [==============================] - 1s 592us/step - loss: 0.2808 - acc: 0.8959 - val_loss: 0.2786 - val_acc: 0.9425\n",
      "Epoch 254/300\n",
      "1258/1258 [==============================] - 1s 534us/step - loss: 0.1920 - acc: 0.9197 - val_loss: 0.3063 - val_acc: 0.9369\n",
      "Epoch 255/300\n",
      "1258/1258 [==============================] - 1s 562us/step - loss: 0.2255 - acc: 0.9110 - val_loss: 0.2771 - val_acc: 0.9425\n",
      "Epoch 256/300\n",
      "1258/1258 [==============================] - 1s 579us/step - loss: 0.2808 - acc: 0.8959 - val_loss: 0.2769 - val_acc: 0.9388\n",
      "Epoch 257/300\n",
      "1258/1258 [==============================] - 1s 608us/step - loss: 0.2428 - acc: 0.9070 - val_loss: 0.2660 - val_acc: 0.9332\n",
      "Epoch 258/300\n",
      "1258/1258 [==============================] - 1s 575us/step - loss: 0.2411 - acc: 0.9070 - val_loss: 0.3249 - val_acc: 0.9258\n",
      "Epoch 259/300\n",
      "1258/1258 [==============================] - 1s 637us/step - loss: 0.3015 - acc: 0.8943 - val_loss: 0.2555 - val_acc: 0.9369\n",
      "Epoch 260/300\n",
      "1258/1258 [==============================] - 1s 582us/step - loss: 0.2856 - acc: 0.8983 - val_loss: 0.2154 - val_acc: 0.9406\n",
      "Epoch 261/300\n",
      "1258/1258 [==============================] - 1s 546us/step - loss: 0.2364 - acc: 0.9118 - val_loss: 0.2373 - val_acc: 0.9443\n",
      "Epoch 262/300\n",
      "1258/1258 [==============================] - 1s 523us/step - loss: 0.2613 - acc: 0.8959 - val_loss: 0.2302 - val_acc: 0.9443\n",
      "Epoch 263/300\n",
      "1258/1258 [==============================] - 1s 556us/step - loss: 0.1889 - acc: 0.9261 - val_loss: 0.2314 - val_acc: 0.9443\n",
      "Epoch 264/300\n",
      "1258/1258 [==============================] - 1s 534us/step - loss: 0.2836 - acc: 0.8951 - val_loss: 0.2354 - val_acc: 0.9369\n",
      "Epoch 265/300\n",
      "1258/1258 [==============================] - 1s 540us/step - loss: 0.2654 - acc: 0.8967 - val_loss: 0.2749 - val_acc: 0.9258\n",
      "Epoch 266/300\n",
      "1258/1258 [==============================] - 1s 562us/step - loss: 0.2656 - acc: 0.8967 - val_loss: 0.2368 - val_acc: 0.9276\n",
      "Epoch 267/300\n",
      "1258/1258 [==============================] - 1s 521us/step - loss: 0.2736 - acc: 0.8879 - val_loss: 0.2752 - val_acc: 0.9351\n",
      "Epoch 268/300\n",
      "1258/1258 [==============================] - 1s 609us/step - loss: 0.2624 - acc: 0.8998 - val_loss: 0.3769 - val_acc: 0.9276\n",
      "Epoch 269/300\n",
      "1258/1258 [==============================] - 1s 564us/step - loss: 0.2533 - acc: 0.9006 - val_loss: 0.2732 - val_acc: 0.9369\n",
      "Epoch 270/300\n",
      "1258/1258 [==============================] - 1s 546us/step - loss: 0.2613 - acc: 0.9006 - val_loss: 0.2596 - val_acc: 0.9406\n",
      "Epoch 271/300\n",
      "1258/1258 [==============================] - 1s 559us/step - loss: 0.2090 - acc: 0.9141 - val_loss: 0.3200 - val_acc: 0.9276\n",
      "Epoch 272/300\n",
      "1258/1258 [==============================] - 1s 594us/step - loss: 0.2110 - acc: 0.9141 - val_loss: 0.2629 - val_acc: 0.9443\n",
      "Epoch 273/300\n",
      "1258/1258 [==============================] - 1s 534us/step - loss: 0.2246 - acc: 0.9213 - val_loss: 0.2585 - val_acc: 0.9314\n",
      "Epoch 274/300\n",
      "1258/1258 [==============================] - 1s 571us/step - loss: 0.2293 - acc: 0.9118 - val_loss: 0.2566 - val_acc: 0.9351\n",
      "Epoch 275/300\n",
      "1258/1258 [==============================] - 1s 579us/step - loss: 0.2575 - acc: 0.9078 - val_loss: 0.2477 - val_acc: 0.9351\n",
      "Epoch 276/300\n",
      "1258/1258 [==============================] - 1s 534us/step - loss: 0.2739 - acc: 0.8990 - val_loss: 0.2524 - val_acc: 0.9351\n",
      "Epoch 277/300\n",
      "1258/1258 [==============================] - 1s 574us/step - loss: 0.2324 - acc: 0.9086 - val_loss: 0.2404 - val_acc: 0.9443\n",
      "Epoch 278/300\n",
      "1258/1258 [==============================] - 1s 546us/step - loss: 0.2692 - acc: 0.8983 - val_loss: 0.2232 - val_acc: 0.9332\n",
      "Epoch 279/300\n",
      "1258/1258 [==============================] - 1s 584us/step - loss: 0.2307 - acc: 0.9229 - val_loss: 0.2236 - val_acc: 0.9351\n",
      "Epoch 280/300\n",
      "1258/1258 [==============================] - 1s 556us/step - loss: 0.2636 - acc: 0.8990 - val_loss: 0.2053 - val_acc: 0.9499\n",
      "Epoch 281/300\n",
      "1258/1258 [==============================] - 1s 596us/step - loss: 0.2424 - acc: 0.8998 - val_loss: 0.2616 - val_acc: 0.9406\n",
      "Epoch 282/300\n",
      "1258/1258 [==============================] - 1s 554us/step - loss: 0.2254 - acc: 0.9141 - val_loss: 0.2399 - val_acc: 0.9443\n",
      "Epoch 283/300\n",
      "1258/1258 [==============================] - 1s 546us/step - loss: 0.2748 - acc: 0.8911 - val_loss: 0.2415 - val_acc: 0.9425\n",
      "Epoch 284/300\n",
      "1258/1258 [==============================] - 1s 566us/step - loss: 0.2284 - acc: 0.9094 - val_loss: 0.2719 - val_acc: 0.9147\n",
      "Epoch 285/300\n",
      "1258/1258 [==============================] - 1s 582us/step - loss: 0.2364 - acc: 0.9062 - val_loss: 0.3013 - val_acc: 0.9406\n",
      "Epoch 286/300\n",
      "1258/1258 [==============================] - 1s 526us/step - loss: 0.2191 - acc: 0.9078 - val_loss: 0.2733 - val_acc: 0.9351\n",
      "Epoch 287/300\n",
      "1258/1258 [==============================] - 1s 544us/step - loss: 0.2401 - acc: 0.9110 - val_loss: 0.2426 - val_acc: 0.9406\n",
      "Epoch 288/300\n",
      "1180/1258 [===========================>..] - ETA: 0s - loss: 0.2410 - acc: 0.9110"
     ]
    }
   ],
   "source": [
    "history = cnn.fit(X_train, y_train,epochs=300, batch_size=10, validation_data=(X_test,y_test))"
   ]
  },
  {
   "cell_type": "code",
   "execution_count": 82,
   "metadata": {},
   "outputs": [
    {
     "data": {
      "image/png": "[encoded data removed]",
      "text/plain": [
       "<Figure size 576x396 with 1 Axes>"
      ]
     },
     "metadata": {},
     "output_type": "display_data"
    },
    {
     "data": {
      "image/png": "[encoded data removed]",
      "text/plain": [
       "<Figure size 576x396 with 1 Axes>"
      ]
     },
     "metadata": {},
     "output_type": "display_data"
    }
   ],
   "source": [
    "plt.style.use(\"seaborn\")\n",
    "plt.plot(history.history['acc'])\n",
    "plt.plot(history.history['val_acc'])\n",
    "plt.title('Model accuracy')\n",
    "plt.ylabel('Accuracy')\n",
    "plt.xlabel('Epoch')\n",
    "plt.legend(['Train', 'Test'], loc='upper left')\n",
    "plt.show()\n",
    "\n",
    "# Plot training & validation loss values\n",
    "plt.plot(history.history['loss'])\n",
    "plt.plot(history.history['val_loss'])\n",
    "plt.title('Model loss')\n",
    "plt.ylabel('Loss')\n",
    "plt.xlabel('Epoch')\n",
    "plt.legend(['Train', 'Test'], loc='upper left')\n",
    "plt.show()"
   ]
  },
  {
   "cell_type": "code",
   "execution_count": 64,
   "metadata": {},
   "outputs": [],
   "source": [
    "cnn.save(\"cnn_digit_dataset\")"
   ]
  },
  {
   "cell_type": "code",
   "execution_count": 65,
   "metadata": {},
   "outputs": [],
   "source": [
    "keras.utils.vis_utils.plot_model(cnn)"
   ]
  },
  {
   "cell_type": "code",
   "execution_count": null,
   "metadata": {},
   "outputs": [],
   "source": []
  },
  {
   "cell_type": "code",
   "execution_count": 69,
   "metadata": {},
   "outputs": [
    {
     "data": {
      "text/plain": [
       "80512"
      ]
     },
     "execution_count": 69,
     "metadata": {},
     "output_type": "execute_result"
    }
   ],
   "source": [
    "1258 *64"
   ]
  },
  {
   "cell_type": "code",
   "execution_count": 83,
   "metadata": {},
   "outputs": [
    {
     "data": {
      "image/svg+xml": [
       "<svg height=\"775pt\" viewBox=\"0.00 0.00 223.00 775.00\" width=\"223pt\" xmlns=\"http://www.w3.org/2000/svg\" xmlns:xlink=\"http://www.w3.org/1999/xlink\">\n",
       "<g class=\"graph\" id=\"graph0\" transform=\"scale(1 1) rotate(0) translate(4 771)\">\n",
       "<title>G</title>\n",
       "<polygon fill=\"white\" points=\"-4,4 -4,-771 219,-771 219,4 -4,4\" stroke=\"none\"/>\n",
       "<!-- 2338503048608 -->\n",
       "<g class=\"node\" id=\"node1\"><title>2338503048608</title>\n",
       "<polygon fill=\"none\" points=\"40.5,-657.5 40.5,-693.5 174.5,-693.5 174.5,-657.5 40.5,-657.5\" stroke=\"black\"/>\n",
       "<text font-family=\"Times New Roman,serif\" font-size=\"14.00\" text-anchor=\"middle\" x=\"107.5\" y=\"-671.8\">conv2d_42: Conv2D</text>\n",
       "</g>\n",
       "<!-- 2338503048832 -->\n",
       "<g class=\"node\" id=\"node2\"><title>2338503048832</title>\n",
       "<polygon fill=\"none\" points=\"0,-584.5 0,-620.5 215,-620.5 215,-584.5 0,-584.5\" stroke=\"black\"/>\n",
       "<text font-family=\"Times New Roman,serif\" font-size=\"14.00\" text-anchor=\"middle\" x=\"107.5\" y=\"-598.8\">max_pooling2d_40: MaxPooling2D</text>\n",
       "</g>\n",
       "<!-- 2338503048608&#45;&gt;2338503048832 -->\n",
       "<g class=\"edge\" id=\"edge2\"><title>2338503048608-&gt;2338503048832</title>\n",
       "<path d=\"M107.5,-657.313C107.5,-649.289 107.5,-639.547 107.5,-630.569\" fill=\"none\" stroke=\"black\"/>\n",
       "<polygon fill=\"black\" points=\"111,-630.529 107.5,-620.529 104,-630.529 111,-630.529\" stroke=\"black\"/>\n",
       "</g>\n",
       "<!-- 2338503049056 -->\n",
       "<g class=\"node\" id=\"node3\"><title>2338503049056</title>\n",
       "<polygon fill=\"none\" points=\"40.5,-511.5 40.5,-547.5 174.5,-547.5 174.5,-511.5 40.5,-511.5\" stroke=\"black\"/>\n",
       "<text font-family=\"Times New Roman,serif\" font-size=\"14.00\" text-anchor=\"middle\" x=\"107.5\" y=\"-525.8\">conv2d_43: Conv2D</text>\n",
       "</g>\n",
       "<!-- 2338503048832&#45;&gt;2338503049056 -->\n",
       "<g class=\"edge\" id=\"edge3\"><title>2338503048832-&gt;2338503049056</title>\n",
       "<path d=\"M107.5,-584.313C107.5,-576.289 107.5,-566.547 107.5,-557.569\" fill=\"none\" stroke=\"black\"/>\n",
       "<polygon fill=\"black\" points=\"111,-557.529 107.5,-547.529 104,-557.529 111,-557.529\" stroke=\"black\"/>\n",
       "</g>\n",
       "<!-- 2338503049112 -->\n",
       "<g class=\"node\" id=\"node4\"><title>2338503049112</title>\n",
       "<polygon fill=\"none\" points=\"0,-438.5 0,-474.5 215,-474.5 215,-438.5 0,-438.5\" stroke=\"black\"/>\n",
       "<text font-family=\"Times New Roman,serif\" font-size=\"14.00\" text-anchor=\"middle\" x=\"107.5\" y=\"-452.8\">max_pooling2d_41: MaxPooling2D</text>\n",
       "</g>\n",
       "<!-- 2338503049056&#45;&gt;2338503049112 -->\n",
       "<g class=\"edge\" id=\"edge4\"><title>2338503049056-&gt;2338503049112</title>\n",
       "<path d=\"M107.5,-511.313C107.5,-503.289 107.5,-493.547 107.5,-484.569\" fill=\"none\" stroke=\"black\"/>\n",
       "<polygon fill=\"black\" points=\"111,-484.529 107.5,-474.529 104,-484.529 111,-484.529\" stroke=\"black\"/>\n",
       "</g>\n",
       "<!-- 2338503033184 -->\n",
       "<g class=\"node\" id=\"node5\"><title>2338503033184</title>\n",
       "<polygon fill=\"none\" points=\"39,-365.5 39,-401.5 176,-401.5 176,-365.5 39,-365.5\" stroke=\"black\"/>\n",
       "<text font-family=\"Times New Roman,serif\" font-size=\"14.00\" text-anchor=\"middle\" x=\"107.5\" y=\"-379.8\">dropout_22: Dropout</text>\n",
       "</g>\n",
       "<!-- 2338503049112&#45;&gt;2338503033184 -->\n",
       "<g class=\"edge\" id=\"edge5\"><title>2338503049112-&gt;2338503033184</title>\n",
       "<path d=\"M107.5,-438.313C107.5,-430.289 107.5,-420.547 107.5,-411.569\" fill=\"none\" stroke=\"black\"/>\n",
       "<polygon fill=\"black\" points=\"111,-411.529 107.5,-401.529 104,-411.529 111,-411.529\" stroke=\"black\"/>\n",
       "</g>\n",
       "<!-- 2338503033240 -->\n",
       "<g class=\"node\" id=\"node6\"><title>2338503033240</title>\n",
       "<polygon fill=\"none\" points=\"49.5,-292.5 49.5,-328.5 165.5,-328.5 165.5,-292.5 49.5,-292.5\" stroke=\"black\"/>\n",
       "<text font-family=\"Times New Roman,serif\" font-size=\"14.00\" text-anchor=\"middle\" x=\"107.5\" y=\"-306.8\">flatten_16: Flatten</text>\n",
       "</g>\n",
       "<!-- 2338503033184&#45;&gt;2338503033240 -->\n",
       "<g class=\"edge\" id=\"edge6\"><title>2338503033184-&gt;2338503033240</title>\n",
       "<path d=\"M107.5,-365.313C107.5,-357.289 107.5,-347.547 107.5,-338.569\" fill=\"none\" stroke=\"black\"/>\n",
       "<polygon fill=\"black\" points=\"111,-338.529 107.5,-328.529 104,-338.529 111,-338.529\" stroke=\"black\"/>\n",
       "</g>\n",
       "<!-- 2338503033352 -->\n",
       "<g class=\"node\" id=\"node7\"><title>2338503033352</title>\n",
       "<polygon fill=\"none\" points=\"52,-219.5 52,-255.5 163,-255.5 163,-219.5 52,-219.5\" stroke=\"black\"/>\n",
       "<text font-family=\"Times New Roman,serif\" font-size=\"14.00\" text-anchor=\"middle\" x=\"107.5\" y=\"-233.8\">dense_49: Dense</text>\n",
       "</g>\n",
       "<!-- 2338503033240&#45;&gt;2338503033352 -->\n",
       "<g class=\"edge\" id=\"edge7\"><title>2338503033240-&gt;2338503033352</title>\n",
       "<path d=\"M107.5,-292.313C107.5,-284.289 107.5,-274.547 107.5,-265.569\" fill=\"none\" stroke=\"black\"/>\n",
       "<polygon fill=\"black\" points=\"111,-265.529 107.5,-255.529 104,-265.529 111,-265.529\" stroke=\"black\"/>\n",
       "</g>\n",
       "<!-- 2338503033576 -->\n",
       "<g class=\"node\" id=\"node8\"><title>2338503033576</title>\n",
       "<polygon fill=\"none\" points=\"39,-146.5 39,-182.5 176,-182.5 176,-146.5 39,-146.5\" stroke=\"black\"/>\n",
       "<text font-family=\"Times New Roman,serif\" font-size=\"14.00\" text-anchor=\"middle\" x=\"107.5\" y=\"-160.8\">dropout_23: Dropout</text>\n",
       "</g>\n",
       "<!-- 2338503033352&#45;&gt;2338503033576 -->\n",
       "<g class=\"edge\" id=\"edge8\"><title>2338503033352-&gt;2338503033576</title>\n",
       "<path d=\"M107.5,-219.313C107.5,-211.289 107.5,-201.547 107.5,-192.569\" fill=\"none\" stroke=\"black\"/>\n",
       "<polygon fill=\"black\" points=\"111,-192.529 107.5,-182.529 104,-192.529 111,-192.529\" stroke=\"black\"/>\n",
       "</g>\n",
       "<!-- 2338503033632 -->\n",
       "<g class=\"node\" id=\"node9\"><title>2338503033632</title>\n",
       "<polygon fill=\"none\" points=\"52,-73.5 52,-109.5 163,-109.5 163,-73.5 52,-73.5\" stroke=\"black\"/>\n",
       "<text font-family=\"Times New Roman,serif\" font-size=\"14.00\" text-anchor=\"middle\" x=\"107.5\" y=\"-87.8\">dense_50: Dense</text>\n",
       "</g>\n",
       "<!-- 2338503033576&#45;&gt;2338503033632 -->\n",
       "<g class=\"edge\" id=\"edge9\"><title>2338503033576-&gt;2338503033632</title>\n",
       "<path d=\"M107.5,-146.313C107.5,-138.289 107.5,-128.547 107.5,-119.569\" fill=\"none\" stroke=\"black\"/>\n",
       "<polygon fill=\"black\" points=\"111,-119.529 107.5,-109.529 104,-119.529 111,-119.529\" stroke=\"black\"/>\n",
       "</g>\n",
       "<!-- 2338503033856 -->\n",
       "<g class=\"node\" id=\"node10\"><title>2338503033856</title>\n",
       "<polygon fill=\"none\" points=\"52,-0.5 52,-36.5 163,-36.5 163,-0.5 52,-0.5\" stroke=\"black\"/>\n",
       "<text font-family=\"Times New Roman,serif\" font-size=\"14.00\" text-anchor=\"middle\" x=\"107.5\" y=\"-14.8\">dense_51: Dense</text>\n",
       "</g>\n",
       "<!-- 2338503033632&#45;&gt;2338503033856 -->\n",
       "<g class=\"edge\" id=\"edge10\"><title>2338503033632-&gt;2338503033856</title>\n",
       "<path d=\"M107.5,-73.3129C107.5,-65.2895 107.5,-55.5475 107.5,-46.5691\" fill=\"none\" stroke=\"black\"/>\n",
       "<polygon fill=\"black\" points=\"111,-46.5288 107.5,-36.5288 104,-46.5289 111,-46.5288\" stroke=\"black\"/>\n",
       "</g>\n",
       "<!-- 2338503034304 -->\n",
       "<g class=\"node\" id=\"node11\"><title>2338503034304</title>\n",
       "<polygon fill=\"none\" points=\"55.5,-730.5 55.5,-766.5 159.5,-766.5 159.5,-730.5 55.5,-730.5\" stroke=\"black\"/>\n",
       "<text font-family=\"Times New Roman,serif\" font-size=\"14.00\" text-anchor=\"middle\" x=\"107.5\" y=\"-744.8\">2338503034304</text>\n",
       "</g>\n",
       "<!-- 2338503034304&#45;&gt;2338503048608 -->\n",
       "<g class=\"edge\" id=\"edge1\"><title>2338503034304-&gt;2338503048608</title>\n",
       "<path d=\"M107.5,-730.313C107.5,-722.289 107.5,-712.547 107.5,-703.569\" fill=\"none\" stroke=\"black\"/>\n",
       "<polygon fill=\"black\" points=\"111,-703.529 107.5,-693.529 104,-703.529 111,-703.529\" stroke=\"black\"/>\n",
       "</g>\n",
       "</g>\n",
       "</svg>"
      ],
      "text/plain": [
       "<IPython.core.display.SVG object>"
      ]
     },
     "execution_count": 83,
     "metadata": {},
     "output_type": "execute_result"
    }
   ],
   "source": [
    "from IPython.display import SVG\n",
    "from keras.utils.vis_utils import model_to_dot\n",
    "\n",
    "SVG(model_to_dot(cnn).create(prog='dot', format='svg'))"
   ]
  },
  {
   "cell_type": "code",
   "execution_count": 84,
   "metadata": {},
   "outputs": [],
   "source": [
    "pred = cnn.predict_classes(X_test)"
   ]
  },
  {
   "cell_type": "code",
   "execution_count": 85,
   "metadata": {},
   "outputs": [
    {
     "name": "stdout",
     "output_type": "stream",
     "text": [
      "             precision    recall  f1-score   support\n",
      "\n",
      "          0       1.00      0.98      0.99        53\n",
      "          1       0.91      0.74      0.81        53\n",
      "          2       1.00      0.98      0.99        53\n",
      "          3       0.86      0.83      0.85        53\n",
      "          4       0.95      0.95      0.95        56\n",
      "          5       0.90      0.96      0.93        56\n",
      "          6       1.00      0.93      0.96        54\n",
      "          7       0.78      0.98      0.87        54\n",
      "          8       0.85      0.96      0.90        52\n",
      "          9       1.00      0.87      0.93        55\n",
      "\n",
      "avg / total       0.92      0.92      0.92       539\n",
      "\n"
     ]
    }
   ],
   "source": [
    "print(classification_report(y_test,keras.utils.to_categorical(pred)))"
   ]
  },
  {
   "cell_type": "code",
   "execution_count": null,
   "metadata": {},
   "outputs": [],
   "source": []
  }
 ],
 "metadata": {
  "kernelspec": {
   "display_name": "Python 3",
   "language": "python",
   "name": "python3"
  },
  "language_info": {
   "codemirror_mode": {
    "name": "ipython",
    "version": 3
   },
   "file_extension": ".py",
   "mimetype": "text/x-python",
   "name": "python",
   "nbconvert_exporter": "python",
   "pygments_lexer": "ipython3",
   "version": "3.6.8"
  }
 },
 "nbformat": 4,
 "nbformat_minor": 2
}
