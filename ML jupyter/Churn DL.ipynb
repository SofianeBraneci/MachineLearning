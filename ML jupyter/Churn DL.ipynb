{
 "cells": [
  {
   "cell_type": "code",
   "execution_count": 1,
   "metadata": {},
   "outputs": [],
   "source": [
    "import numpy as np\n",
    "import pandas as pd"
   ]
  },
  {
   "cell_type": "code",
   "execution_count": 2,
   "metadata": {},
   "outputs": [],
   "source": [
    "import matplotlib.pyplot as plt"
   ]
  },
  {
   "cell_type": "code",
   "execution_count": 3,
   "metadata": {},
   "outputs": [],
   "source": [
    "from sklearn.datasets import load_iris"
   ]
  },
  {
   "cell_type": "code",
   "execution_count": 4,
   "metadata": {},
   "outputs": [],
   "source": [
    "iris_data = load_iris()"
   ]
  },
  {
   "cell_type": "code",
   "execution_count": 6,
   "metadata": {},
   "outputs": [],
   "source": [
    "iris = iris_data.data"
   ]
  },
  {
   "cell_type": "code",
   "execution_count": 8,
   "metadata": {},
   "outputs": [],
   "source": [
    "from keras.utils import to_categorical"
   ]
  },
  {
   "cell_type": "code",
   "execution_count": 9,
   "metadata": {},
   "outputs": [],
   "source": [
    "targts = to_categorical(iris_data.target,3)"
   ]
  },
  {
   "cell_type": "code",
   "execution_count": 11,
   "metadata": {},
   "outputs": [],
   "source": [
    "import keras "
   ]
  },
  {
   "cell_type": "code",
   "execution_count": 12,
   "metadata": {},
   "outputs": [],
   "source": [
    "from keras.models import Sequential\n",
    "from keras.layers import Dropout, Dense"
   ]
  },
  {
   "cell_type": "code",
   "execution_count": 13,
   "metadata": {},
   "outputs": [],
   "source": [
    "model = Sequential([\n",
    "    Dense(units=8, kernel_initializer='uniform',activation='relu',input_shape=(4,)),\n",
    "    Dense(units=3,kernel_initializer='uniform',activation='softmax')\n",
    "])"
   ]
  },
  {
   "cell_type": "code",
   "execution_count": 14,
   "metadata": {},
   "outputs": [],
   "source": [
    "model.compile(optimizer='adam',loss='categorical_crossentropy',metrics=['accuracy'])"
   ]
  },
  {
   "cell_type": "code",
   "execution_count": 15,
   "metadata": {},
   "outputs": [
    {
     "name": "stdout",
     "output_type": "stream",
     "text": [
      "_________________________________________________________________\n",
      "Layer (type)                 Output Shape              Param #   \n",
      "=================================================================\n",
      "dense_1 (Dense)              (None, 8)                 40        \n",
      "_________________________________________________________________\n",
      "dense_2 (Dense)              (None, 3)                 27        \n",
      "=================================================================\n",
      "Total params: 67\n",
      "Trainable params: 67\n",
      "Non-trainable params: 0\n",
      "_________________________________________________________________\n"
     ]
    }
   ],
   "source": [
    "model.summary()"
   ]
  },
  {
   "cell_type": "code",
   "execution_count": 17,
   "metadata": {},
   "outputs": [],
   "source": [
    "from sklearn.model_selection import train_test_split\n"
   ]
  },
  {
   "cell_type": "code",
   "execution_count": 18,
   "metadata": {},
   "outputs": [],
   "source": [
    " X_train, X_test, y_train, y_test = train_test_split(iris, targts, test_size=0.3, random_state=42)"
   ]
  },
  {
   "cell_type": "code",
   "execution_count": 16,
   "metadata": {},
   "outputs": [],
   "source": [
    "from sklearn.preprocessing import StandardScaler\n",
    "sc =StandardScaler()"
   ]
  },
  {
   "cell_type": "code",
   "execution_count": 19,
   "metadata": {},
   "outputs": [],
   "source": [
    "X_train = sc.fit_transform(X_train)\n",
    "X_test = sc.transform(X_test)"
   ]
  },
  {
   "cell_type": "code",
   "execution_count": 20,
   "metadata": {},
   "outputs": [
    {
     "name": "stdout",
     "output_type": "stream",
     "text": [
      "Epoch 1/100\n",
      "105/105 [==============================] - 2s 22ms/step - loss: 1.0987 - acc: 0.2190\n",
      "Epoch 2/100\n",
      "105/105 [==============================] - 0s 537us/step - loss: 1.0966 - acc: 0.3524\n",
      "Epoch 3/100\n",
      "105/105 [==============================] - 0s 692us/step - loss: 1.0926 - acc: 0.4000\n",
      "Epoch 4/100\n",
      "105/105 [==============================] - 0s 542us/step - loss: 1.0859 - acc: 0.4952\n",
      "Epoch 5/100\n",
      "105/105 [==============================] - 0s 657us/step - loss: 1.0753 - acc: 0.7238\n",
      "Epoch 6/100\n",
      "105/105 [==============================] - 0s 585us/step - loss: 1.0609 - acc: 0.7429\n",
      "Epoch 7/100\n",
      "105/105 [==============================] - 0s 229us/step - loss: 1.0432 - acc: 0.7333\n",
      "Epoch 8/100\n",
      "105/105 [==============================] - 0s 250us/step - loss: 1.0236 - acc: 0.7238\n",
      "Epoch 9/100\n",
      "105/105 [==============================] - 0s 232us/step - loss: 0.9995 - acc: 0.7143\n",
      "Epoch 10/100\n",
      "105/105 [==============================] - 0s 257us/step - loss: 0.9735 - acc: 0.7143\n",
      "Epoch 11/100\n",
      "105/105 [==============================] - 0s 223us/step - loss: 0.9472 - acc: 0.7238\n",
      "Epoch 12/100\n",
      "105/105 [==============================] - 0s 236us/step - loss: 0.9181 - acc: 0.7238\n",
      "Epoch 13/100\n",
      "105/105 [==============================] - 0s 172us/step - loss: 0.8912 - acc: 0.7238\n",
      "Epoch 14/100\n",
      "105/105 [==============================] - 0s 162us/step - loss: 0.8609 - acc: 0.7333\n",
      "Epoch 15/100\n",
      "105/105 [==============================] - 0s 161us/step - loss: 0.8324 - acc: 0.7429\n",
      "Epoch 16/100\n",
      "105/105 [==============================] - 0s 267us/step - loss: 0.8042 - acc: 0.7429\n",
      "Epoch 17/100\n",
      "105/105 [==============================] - 0s 267us/step - loss: 0.7762 - acc: 0.7524\n",
      "Epoch 18/100\n",
      "105/105 [==============================] - 0s 228us/step - loss: 0.7498 - acc: 0.7619\n",
      "Epoch 19/100\n",
      "105/105 [==============================] - 0s 190us/step - loss: 0.7248 - acc: 0.7619\n",
      "Epoch 20/100\n",
      "105/105 [==============================] - 0s 190us/step - loss: 0.7002 - acc: 0.7619\n",
      "Epoch 21/100\n",
      "105/105 [==============================] - 0s 197us/step - loss: 0.6774 - acc: 0.7714\n",
      "Epoch 22/100\n",
      "105/105 [==============================] - 0s 188us/step - loss: 0.6553 - acc: 0.7810\n",
      "Epoch 23/100\n",
      "105/105 [==============================] - 0s 204us/step - loss: 0.6342 - acc: 0.7810\n",
      "Epoch 24/100\n",
      "105/105 [==============================] - 0s 150us/step - loss: 0.6143 - acc: 0.7905\n",
      "Epoch 25/100\n",
      "105/105 [==============================] - 0s 287us/step - loss: 0.5950 - acc: 0.8000\n",
      "Epoch 26/100\n",
      "105/105 [==============================] - 0s 234us/step - loss: 0.5767 - acc: 0.8095\n",
      "Epoch 27/100\n",
      "105/105 [==============================] - 0s 256us/step - loss: 0.5598 - acc: 0.8190\n",
      "Epoch 28/100\n",
      "105/105 [==============================] - 0s 238us/step - loss: 0.5434 - acc: 0.8286\n",
      "Epoch 29/100\n",
      "105/105 [==============================] - 0s 206us/step - loss: 0.5286 - acc: 0.8286\n",
      "Epoch 30/100\n",
      "105/105 [==============================] - 0s 208us/step - loss: 0.5141 - acc: 0.8286\n",
      "Epoch 31/100\n",
      "105/105 [==============================] - 0s 204us/step - loss: 0.5003 - acc: 0.8286\n",
      "Epoch 32/100\n",
      "105/105 [==============================] - 0s 172us/step - loss: 0.4870 - acc: 0.8286\n",
      "Epoch 33/100\n",
      "105/105 [==============================] - 0s 198us/step - loss: 0.4749 - acc: 0.8286\n",
      "Epoch 34/100\n",
      "105/105 [==============================] - 0s 186us/step - loss: 0.4639 - acc: 0.8381\n",
      "Epoch 35/100\n",
      "105/105 [==============================] - 0s 210us/step - loss: 0.4527 - acc: 0.8381\n",
      "Epoch 36/100\n",
      "105/105 [==============================] - 0s 250us/step - loss: 0.4426 - acc: 0.8381\n",
      "Epoch 37/100\n",
      "105/105 [==============================] - 0s 281us/step - loss: 0.4330 - acc: 0.8381\n",
      "Epoch 38/100\n",
      "105/105 [==============================] - 0s 196us/step - loss: 0.4248 - acc: 0.8476\n",
      "Epoch 39/100\n",
      "105/105 [==============================] - 0s 268us/step - loss: 0.4153 - acc: 0.8571\n",
      "Epoch 40/100\n",
      "105/105 [==============================] - 0s 214us/step - loss: 0.4072 - acc: 0.8667\n",
      "Epoch 41/100\n",
      "105/105 [==============================] - 0s 194us/step - loss: 0.3994 - acc: 0.8667\n",
      "Epoch 42/100\n",
      "105/105 [==============================] - 0s 244us/step - loss: 0.3923 - acc: 0.8667\n",
      "Epoch 43/100\n",
      "105/105 [==============================] - 0s 189us/step - loss: 0.3849 - acc: 0.8857\n",
      "Epoch 44/100\n",
      "105/105 [==============================] - 0s 199us/step - loss: 0.3781 - acc: 0.8857\n",
      "Epoch 45/100\n",
      "105/105 [==============================] - 0s 205us/step - loss: 0.3718 - acc: 0.8857\n",
      "Epoch 46/100\n",
      "105/105 [==============================] - 0s 215us/step - loss: 0.3658 - acc: 0.8857\n",
      "Epoch 47/100\n",
      "105/105 [==============================] - 0s 224us/step - loss: 0.3603 - acc: 0.8857\n",
      "Epoch 48/100\n",
      "105/105 [==============================] - 0s 208us/step - loss: 0.3545 - acc: 0.8857\n",
      "Epoch 49/100\n",
      "105/105 [==============================] - 0s 183us/step - loss: 0.3490 - acc: 0.8762\n",
      "Epoch 50/100\n",
      "105/105 [==============================] - 0s 226us/step - loss: 0.3438 - acc: 0.8762\n",
      "Epoch 51/100\n",
      "105/105 [==============================] - 0s 188us/step - loss: 0.3391 - acc: 0.8857\n",
      "Epoch 52/100\n",
      "105/105 [==============================] - 0s 160us/step - loss: 0.3341 - acc: 0.8857\n",
      "Epoch 53/100\n",
      "105/105 [==============================] - 0s 173us/step - loss: 0.3298 - acc: 0.8857\n",
      "Epoch 54/100\n",
      "105/105 [==============================] - 0s 162us/step - loss: 0.3253 - acc: 0.8857\n",
      "Epoch 55/100\n",
      "105/105 [==============================] - 0s 137us/step - loss: 0.3210 - acc: 0.8952\n",
      "Epoch 56/100\n",
      "105/105 [==============================] - 0s 182us/step - loss: 0.3167 - acc: 0.8952\n",
      "Epoch 57/100\n",
      "105/105 [==============================] - 0s 152us/step - loss: 0.3129 - acc: 0.9048\n",
      "Epoch 58/100\n",
      "105/105 [==============================] - 0s 191us/step - loss: 0.3087 - acc: 0.9048\n",
      "Epoch 59/100\n",
      "105/105 [==============================] - 0s 151us/step - loss: 0.3052 - acc: 0.9048\n",
      "Epoch 60/100\n",
      "105/105 [==============================] - 0s 206us/step - loss: 0.3014 - acc: 0.9048\n",
      "Epoch 61/100\n",
      "105/105 [==============================] - 0s 128us/step - loss: 0.2980 - acc: 0.9048\n",
      "Epoch 62/100\n",
      "105/105 [==============================] - 0s 207us/step - loss: 0.2943 - acc: 0.9048\n",
      "Epoch 63/100\n",
      "105/105 [==============================] - 0s 145us/step - loss: 0.2911 - acc: 0.9048\n",
      "Epoch 64/100\n",
      "105/105 [==============================] - 0s 151us/step - loss: 0.2877 - acc: 0.9048\n",
      "Epoch 65/100\n",
      "105/105 [==============================] - 0s 209us/step - loss: 0.2846 - acc: 0.9048\n",
      "Epoch 66/100\n",
      "105/105 [==============================] - 0s 131us/step - loss: 0.2812 - acc: 0.9048\n",
      "Epoch 67/100\n",
      "105/105 [==============================] - 0s 173us/step - loss: 0.2781 - acc: 0.9238\n",
      "Epoch 68/100\n",
      "105/105 [==============================] - 0s 138us/step - loss: 0.2752 - acc: 0.9238\n",
      "Epoch 69/100\n",
      "105/105 [==============================] - 0s 183us/step - loss: 0.2722 - acc: 0.9238\n",
      "Epoch 70/100\n",
      "105/105 [==============================] - 0s 145us/step - loss: 0.2693 - acc: 0.9238\n",
      "Epoch 71/100\n",
      "105/105 [==============================] - 0s 234us/step - loss: 0.2663 - acc: 0.9238\n",
      "Epoch 72/100\n",
      "105/105 [==============================] - 0s 197us/step - loss: 0.2632 - acc: 0.9238\n",
      "Epoch 73/100\n",
      "105/105 [==============================] - 0s 266us/step - loss: 0.2605 - acc: 0.9238\n",
      "Epoch 74/100\n",
      "105/105 [==============================] - 0s 184us/step - loss: 0.2577 - acc: 0.9238\n",
      "Epoch 75/100\n",
      "105/105 [==============================] - 0s 190us/step - loss: 0.2554 - acc: 0.9238\n",
      "Epoch 76/100\n",
      "105/105 [==============================] - 0s 149us/step - loss: 0.2521 - acc: 0.9238\n",
      "Epoch 77/100\n",
      "105/105 [==============================] - 0s 172us/step - loss: 0.2503 - acc: 0.9238\n",
      "Epoch 78/100\n",
      "105/105 [==============================] - 0s 229us/step - loss: 0.2475 - acc: 0.9238\n",
      "Epoch 79/100\n",
      "105/105 [==============================] - 0s 182us/step - loss: 0.2444 - acc: 0.9238\n",
      "Epoch 80/100\n",
      "105/105 [==============================] - 0s 257us/step - loss: 0.2418 - acc: 0.9238\n",
      "Epoch 81/100\n",
      "105/105 [==============================] - 0s 152us/step - loss: 0.2398 - acc: 0.9238\n",
      "Epoch 82/100\n",
      "105/105 [==============================] - 0s 199us/step - loss: 0.2380 - acc: 0.9238\n",
      "Epoch 83/100\n",
      "105/105 [==============================] - 0s 174us/step - loss: 0.2347 - acc: 0.9238\n",
      "Epoch 84/100\n",
      "105/105 [==============================] - 0s 179us/step - loss: 0.2320 - acc: 0.9238\n",
      "Epoch 85/100\n",
      "105/105 [==============================] - 0s 174us/step - loss: 0.2296 - acc: 0.9238\n",
      "Epoch 86/100\n",
      "105/105 [==============================] - 0s 165us/step - loss: 0.2271 - acc: 0.9238\n",
      "Epoch 87/100\n",
      "105/105 [==============================] - 0s 157us/step - loss: 0.2248 - acc: 0.9238\n",
      "Epoch 88/100\n",
      "105/105 [==============================] - 0s 141us/step - loss: 0.2228 - acc: 0.9238\n",
      "Epoch 89/100\n",
      "105/105 [==============================] - 0s 198us/step - loss: 0.2205 - acc: 0.9238\n",
      "Epoch 90/100\n",
      "105/105 [==============================] - 0s 146us/step - loss: 0.2181 - acc: 0.9238\n",
      "Epoch 91/100\n",
      "105/105 [==============================] - 0s 190us/step - loss: 0.2161 - acc: 0.9238\n",
      "Epoch 92/100\n",
      "105/105 [==============================] - 0s 153us/step - loss: 0.2138 - acc: 0.9333\n",
      "Epoch 93/100\n",
      "105/105 [==============================] - 0s 223us/step - loss: 0.2118 - acc: 0.9333\n",
      "Epoch 94/100\n",
      "105/105 [==============================] - 0s 270us/step - loss: 0.2099 - acc: 0.9333\n",
      "Epoch 95/100\n",
      "105/105 [==============================] - 0s 239us/step - loss: 0.2075 - acc: 0.9333\n",
      "Epoch 96/100\n",
      "105/105 [==============================] - 0s 203us/step - loss: 0.2057 - acc: 0.9333\n",
      "Epoch 97/100\n",
      "105/105 [==============================] - 0s 171us/step - loss: 0.2034 - acc: 0.9333\n",
      "Epoch 98/100\n",
      "105/105 [==============================] - 0s 146us/step - loss: 0.2012 - acc: 0.9333\n",
      "Epoch 99/100\n",
      "105/105 [==============================] - 0s 167us/step - loss: 0.2000 - acc: 0.9238\n",
      "Epoch 100/100\n",
      "105/105 [==============================] - 0s 207us/step - loss: 0.1979 - acc: 0.9238\n"
     ]
    },
    {
     "data": {
      "text/plain": [
       "<keras.callbacks.History at 0x2a383f2cc18>"
      ]
     },
     "execution_count": 20,
     "metadata": {},
     "output_type": "execute_result"
    }
   ],
   "source": [
    "model.fit(X_train,y_train,batch_size=10,epochs=100)"
   ]
  },
  {
   "cell_type": "code",
   "execution_count": 21,
   "metadata": {},
   "outputs": [],
   "source": [
    "predictions = model.predict_classes(X_test)"
   ]
  },
  {
   "cell_type": "code",
   "execution_count": 23,
   "metadata": {},
   "outputs": [],
   "source": [
    "predictions = to_categorical(predictions,3)"
   ]
  },
  {
   "cell_type": "code",
   "execution_count": 25,
   "metadata": {},
   "outputs": [],
   "source": [
    "from sklearn.metrics import classification_report,confusion_matrix"
   ]
  },
  {
   "cell_type": "code",
   "execution_count": 27,
   "metadata": {},
   "outputs": [
    {
     "name": "stdout",
     "output_type": "stream",
     "text": [
      "             precision    recall  f1-score   support\n",
      "\n",
      "          0       1.00      1.00      1.00        19\n",
      "          1       1.00      0.85      0.92        13\n",
      "          2       0.87      1.00      0.93        13\n",
      "\n",
      "avg / total       0.96      0.96      0.96        45\n",
      "\n"
     ]
    }
   ],
   "source": [
    "print(classification_report(y_test,predictions))"
   ]
  },
  {
   "cell_type": "code",
   "execution_count": null,
   "metadata": {},
   "outputs": [],
   "source": []
  }
 ],
 "metadata": {
  "kernelspec": {
   "display_name": "Python 3",
   "language": "python",
   "name": "python3"
  },
  "language_info": {
   "codemirror_mode": {
    "name": "ipython",
    "version": 3
   },
   "file_extension": ".py",
   "mimetype": "text/x-python",
   "name": "python",
   "nbconvert_exporter": "python",
   "pygments_lexer": "ipython3",
   "version": "3.6.4"
  }
 },
 "nbformat": 4,
 "nbformat_minor": 2
}
