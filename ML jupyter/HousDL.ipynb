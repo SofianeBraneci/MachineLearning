{
 "cells": [
  {
   "cell_type": "code",
   "execution_count": 1,
   "metadata": {},
   "outputs": [],
   "source": [
    "import numpy as np"
   ]
  },
  {
   "cell_type": "code",
   "execution_count": 2,
   "metadata": {},
   "outputs": [],
   "source": [
    "import pandas as pd"
   ]
  },
  {
   "cell_type": "code",
   "execution_count": 3,
   "metadata": {},
   "outputs": [],
   "source": [
    "import matplotlib.pyplot as plt"
   ]
  },
  {
   "cell_type": "code",
   "execution_count": 4,
   "metadata": {},
   "outputs": [],
   "source": [
    "plt.style.use('ggplot')"
   ]
  },
  {
   "cell_type": "code",
   "execution_count": 51,
   "metadata": {},
   "outputs": [],
   "source": [
    "house_data = pd.read_csv('kc_house_data.csv')"
   ]
  },
  {
   "cell_type": "code",
   "execution_count": 6,
   "metadata": {},
   "outputs": [
    {
     "data": {
      "text/html": [
       "<div>\n",
       "<style scoped>\n",
       "    .dataframe tbody tr th:only-of-type {\n",
       "        vertical-align: middle;\n",
       "    }\n",
       "\n",
       "    .dataframe tbody tr th {\n",
       "        vertical-align: top;\n",
       "    }\n",
       "\n",
       "    .dataframe thead th {\n",
       "        text-align: right;\n",
       "    }\n",
       "</style>\n",
       "<table border=\"1\" class=\"dataframe\">\n",
       "  <thead>\n",
       "    <tr style=\"text-align: right;\">\n",
       "      <th></th>\n",
       "      <th>id</th>\n",
       "      <th>date</th>\n",
       "      <th>price</th>\n",
       "      <th>bedrooms</th>\n",
       "      <th>bathrooms</th>\n",
       "      <th>sqft_living</th>\n",
       "      <th>sqft_lot</th>\n",
       "      <th>floors</th>\n",
       "      <th>waterfront</th>\n",
       "      <th>view</th>\n",
       "      <th>...</th>\n",
       "      <th>grade</th>\n",
       "      <th>sqft_above</th>\n",
       "      <th>sqft_basement</th>\n",
       "      <th>yr_built</th>\n",
       "      <th>yr_renovated</th>\n",
       "      <th>zipcode</th>\n",
       "      <th>lat</th>\n",
       "      <th>long</th>\n",
       "      <th>sqft_living15</th>\n",
       "      <th>sqft_lot15</th>\n",
       "    </tr>\n",
       "  </thead>\n",
       "  <tbody>\n",
       "    <tr>\n",
       "      <th>0</th>\n",
       "      <td>7129300520</td>\n",
       "      <td>20141013T000000</td>\n",
       "      <td>221900.0</td>\n",
       "      <td>3</td>\n",
       "      <td>1.00</td>\n",
       "      <td>1180</td>\n",
       "      <td>5650</td>\n",
       "      <td>1.0</td>\n",
       "      <td>0</td>\n",
       "      <td>0</td>\n",
       "      <td>...</td>\n",
       "      <td>7</td>\n",
       "      <td>1180</td>\n",
       "      <td>0</td>\n",
       "      <td>1955</td>\n",
       "      <td>0</td>\n",
       "      <td>98178</td>\n",
       "      <td>47.5112</td>\n",
       "      <td>-122.257</td>\n",
       "      <td>1340</td>\n",
       "      <td>5650</td>\n",
       "    </tr>\n",
       "    <tr>\n",
       "      <th>1</th>\n",
       "      <td>6414100192</td>\n",
       "      <td>20141209T000000</td>\n",
       "      <td>538000.0</td>\n",
       "      <td>3</td>\n",
       "      <td>2.25</td>\n",
       "      <td>2570</td>\n",
       "      <td>7242</td>\n",
       "      <td>2.0</td>\n",
       "      <td>0</td>\n",
       "      <td>0</td>\n",
       "      <td>...</td>\n",
       "      <td>7</td>\n",
       "      <td>2170</td>\n",
       "      <td>400</td>\n",
       "      <td>1951</td>\n",
       "      <td>1991</td>\n",
       "      <td>98125</td>\n",
       "      <td>47.7210</td>\n",
       "      <td>-122.319</td>\n",
       "      <td>1690</td>\n",
       "      <td>7639</td>\n",
       "    </tr>\n",
       "    <tr>\n",
       "      <th>2</th>\n",
       "      <td>5631500400</td>\n",
       "      <td>20150225T000000</td>\n",
       "      <td>180000.0</td>\n",
       "      <td>2</td>\n",
       "      <td>1.00</td>\n",
       "      <td>770</td>\n",
       "      <td>10000</td>\n",
       "      <td>1.0</td>\n",
       "      <td>0</td>\n",
       "      <td>0</td>\n",
       "      <td>...</td>\n",
       "      <td>6</td>\n",
       "      <td>770</td>\n",
       "      <td>0</td>\n",
       "      <td>1933</td>\n",
       "      <td>0</td>\n",
       "      <td>98028</td>\n",
       "      <td>47.7379</td>\n",
       "      <td>-122.233</td>\n",
       "      <td>2720</td>\n",
       "      <td>8062</td>\n",
       "    </tr>\n",
       "    <tr>\n",
       "      <th>3</th>\n",
       "      <td>2487200875</td>\n",
       "      <td>20141209T000000</td>\n",
       "      <td>604000.0</td>\n",
       "      <td>4</td>\n",
       "      <td>3.00</td>\n",
       "      <td>1960</td>\n",
       "      <td>5000</td>\n",
       "      <td>1.0</td>\n",
       "      <td>0</td>\n",
       "      <td>0</td>\n",
       "      <td>...</td>\n",
       "      <td>7</td>\n",
       "      <td>1050</td>\n",
       "      <td>910</td>\n",
       "      <td>1965</td>\n",
       "      <td>0</td>\n",
       "      <td>98136</td>\n",
       "      <td>47.5208</td>\n",
       "      <td>-122.393</td>\n",
       "      <td>1360</td>\n",
       "      <td>5000</td>\n",
       "    </tr>\n",
       "    <tr>\n",
       "      <th>4</th>\n",
       "      <td>1954400510</td>\n",
       "      <td>20150218T000000</td>\n",
       "      <td>510000.0</td>\n",
       "      <td>3</td>\n",
       "      <td>2.00</td>\n",
       "      <td>1680</td>\n",
       "      <td>8080</td>\n",
       "      <td>1.0</td>\n",
       "      <td>0</td>\n",
       "      <td>0</td>\n",
       "      <td>...</td>\n",
       "      <td>8</td>\n",
       "      <td>1680</td>\n",
       "      <td>0</td>\n",
       "      <td>1987</td>\n",
       "      <td>0</td>\n",
       "      <td>98074</td>\n",
       "      <td>47.6168</td>\n",
       "      <td>-122.045</td>\n",
       "      <td>1800</td>\n",
       "      <td>7503</td>\n",
       "    </tr>\n",
       "  </tbody>\n",
       "</table>\n",
       "<p>5 rows × 21 columns</p>\n",
       "</div>"
      ],
      "text/plain": [
       "           id             date     price  bedrooms  bathrooms  sqft_living  \\\n",
       "0  7129300520  20141013T000000  221900.0         3       1.00         1180   \n",
       "1  6414100192  20141209T000000  538000.0         3       2.25         2570   \n",
       "2  5631500400  20150225T000000  180000.0         2       1.00          770   \n",
       "3  2487200875  20141209T000000  604000.0         4       3.00         1960   \n",
       "4  1954400510  20150218T000000  510000.0         3       2.00         1680   \n",
       "\n",
       "   sqft_lot  floors  waterfront  view     ...      grade  sqft_above  \\\n",
       "0      5650     1.0           0     0     ...          7        1180   \n",
       "1      7242     2.0           0     0     ...          7        2170   \n",
       "2     10000     1.0           0     0     ...          6         770   \n",
       "3      5000     1.0           0     0     ...          7        1050   \n",
       "4      8080     1.0           0     0     ...          8        1680   \n",
       "\n",
       "   sqft_basement  yr_built  yr_renovated  zipcode      lat     long  \\\n",
       "0              0      1955             0    98178  47.5112 -122.257   \n",
       "1            400      1951          1991    98125  47.7210 -122.319   \n",
       "2              0      1933             0    98028  47.7379 -122.233   \n",
       "3            910      1965             0    98136  47.5208 -122.393   \n",
       "4              0      1987             0    98074  47.6168 -122.045   \n",
       "\n",
       "   sqft_living15  sqft_lot15  \n",
       "0           1340        5650  \n",
       "1           1690        7639  \n",
       "2           2720        8062  \n",
       "3           1360        5000  \n",
       "4           1800        7503  \n",
       "\n",
       "[5 rows x 21 columns]"
      ]
     },
     "execution_count": 6,
     "metadata": {},
     "output_type": "execute_result"
    }
   ],
   "source": [
    "house_data.head()"
   ]
  },
  {
   "cell_type": "code",
   "execution_count": 7,
   "metadata": {},
   "outputs": [
    {
     "name": "stdout",
     "output_type": "stream",
     "text": [
      "<class 'pandas.core.frame.DataFrame'>\n",
      "RangeIndex: 21613 entries, 0 to 21612\n",
      "Data columns (total 21 columns):\n",
      "id               21613 non-null int64\n",
      "date             21613 non-null object\n",
      "price            21613 non-null float64\n",
      "bedrooms         21613 non-null int64\n",
      "bathrooms        21613 non-null float64\n",
      "sqft_living      21613 non-null int64\n",
      "sqft_lot         21613 non-null int64\n",
      "floors           21613 non-null float64\n",
      "waterfront       21613 non-null int64\n",
      "view             21613 non-null int64\n",
      "condition        21613 non-null int64\n",
      "grade            21613 non-null int64\n",
      "sqft_above       21613 non-null int64\n",
      "sqft_basement    21613 non-null int64\n",
      "yr_built         21613 non-null int64\n",
      "yr_renovated     21613 non-null int64\n",
      "zipcode          21613 non-null int64\n",
      "lat              21613 non-null float64\n",
      "long             21613 non-null float64\n",
      "sqft_living15    21613 non-null int64\n",
      "sqft_lot15       21613 non-null int64\n",
      "dtypes: float64(5), int64(15), object(1)\n",
      "memory usage: 3.5+ MB\n"
     ]
    }
   ],
   "source": [
    "house_data.info()"
   ]
  },
  {
   "cell_type": "code",
   "execution_count": 8,
   "metadata": {},
   "outputs": [
    {
     "data": {
      "text/plain": [
       "<matplotlib.collections.PathCollection at 0x1c11ba84a58>"
      ]
     },
     "execution_count": 8,
     "metadata": {},
     "output_type": "execute_result"
    },
    {
     "data": {
      "image/png": "[encoded data removed]",
      "text/plain": [
       "<Figure size 432x288 with 1 Axes>"
      ]
     },
     "metadata": {},
     "output_type": "display_data"
    }
   ],
   "source": [
    "plt.scatter(house_data['bedrooms'],house_data['price'])"
   ]
  },
  {
   "cell_type": "code",
   "execution_count": 14,
   "metadata": {},
   "outputs": [],
   "source": [
    "def transform(x):\n",
    "    x = x[:4]"
   ]
  },
  {
   "cell_type": "code",
   "execution_count": 16,
   "metadata": {},
   "outputs": [
    {
     "data": {
      "text/plain": [
       "Index(['id', 'date', 'price', 'bedrooms', 'bathrooms', 'sqft_living',\n",
       "       'sqft_lot', 'floors', 'waterfront', 'view', 'condition', 'grade',\n",
       "       'sqft_above', 'sqft_basement', 'yr_built', 'yr_renovated', 'zipcode',\n",
       "       'lat', 'long', 'sqft_living15', 'sqft_lot15'],\n",
       "      dtype='object')"
      ]
     },
     "execution_count": 16,
     "metadata": {},
     "output_type": "execute_result"
    }
   ],
   "source": [
    "house_data.columns"
   ]
  },
  {
   "cell_type": "code",
   "execution_count": 18,
   "metadata": {},
   "outputs": [
    {
     "name": "stdout",
     "output_type": "stream",
     "text": [
      "<class 'pandas.core.frame.DataFrame'>\n",
      "RangeIndex: 21613 entries, 0 to 21612\n",
      "Data columns (total 21 columns):\n",
      "id               21613 non-null int64\n",
      "date             21613 non-null object\n",
      "price            21613 non-null float64\n",
      "bedrooms         21613 non-null int64\n",
      "bathrooms        21613 non-null float64\n",
      "sqft_living      21613 non-null int64\n",
      "sqft_lot         21613 non-null int64\n",
      "floors           21613 non-null float64\n",
      "waterfront       21613 non-null int64\n",
      "view             21613 non-null int64\n",
      "condition        21613 non-null int64\n",
      "grade            21613 non-null int64\n",
      "sqft_above       21613 non-null int64\n",
      "sqft_basement    21613 non-null int64\n",
      "yr_built         21613 non-null int64\n",
      "yr_renovated     21613 non-null int64\n",
      "zipcode          21613 non-null int64\n",
      "lat              21613 non-null float64\n",
      "long             21613 non-null float64\n",
      "sqft_living15    21613 non-null int64\n",
      "sqft_lot15       21613 non-null int64\n",
      "dtypes: float64(5), int64(15), object(1)\n",
      "memory usage: 3.5+ MB\n"
     ]
    }
   ],
   "source": [
    "house_data.info()"
   ]
  },
  {
   "cell_type": "code",
   "execution_count": 52,
   "metadata": {},
   "outputs": [],
   "source": [
    "X = house_data.drop(['id','zipcode','price','date'],axis=1)\n",
    "y = house_data['price']"
   ]
  },
  {
   "cell_type": "code",
   "execution_count": 26,
   "metadata": {},
   "outputs": [],
   "source": [
    "def transform(x):\n",
    "    x = x[:4]\n",
    "    return int(x)"
   ]
  },
  {
   "cell_type": "code",
   "execution_count": 29,
   "metadata": {},
   "outputs": [],
   "source": []
  },
  {
   "cell_type": "code",
   "execution_count": 53,
   "metadata": {},
   "outputs": [
    {
     "name": "stdout",
     "output_type": "stream",
     "text": [
      "<class 'pandas.core.frame.DataFrame'>\n",
      "RangeIndex: 21613 entries, 0 to 21612\n",
      "Data columns (total 21 columns):\n",
      "id               21613 non-null int64\n",
      "date             21613 non-null object\n",
      "price            21613 non-null float64\n",
      "bedrooms         21613 non-null int64\n",
      "bathrooms        21613 non-null float64\n",
      "sqft_living      21613 non-null int64\n",
      "sqft_lot         21613 non-null int64\n",
      "floors           21613 non-null float64\n",
      "waterfront       21613 non-null int64\n",
      "view             21613 non-null int64\n",
      "condition        21613 non-null int64\n",
      "grade            21613 non-null int64\n",
      "sqft_above       21613 non-null int64\n",
      "sqft_basement    21613 non-null int64\n",
      "yr_built         21613 non-null int64\n",
      "yr_renovated     21613 non-null int64\n",
      "zipcode          21613 non-null int64\n",
      "lat              21613 non-null float64\n",
      "long             21613 non-null float64\n",
      "sqft_living15    21613 non-null int64\n",
      "sqft_lot15       21613 non-null int64\n",
      "dtypes: float64(5), int64(15), object(1)\n",
      "memory usage: 3.5+ MB\n"
     ]
    }
   ],
   "source": [
    "house_data.info()"
   ]
  },
  {
   "cell_type": "code",
   "execution_count": 54,
   "metadata": {},
   "outputs": [
    {
     "data": {
      "text/html": [
       "<div>\n",
       "<style scoped>\n",
       "    .dataframe tbody tr th:only-of-type {\n",
       "        vertical-align: middle;\n",
       "    }\n",
       "\n",
       "    .dataframe tbody tr th {\n",
       "        vertical-align: top;\n",
       "    }\n",
       "\n",
       "    .dataframe thead th {\n",
       "        text-align: right;\n",
       "    }\n",
       "</style>\n",
       "<table border=\"1\" class=\"dataframe\">\n",
       "  <thead>\n",
       "    <tr style=\"text-align: right;\">\n",
       "      <th></th>\n",
       "      <th>bedrooms</th>\n",
       "      <th>bathrooms</th>\n",
       "      <th>sqft_living</th>\n",
       "      <th>sqft_lot</th>\n",
       "      <th>floors</th>\n",
       "      <th>waterfront</th>\n",
       "      <th>view</th>\n",
       "      <th>condition</th>\n",
       "      <th>grade</th>\n",
       "      <th>sqft_above</th>\n",
       "      <th>sqft_basement</th>\n",
       "      <th>yr_built</th>\n",
       "      <th>yr_renovated</th>\n",
       "      <th>lat</th>\n",
       "      <th>long</th>\n",
       "      <th>sqft_living15</th>\n",
       "      <th>sqft_lot15</th>\n",
       "    </tr>\n",
       "  </thead>\n",
       "  <tbody>\n",
       "    <tr>\n",
       "      <th>0</th>\n",
       "      <td>3</td>\n",
       "      <td>1.00</td>\n",
       "      <td>1180</td>\n",
       "      <td>5650</td>\n",
       "      <td>1.0</td>\n",
       "      <td>0</td>\n",
       "      <td>0</td>\n",
       "      <td>3</td>\n",
       "      <td>7</td>\n",
       "      <td>1180</td>\n",
       "      <td>0</td>\n",
       "      <td>1955</td>\n",
       "      <td>0</td>\n",
       "      <td>47.5112</td>\n",
       "      <td>-122.257</td>\n",
       "      <td>1340</td>\n",
       "      <td>5650</td>\n",
       "    </tr>\n",
       "    <tr>\n",
       "      <th>1</th>\n",
       "      <td>3</td>\n",
       "      <td>2.25</td>\n",
       "      <td>2570</td>\n",
       "      <td>7242</td>\n",
       "      <td>2.0</td>\n",
       "      <td>0</td>\n",
       "      <td>0</td>\n",
       "      <td>3</td>\n",
       "      <td>7</td>\n",
       "      <td>2170</td>\n",
       "      <td>400</td>\n",
       "      <td>1951</td>\n",
       "      <td>1991</td>\n",
       "      <td>47.7210</td>\n",
       "      <td>-122.319</td>\n",
       "      <td>1690</td>\n",
       "      <td>7639</td>\n",
       "    </tr>\n",
       "    <tr>\n",
       "      <th>2</th>\n",
       "      <td>2</td>\n",
       "      <td>1.00</td>\n",
       "      <td>770</td>\n",
       "      <td>10000</td>\n",
       "      <td>1.0</td>\n",
       "      <td>0</td>\n",
       "      <td>0</td>\n",
       "      <td>3</td>\n",
       "      <td>6</td>\n",
       "      <td>770</td>\n",
       "      <td>0</td>\n",
       "      <td>1933</td>\n",
       "      <td>0</td>\n",
       "      <td>47.7379</td>\n",
       "      <td>-122.233</td>\n",
       "      <td>2720</td>\n",
       "      <td>8062</td>\n",
       "    </tr>\n",
       "    <tr>\n",
       "      <th>3</th>\n",
       "      <td>4</td>\n",
       "      <td>3.00</td>\n",
       "      <td>1960</td>\n",
       "      <td>5000</td>\n",
       "      <td>1.0</td>\n",
       "      <td>0</td>\n",
       "      <td>0</td>\n",
       "      <td>5</td>\n",
       "      <td>7</td>\n",
       "      <td>1050</td>\n",
       "      <td>910</td>\n",
       "      <td>1965</td>\n",
       "      <td>0</td>\n",
       "      <td>47.5208</td>\n",
       "      <td>-122.393</td>\n",
       "      <td>1360</td>\n",
       "      <td>5000</td>\n",
       "    </tr>\n",
       "    <tr>\n",
       "      <th>4</th>\n",
       "      <td>3</td>\n",
       "      <td>2.00</td>\n",
       "      <td>1680</td>\n",
       "      <td>8080</td>\n",
       "      <td>1.0</td>\n",
       "      <td>0</td>\n",
       "      <td>0</td>\n",
       "      <td>3</td>\n",
       "      <td>8</td>\n",
       "      <td>1680</td>\n",
       "      <td>0</td>\n",
       "      <td>1987</td>\n",
       "      <td>0</td>\n",
       "      <td>47.6168</td>\n",
       "      <td>-122.045</td>\n",
       "      <td>1800</td>\n",
       "      <td>7503</td>\n",
       "    </tr>\n",
       "  </tbody>\n",
       "</table>\n",
       "</div>"
      ],
      "text/plain": [
       "   bedrooms  bathrooms  sqft_living  sqft_lot  floors  waterfront  view  \\\n",
       "0         3       1.00         1180      5650     1.0           0     0   \n",
       "1         3       2.25         2570      7242     2.0           0     0   \n",
       "2         2       1.00          770     10000     1.0           0     0   \n",
       "3         4       3.00         1960      5000     1.0           0     0   \n",
       "4         3       2.00         1680      8080     1.0           0     0   \n",
       "\n",
       "   condition  grade  sqft_above  sqft_basement  yr_built  yr_renovated  \\\n",
       "0          3      7        1180              0      1955             0   \n",
       "1          3      7        2170            400      1951          1991   \n",
       "2          3      6         770              0      1933             0   \n",
       "3          5      7        1050            910      1965             0   \n",
       "4          3      8        1680              0      1987             0   \n",
       "\n",
       "       lat     long  sqft_living15  sqft_lot15  \n",
       "0  47.5112 -122.257           1340        5650  \n",
       "1  47.7210 -122.319           1690        7639  \n",
       "2  47.7379 -122.233           2720        8062  \n",
       "3  47.5208 -122.393           1360        5000  \n",
       "4  47.6168 -122.045           1800        7503  "
      ]
     },
     "execution_count": 54,
     "metadata": {},
     "output_type": "execute_result"
    }
   ],
   "source": [
    "X.head()"
   ]
  },
  {
   "cell_type": "code",
   "execution_count": 33,
   "metadata": {},
   "outputs": [
    {
     "name": "stderr",
     "output_type": "stream",
     "text": [
      "D:\\Anaconda\\lib\\site-packages\\h5py\\__init__.py:36: FutureWarning: Conversion of the second argument of issubdtype from `float` to `np.floating` is deprecated. In future, it will be treated as `np.float64 == np.dtype(float).type`.\n",
      "  from ._conv import register_converters as _register_converters\n",
      "Using TensorFlow backend.\n"
     ]
    }
   ],
   "source": [
    "import keras"
   ]
  },
  {
   "cell_type": "code",
   "execution_count": 34,
   "metadata": {},
   "outputs": [],
   "source": [
    "from sklearn.preprocessing import StandardScaler"
   ]
  },
  {
   "cell_type": "code",
   "execution_count": 35,
   "metadata": {},
   "outputs": [],
   "source": [
    "from sklearn.model_selection import train_test_split"
   ]
  },
  {
   "cell_type": "code",
   "execution_count": 55,
   "metadata": {},
   "outputs": [],
   "source": [
    "X_train, X_test, y_train, y_test = train_test_split(X, y, test_size=0.3, random_state=42)"
   ]
  },
  {
   "cell_type": "code",
   "execution_count": 56,
   "metadata": {},
   "outputs": [],
   "source": [
    "sc = StandardScaler()\n",
    "X_train = sc.fit_transform(X_train)\n",
    "X_test = sc.transform(X_test)"
   ]
  },
  {
   "cell_type": "code",
   "execution_count": 39,
   "metadata": {},
   "outputs": [],
   "source": [
    "from sklearn.linear_model import LinearRegression"
   ]
  },
  {
   "cell_type": "code",
   "execution_count": 57,
   "metadata": {},
   "outputs": [],
   "source": [
    "lr = LinearRegression()"
   ]
  },
  {
   "cell_type": "code",
   "execution_count": 58,
   "metadata": {},
   "outputs": [
    {
     "data": {
      "text/plain": [
       "LinearRegression(copy_X=True, fit_intercept=True, n_jobs=1, normalize=False)"
      ]
     },
     "execution_count": 58,
     "metadata": {},
     "output_type": "execute_result"
    }
   ],
   "source": [
    "lr.fit(X_train,y_train)"
   ]
  },
  {
   "cell_type": "code",
   "execution_count": 59,
   "metadata": {},
   "outputs": [
    {
     "data": {
      "text/plain": [
       "537640.173177342"
      ]
     },
     "execution_count": 59,
     "metadata": {},
     "output_type": "execute_result"
    }
   ],
   "source": [
    "lr.intercept_\n"
   ]
  },
  {
   "cell_type": "code",
   "execution_count": 60,
   "metadata": {},
   "outputs": [
    {
     "data": {
      "text/html": [
       "<div>\n",
       "<style scoped>\n",
       "    .dataframe tbody tr th:only-of-type {\n",
       "        vertical-align: middle;\n",
       "    }\n",
       "\n",
       "    .dataframe tbody tr th {\n",
       "        vertical-align: top;\n",
       "    }\n",
       "\n",
       "    .dataframe thead th {\n",
       "        text-align: right;\n",
       "    }\n",
       "</style>\n",
       "<table border=\"1\" class=\"dataframe\">\n",
       "  <thead>\n",
       "    <tr style=\"text-align: right;\">\n",
       "      <th></th>\n",
       "      <th>Coff</th>\n",
       "    </tr>\n",
       "  </thead>\n",
       "  <tbody>\n",
       "    <tr>\n",
       "      <th>bedrooms</th>\n",
       "      <td>-30573.771566</td>\n",
       "    </tr>\n",
       "    <tr>\n",
       "      <th>bathrooms</th>\n",
       "      <td>31747.899508</td>\n",
       "    </tr>\n",
       "    <tr>\n",
       "      <th>sqft_living</th>\n",
       "      <td>82048.060147</td>\n",
       "    </tr>\n",
       "    <tr>\n",
       "      <th>sqft_lot</th>\n",
       "      <td>3631.677235</td>\n",
       "    </tr>\n",
       "    <tr>\n",
       "      <th>floors</th>\n",
       "      <td>-201.800078</td>\n",
       "    </tr>\n",
       "    <tr>\n",
       "      <th>waterfront</th>\n",
       "      <td>46142.561319</td>\n",
       "    </tr>\n",
       "    <tr>\n",
       "      <th>view</th>\n",
       "      <td>39436.210810</td>\n",
       "    </tr>\n",
       "    <tr>\n",
       "      <th>condition</th>\n",
       "      <td>17826.345922</td>\n",
       "    </tr>\n",
       "    <tr>\n",
       "      <th>grade</th>\n",
       "      <td>112657.559079</td>\n",
       "    </tr>\n",
       "    <tr>\n",
       "      <th>sqft_above</th>\n",
       "      <td>76725.308565</td>\n",
       "    </tr>\n",
       "    <tr>\n",
       "      <th>sqft_basement</th>\n",
       "      <td>25814.785510</td>\n",
       "    </tr>\n",
       "    <tr>\n",
       "      <th>yr_built</th>\n",
       "      <td>-71743.868711</td>\n",
       "    </tr>\n",
       "    <tr>\n",
       "      <th>yr_renovated</th>\n",
       "      <td>9466.732924</td>\n",
       "    </tr>\n",
       "    <tr>\n",
       "      <th>lat</th>\n",
       "      <td>77035.028084</td>\n",
       "    </tr>\n",
       "    <tr>\n",
       "      <th>long</th>\n",
       "      <td>-14354.830393</td>\n",
       "    </tr>\n",
       "    <tr>\n",
       "      <th>sqft_living15</th>\n",
       "      <td>14742.111126</td>\n",
       "    </tr>\n",
       "    <tr>\n",
       "      <th>sqft_lot15</th>\n",
       "      <td>-9178.943585</td>\n",
       "    </tr>\n",
       "  </tbody>\n",
       "</table>\n",
       "</div>"
      ],
      "text/plain": [
       "                        Coff\n",
       "bedrooms       -30573.771566\n",
       "bathrooms       31747.899508\n",
       "sqft_living     82048.060147\n",
       "sqft_lot         3631.677235\n",
       "floors           -201.800078\n",
       "waterfront      46142.561319\n",
       "view            39436.210810\n",
       "condition       17826.345922\n",
       "grade          112657.559079\n",
       "sqft_above      76725.308565\n",
       "sqft_basement   25814.785510\n",
       "yr_built       -71743.868711\n",
       "yr_renovated     9466.732924\n",
       "lat             77035.028084\n",
       "long           -14354.830393\n",
       "sqft_living15   14742.111126\n",
       "sqft_lot15      -9178.943585"
      ]
     },
     "execution_count": 60,
     "metadata": {},
     "output_type": "execute_result"
    }
   ],
   "source": [
    "pd.DataFrame(data = lr.coef_,columns=['Coff'],index=X.columns)"
   ]
  },
  {
   "cell_type": "code",
   "execution_count": 61,
   "metadata": {},
   "outputs": [],
   "source": [
    "pred_lr = lr.predict(X_test)"
   ]
  },
  {
   "cell_type": "code",
   "execution_count": 64,
   "metadata": {},
   "outputs": [
    {
     "data": {
      "text/plain": [
       "<matplotlib.collections.PathCollection at 0x1c12adb4080>"
      ]
     },
     "execution_count": 64,
     "metadata": {},
     "output_type": "execute_result"
    },
    {
     "data": {
      "image/png": "[encoded data removed]",
      "text/plain": [
       "<Figure size 432x288 with 1 Axes>"
      ]
     },
     "metadata": {},
     "output_type": "display_data"
    }
   ],
   "source": [
    "plt.scatter(y_test,pred_lr)"
   ]
  },
  {
   "cell_type": "code",
   "execution_count": 65,
   "metadata": {},
   "outputs": [],
   "source": [
    "from sklearn.metrics import mean_squared_error"
   ]
  },
  {
   "cell_type": "code",
   "execution_count": 66,
   "metadata": {},
   "outputs": [
    {
     "data": {
      "text/plain": [
       "44093475276.57323"
      ]
     },
     "execution_count": 66,
     "metadata": {},
     "output_type": "execute_result"
    }
   ],
   "source": [
    "mean_squared_error(y_test,pred_lr)"
   ]
  },
  {
   "cell_type": "code",
   "execution_count": 70,
   "metadata": {},
   "outputs": [],
   "source": [
    "from keras.models import Sequential\n",
    "from keras.layers import Dense,Dropout"
   ]
  },
  {
   "cell_type": "code",
   "execution_count": 74,
   "metadata": {},
   "outputs": [],
   "source": [
    "model = Sequential([\n",
    "    Dense(units=7,kernel_initializer='uniform',activation='relu', input_shape=(17,)),\n",
    "    Dense(units=7,kernel_initializer='uniform',activation='relu'),\n",
    "    Dropout(0.4),\n",
    "    Dense(units=3,kernel_initializer='uniform',activation='relu'),\n",
    "    Dense(units=1,kernel_initializer='uniform')\n",
    "])"
   ]
  },
  {
   "cell_type": "code",
   "execution_count": 75,
   "metadata": {},
   "outputs": [],
   "source": [
    "model.compile(optimizer='adam',loss='mean_squared_error')"
   ]
  },
  {
   "cell_type": "code",
   "execution_count": 96,
   "metadata": {},
   "outputs": [
    {
     "name": "stdout",
     "output_type": "stream",
     "text": [
      "Train on 15129 samples, validate on 6484 samples\n",
      "Epoch 1/100\n",
      "15129/15129 [==============================] - 1s 90us/step - loss: 61852976596.3096 - val_loss: 39755549649.2535\n",
      "Epoch 2/100\n",
      "15129/15129 [==============================] - 1s 92us/step - loss: 62824947709.2926 - val_loss: 39170025952.7304\n",
      "Epoch 3/100\n",
      "15129/15129 [==============================] - 1s 87us/step - loss: 63717418862.7489 - val_loss: 38979379660.5157\n",
      "Epoch 4/100\n",
      "15129/15129 [==============================] - 1s 88us/step - loss: 65487544468.6353 - val_loss: 38954462522.5910\n",
      "Epoch 5/100\n",
      "15129/15129 [==============================] - 1s 90us/step - loss: 66923604044.3482 - val_loss: 39300605336.0839\n",
      "Epoch 6/100\n",
      "15129/15129 [==============================] - 1s 87us/step - loss: 67299594858.6371 - val_loss: 39491559095.5114\n",
      "Epoch 7/100\n",
      "15129/15129 [==============================] - 1s 86us/step - loss: 65349190705.2067 - val_loss: 39531720302.2332\n",
      "Epoch 8/100\n",
      "15129/15129 [==============================] - 1s 89us/step - loss: 64379645059.3758 - val_loss: 39449792790.5836\n",
      "Epoch 9/100\n",
      "15129/15129 [==============================] - 1s 95us/step - loss: 68917913267.9395 - val_loss: 40239101081.5052\n",
      "Epoch 10/100\n",
      "15129/15129 [==============================] - 1s 94us/step - loss: 68111077483.4831 - val_loss: 39873828238.6083\n",
      "Epoch 11/100\n",
      "15129/15129 [==============================] - 1s 93us/step - loss: 63541652841.5033 - val_loss: 38882071016.9426\n",
      "Epoch 12/100\n",
      "15129/15129 [==============================] - 1s 89us/step - loss: 67151622983.5595 - val_loss: 39846375262.2825\n",
      "Epoch 13/100\n",
      "15129/15129 [==============================] - 1s 88us/step - loss: 61967412111.4405 - val_loss: 39630571181.4041\n",
      "Epoch 14/100\n",
      "15129/15129 [==============================] - 1s 87us/step - loss: 66173909260.1663 - val_loss: 39050861360.7995\n",
      "Epoch 15/100\n",
      "15129/15129 [==============================] - 1s 90us/step - loss: 63702836649.8037 - val_loss: 39065575569.2930\n",
      "Epoch 16/100\n",
      "15129/15129 [==============================] - 1s 89us/step - loss: 64145328892.1589 - val_loss: 39759095380.3331\n",
      "Epoch 17/100\n",
      "15129/15129 [==============================] - 1s 89us/step - loss: 63796548881.1073 - val_loss: 39708284574.2431\n",
      "Epoch 18/100\n",
      "15129/15129 [==============================] - 1s 90us/step - loss: 67675829261.1985 - val_loss: 39939470658.1715\n",
      "Epoch 19/100\n",
      "15129/15129 [==============================] - 1s 90us/step - loss: 63662058092.6676 - val_loss: 39666498044.5256\n",
      "Epoch 20/100\n",
      "15129/15129 [==============================] - 1s 89us/step - loss: 64626080382.4010 - val_loss: 39277115496.2320\n",
      "Epoch 21/100\n",
      "15129/15129 [==============================] - 1s 96us/step - loss: 63703260536.3939 - val_loss: 38686083528.7255\n",
      "Epoch 22/100\n",
      "15129/15129 [==============================] - 2s 105us/step - loss: 65081703991.5352 - val_loss: 39531150512.8785\n",
      "Epoch 23/100\n",
      "15129/15129 [==============================] - 2s 105us/step - loss: 64544030952.8350 - val_loss: 39883791358.1049\n",
      "Epoch 24/100\n",
      "15129/15129 [==============================] - 2s 104us/step - loss: 64107810479.4723 - val_loss: 39138328160.3356\n",
      "Epoch 25/100\n",
      "15129/15129 [==============================] - 2s 106us/step - loss: 69010068431.1994 - val_loss: 39721470965.2609\n",
      "Epoch 26/100\n",
      "15129/15129 [==============================] - 2s 105us/step - loss: 64526581369.3246 - val_loss: 39557928124.8809\n",
      "Epoch 27/100\n",
      "15129/15129 [==============================] - 2s 106us/step - loss: 66191959489.8994 - val_loss: 38595060794.7489\n",
      "Epoch 28/100\n",
      "15129/15129 [==============================] - 2s 106us/step - loss: 67313843260.1716 - val_loss: 39063228045.8186\n",
      "Epoch 29/100\n",
      "15129/15129 [==============================] - 2s 108us/step - loss: 68648207364.8056 - val_loss: 39492080387.9482\n",
      "Epoch 30/100\n",
      "15129/15129 [==============================] - 2s 107us/step - loss: 65176121695.4183 - val_loss: 39673783021.2067\n",
      "Epoch 31/100\n",
      "15129/15129 [==============================] - 2s 106us/step - loss: 64447049527.3829 - val_loss: 39571278350.2134\n",
      "Epoch 32/100\n",
      "15129/15129 [==============================] - 2s 105us/step - loss: 65565593343.3401 - val_loss: 39271077080.0444\n",
      "Epoch 33/100\n",
      "15129/15129 [==============================] - 2s 106us/step - loss: 64107940337.7524 - val_loss: 39670539944.9821\n",
      "Epoch 34/100\n",
      "15129/15129 [==============================] - 2s 107us/step - loss: 63224952481.2585 - val_loss: 39483826706.0037\n",
      "Epoch 35/100\n",
      "15129/15129 [==============================] - 2s 108us/step - loss: 64554703942.4596 - val_loss: 38973798502.3368\n",
      "Epoch 36/100\n",
      "15129/15129 [==============================] - 2s 109us/step - loss: 63569730065.5641 - val_loss: 39927510443.0352\n",
      "Epoch 37/100\n",
      "15129/15129 [==============================] - 2s 105us/step - loss: 64975283788.3820 - val_loss: 39147860996.4220\n",
      "Epoch 38/100\n",
      "15129/15129 [==============================] - 2s 115us/step - loss: 66510923037.5612 - val_loss: 39381142070.0111\n",
      "Epoch 39/100\n",
      "15129/15129 [==============================] - 1s 97us/step - loss: 65865427707.3467 - val_loss: 38720865053.2165\n",
      "Epoch 40/100\n",
      "15129/15129 [==============================] - 1s 92us/step - loss: 65143614283.8913 - val_loss: 39185104023.6101\n",
      "Epoch 41/100\n",
      "15129/15129 [==============================] - 1s 93us/step - loss: 64456468136.5684 - val_loss: 38995341596.9007\n",
      "Epoch 42/100\n",
      "15129/15129 [==============================] - 1s 93us/step - loss: 63805803653.2709 - val_loss: 39082218229.4189\n",
      "Epoch 43/100\n",
      "15129/15129 [==============================] - 1s 94us/step - loss: 65446921909.3608 - val_loss: 38275357184.9476\n",
      "Epoch 44/100\n",
      "15129/15129 [==============================] - 1s 95us/step - loss: 66687047310.8483 - val_loss: 39122077822.9735\n",
      "Epoch 45/100\n",
      "15129/15129 [==============================] - 1s 93us/step - loss: 65894994299.0336 - val_loss: 38877018656.5330\n",
      "Epoch 46/100\n",
      "15129/15129 [==============================] - 1s 93us/step - loss: 65260078684.7617 - val_loss: 39183941086.8353\n",
      "Epoch 47/100\n",
      "15129/15129 [==============================] - 1s 94us/step - loss: 67747593472.9984 - val_loss: 39456275776.9081\n",
      "Epoch 48/100\n",
      "15129/15129 [==============================] - 1s 94us/step - loss: 63757812076.9553 - val_loss: 38713262072.4195\n",
      "Epoch 49/100\n",
      "15129/15129 [==============================] - 1s 95us/step - loss: 65810423740.3154 - val_loss: 39753507294.2036\n",
      "Epoch 50/100\n",
      "15129/15129 [==============================] - 1s 94us/step - loss: 67134552634.5810 - val_loss: 39105865987.6323\n",
      "Epoch 51/100\n",
      "15129/15129 [==============================] - 1s 98us/step - loss: 66061188370.3256 - val_loss: 39100921615.3189\n",
      "Epoch 52/100\n",
      "15129/15129 [==============================] - 1s 93us/step - loss: 62987825573.2688 - val_loss: 38932028717.9568\n",
      "Epoch 53/100\n",
      "15129/15129 [==============================] - 2s 102us/step - loss: 63694522171.8501 - val_loss: 38491672044.1012\n",
      "Epoch 54/100\n",
      "15129/15129 [==============================] - 1s 97us/step - loss: 65517089446.6056 - val_loss: 38724635021.9766\n",
      "Epoch 55/100\n",
      "15129/15129 [==============================] - 1s 96us/step - loss: 63388705886.1493 - val_loss: 38302655788.6934\n",
      "Epoch 56/100\n",
      "15129/15129 [==============================] - 1s 96us/step - loss: 65578311309.6300 - val_loss: 38281028182.2283\n",
      "Epoch 57/100\n",
      "15129/15129 [==============================] - 1s 96us/step - loss: 67980474053.4021 - val_loss: 38693974208.6712\n",
      "Epoch 58/100\n",
      "15129/15129 [==============================] - 1s 97us/step - loss: 64828574368.3786 - val_loss: 38498189037.2067\n",
      "Epoch 59/100\n",
      "15129/15129 [==============================] - 1s 97us/step - loss: 66869334960.6060 - val_loss: 38339647412.8267\n",
      "Epoch 60/100\n",
      "15129/15129 [==============================] - 1s 97us/step - loss: 65626490258.5202 - val_loss: 38911103361.3424\n",
      "Epoch 61/100\n",
      "15129/15129 [==============================] - 2s 113us/step - loss: 66982148335.4680 - val_loss: 39240371476.0568\n",
      "Epoch 62/100\n",
      "15129/15129 [==============================] - 1s 97us/step - loss: 62032292751.0344 - val_loss: 38389950313.0216\n",
      "Epoch 63/100\n",
      "15129/15129 [==============================] - 1s 97us/step - loss: 65835288502.6299 - val_loss: 38157561958.3368\n",
      "Epoch 64/100\n",
      "15129/15129 [==============================] - 1s 97us/step - loss: 64950138022.1656 - val_loss: 38511691183.4571\n",
      "Epoch 65/100\n",
      "15129/15129 [==============================] - 1s 96us/step - loss: 61609863278.5966 - val_loss: 38624862430.3615\n",
      "Epoch 66/100\n",
      "15129/15129 [==============================] - 1s 96us/step - loss: 63709044256.2517 - val_loss: 39384880199.3831\n",
      "Epoch 67/100\n",
      "15129/15129 [==============================] - 1s 95us/step - loss: 62467489559.5712 - val_loss: 39545417498.0580\n",
      "Epoch 68/100\n",
      "15129/15129 [==============================] - 1s 96us/step - loss: 67166834335.3633 - val_loss: 38980282302.3023\n",
      "Epoch 69/100\n",
      "15129/15129 [==============================] - 1s 98us/step - loss: 64955515449.9042 - val_loss: 38619708549.2906\n",
      "Epoch 70/100\n",
      "15129/15129 [==============================] - 1s 95us/step - loss: 64688084999.1746 - val_loss: 38835570752.4343\n",
      "Epoch 71/100\n",
      "15129/15129 [==============================] - 1s 94us/step - loss: 67633784898.1955 - val_loss: 38737345285.8433\n",
      "Epoch 72/100\n",
      "15129/15129 [==============================] - 2s 101us/step - loss: 65566498607.5315 - val_loss: 38690416941.3251\n",
      "Epoch 73/100\n",
      "15129/15129 [==============================] - 1s 94us/step - loss: 63218273247.3083 - val_loss: 38571477724.1505\n",
      "Epoch 74/100\n",
      "15129/15129 [==============================] - 1s 94us/step - loss: 63320083899.2663 - val_loss: 38291147902.3418\n",
      "Epoch 75/100\n",
      "15129/15129 [==============================] - 1s 94us/step - loss: 66068723675.3150 - val_loss: 38173136527.0820\n",
      "Epoch 76/100\n",
      "15129/15129 [==============================] - 1s 98us/step - loss: 65196781454.2899 - val_loss: 38935913913.5645\n",
      "Epoch 77/100\n",
      "15129/15129 [==============================] - 1s 95us/step - loss: 66189905120.5098 - val_loss: 39249451359.8618\n",
      "Epoch 78/100\n",
      "15129/15129 [==============================] - 1s 95us/step - loss: 64983972404.4894 - val_loss: 38925611836.1703\n",
      "Epoch 79/100\n",
      "15129/15129 [==============================] - 1s 98us/step - loss: 64254773431.6959 - val_loss: 38070055685.2116\n",
      "Epoch 80/100\n",
      "15129/15129 [==============================] - 1s 98us/step - loss: 63313390319.9757 - val_loss: 38693591998.3023\n",
      "Epoch 81/100\n",
      "15129/15129 [==============================] - 1s 96us/step - loss: 62628257144.9354 - val_loss: 38309468172.6342\n",
      "Epoch 82/100\n",
      "15129/15129 [==============================] - 1s 97us/step - loss: 66931744207.7071 - val_loss: 38338450488.2221\n",
      "Epoch 83/100\n",
      "15129/15129 [==============================] - 2s 101us/step - loss: 63711668554.1654 - val_loss: 39111467613.1770\n",
      "Epoch 84/100\n",
      "15129/15129 [==============================] - 1s 98us/step - loss: 63061744917.3037 - val_loss: 38842182599.1462\n",
      "Epoch 85/100\n",
      "15129/15129 [==============================] - 1s 98us/step - loss: 65235176449.8275 - val_loss: 38137937525.1820\n",
      "Epoch 86/100\n",
      "15129/15129 [==============================] - 1s 94us/step - loss: 64516417498.5027 - val_loss: 38270301099.3510\n",
      "Epoch 87/100\n",
      "15129/15129 [==============================] - 1s 94us/step - loss: 62479104439.6790 - val_loss: 38947018113.9741\n",
      "Epoch 88/100\n",
      "15129/15129 [==============================] - 1s 96us/step - loss: 65157903897.3479 - val_loss: 38342290237.4337\n",
      "Epoch 89/100\n",
      "15129/15129 [==============================] - 1s 94us/step - loss: 62609015016.1581 - val_loss: 38511569989.4880\n",
      "Epoch 90/100\n",
      "15129/15129 [==============================] - 1s 97us/step - loss: 66226047256.0788 - val_loss: 38774317189.9223\n",
      "Epoch 91/100\n",
      "15129/15129 [==============================] - 1s 98us/step - loss: 64482266060.0859 - val_loss: 38447336428.4170\n",
      "Epoch 92/100\n",
      "15129/15129 [==============================] - 1s 98us/step - loss: 64391364918.2661 - val_loss: 37802743485.1968\n",
      "Epoch 93/100\n",
      "15129/15129 [==============================] - 1s 97us/step - loss: 64397968800.1925 - val_loss: 37933365947.3017\n",
      "Epoch 94/100\n",
      "15129/15129 [==============================] - 1s 97us/step - loss: 68647708701.1044 - val_loss: 38054288191.3288\n",
      "Epoch 95/100\n",
      "15129/15129 [==============================] - 1s 95us/step - loss: 62076125741.4502 - val_loss: 38282152795.7557\n",
      "Epoch 96/100\n",
      "15129/15129 [==============================] - 1s 94us/step - loss: 68975967709.1086 - val_loss: 38336239367.1067\n",
      "Epoch 97/100\n",
      "15129/15129 [==============================] - 1s 94us/step - loss: 63806346804.1510 - val_loss: 38567945746.0037\n",
      "Epoch 98/100\n",
      "15129/15129 [==============================] - 1s 93us/step - loss: 65433466189.2112 - val_loss: 38560152318.8945\n",
      "Epoch 99/100\n",
      "15129/15129 [==============================] - 1s 92us/step - loss: 63904352528.4981 - val_loss: 38879150268.2492\n",
      "Epoch 100/100\n",
      "15129/15129 [==============================] - 2s 100us/step - loss: 61949958803.6539 - val_loss: 38207506022.6527\n"
     ]
    }
   ],
   "source": [
    "hist = model.fit(X_train,y_train,epochs=100,batch_size=16,validation_data=(X_test,y_test),validation_split=0.25)"
   ]
  },
  {
   "cell_type": "code",
   "execution_count": 100,
   "metadata": {},
   "outputs": [],
   "source": [
    "pred_m = model.predict(X_test)"
   ]
  },
  {
   "cell_type": "code",
   "execution_count": 101,
   "metadata": {},
   "outputs": [
    {
     "data": {
      "text/plain": [
       "<matplotlib.collections.PathCollection at 0x1c13524b7f0>"
      ]
     },
     "execution_count": 101,
     "metadata": {},
     "output_type": "execute_result"
    },
    {
     "data": {
      "image/png": "[encoded data removed]",
      "text/plain": [
       "<Figure size 432x288 with 1 Axes>"
      ]
     },
     "metadata": {},
     "output_type": "display_data"
    }
   ],
   "source": [
    "plt.scatter(y_test,pred_m)"
   ]
  },
  {
   "cell_type": "code",
   "execution_count": 102,
   "metadata": {},
   "outputs": [
    {
     "data": {
      "image/png": "[encoded data removed]",
      "text/plain": [
       "<Figure size 720x288 with 2 Axes>"
      ]
     },
     "metadata": {},
     "output_type": "display_data"
    }
   ],
   "source": [
    "\n",
    "fig,plots = plt.subplots(ncols=2,figsize=(10,4))\n",
    "plots[0].scatter(y_test,pred_lr)\n",
    "plots[0].set_xlabel('y_true')\n",
    "plots[0].set_ylabel('y_pred')\n",
    "plots[0].set_title('Predicted using LR')\n",
    "plots[1].scatter(y_test,pred_m)\n",
    "plots[1].set_xlabel('y_true')\n",
    "plots[1].set_ylabel('y_pred')\n",
    "plots[1].set_title('Predicted using ANN')\n",
    "\n",
    "plt.tight_layout()"
   ]
  },
  {
   "cell_type": "code",
   "execution_count": 103,
   "metadata": {},
   "outputs": [
    {
     "data": {
      "text/plain": [
       "True"
      ]
     },
     "execution_count": 103,
     "metadata": {},
     "output_type": "execute_result"
    }
   ],
   "source": [
    "mean_squared_error(y_test,pred_m) < mean_squared_error(y_test,pred_lr)"
   ]
  },
  {
   "cell_type": "code",
   "execution_count": 99,
   "metadata": {},
   "outputs": [
    {
     "data": {
      "text/plain": [
       "<matplotlib.legend.Legend at 0x1c135208048>"
      ]
     },
     "execution_count": 99,
     "metadata": {},
     "output_type": "execute_result"
    },
    {
     "data": {
      "image/png": "[encoded data removed]",
      "text/plain": [
       "<Figure size 720x576 with 1 Axes>"
      ]
     },
     "metadata": {},
     "output_type": "display_data"
    }
   ],
   "source": [
    "plt.figure(figsize=(10,8))\n",
    "plt.plot(hist.history['loss'])\n",
    "plt.plot(hist.history['val_loss'])\n",
    "plt.title('Model loss')\n",
    "plt.ylabel('Loss')\n",
    "plt.xlabel('Epoch')\n",
    "plt.legend(['Train', 'Test'], loc='upper left')"
   ]
  },
  {
   "cell_type": "code",
   "execution_count": 98,
   "metadata": {},
   "outputs": [
    {
     "data": {
      "text/plain": [
       "dict_keys(['val_loss', 'loss'])"
      ]
     },
     "execution_count": 98,
     "metadata": {},
     "output_type": "execute_result"
    }
   ],
   "source": [
    "hist.history.keys()"
   ]
  },
  {
   "cell_type": "code",
   "execution_count": 104,
   "metadata": {},
   "outputs": [],
   "source": [
    "x = np.linspace(-100,100,100)"
   ]
  },
  {
   "cell_type": "code",
   "execution_count": 106,
   "metadata": {},
   "outputs": [],
   "source": [
    "def sigmoid(x):\n",
    "    return 1 / (1 + np.exp(-x))"
   ]
  },
  {
   "cell_type": "code",
   "execution_count": 107,
   "metadata": {},
   "outputs": [],
   "source": [
    "y = sigmoid(x)"
   ]
  },
  {
   "cell_type": "code",
   "execution_count": 116,
   "metadata": {},
   "outputs": [
    {
     "data": {
      "text/plain": [
       "[<matplotlib.lines.Line2D at 0x1c1356b1128>]"
      ]
     },
     "execution_count": 116,
     "metadata": {},
     "output_type": "execute_result"
    },
    {
     "data": {
      "image/png": "[encoded data removed]",
      "text/plain": [
       "<Figure size 720x576 with 1 Axes>"
      ]
     },
     "metadata": {},
     "output_type": "display_data"
    }
   ],
   "source": [
    "plt.figure(figsize=(10,8))\n",
    "plt.plot(x,y)"
   ]
  },
  {
   "cell_type": "code",
   "execution_count": null,
   "metadata": {},
   "outputs": [],
   "source": []
  }
 ],
 "metadata": {
  "kernelspec": {
   "display_name": "Python 3",
   "language": "python",
   "name": "python3"
  },
  "language_info": {
   "codemirror_mode": {
    "name": "ipython",
    "version": 3
   },
   "file_extension": ".py",
   "mimetype": "text/x-python",
   "name": "python",
   "nbconvert_exporter": "python",
   "pygments_lexer": "ipython3",
   "version": "3.6.4"
  }
 },
 "nbformat": 4,
 "nbformat_minor": 2
}
