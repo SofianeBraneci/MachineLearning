{
 "cells": [
  {
   "cell_type": "code",
   "execution_count": 1,
   "metadata": {},
   "outputs": [],
   "source": [
    "import numpy as np"
   ]
  },
  {
   "cell_type": "code",
   "execution_count": 2,
   "metadata": {},
   "outputs": [],
   "source": [
    "from sklearn.datasets import load_breast_cancer"
   ]
  },
  {
   "cell_type": "code",
   "execution_count": 3,
   "metadata": {},
   "outputs": [],
   "source": [
    "cancer_data = load_breast_cancer()"
   ]
  },
  {
   "cell_type": "code",
   "execution_count": 4,
   "metadata": {},
   "outputs": [],
   "source": [
    "data = cancer_data.data"
   ]
  },
  {
   "cell_type": "code",
   "execution_count": 5,
   "metadata": {},
   "outputs": [],
   "source": [
    "target = cancer_data.target"
   ]
  },
  {
   "cell_type": "code",
   "execution_count": 6,
   "metadata": {},
   "outputs": [
    {
     "data": {
      "text/plain": [
       "array(['malignant', 'benign'], dtype='<U9')"
      ]
     },
     "execution_count": 6,
     "metadata": {},
     "output_type": "execute_result"
    }
   ],
   "source": [
    "cancer_data.target_names"
   ]
  },
  {
   "cell_type": "code",
   "execution_count": 7,
   "metadata": {},
   "outputs": [],
   "source": [
    "import pandas as pd"
   ]
  },
  {
   "cell_type": "code",
   "execution_count": 8,
   "metadata": {},
   "outputs": [],
   "source": [
    "cancer_df = pd.DataFrame(data = data,columns=cancer_data.feature_names)"
   ]
  },
  {
   "cell_type": "code",
   "execution_count": 9,
   "metadata": {},
   "outputs": [
    {
     "data": {
      "text/html": [
       "<div>\n",
       "<style scoped>\n",
       "    .dataframe tbody tr th:only-of-type {\n",
       "        vertical-align: middle;\n",
       "    }\n",
       "\n",
       "    .dataframe tbody tr th {\n",
       "        vertical-align: top;\n",
       "    }\n",
       "\n",
       "    .dataframe thead th {\n",
       "        text-align: right;\n",
       "    }\n",
       "</style>\n",
       "<table border=\"1\" class=\"dataframe\">\n",
       "  <thead>\n",
       "    <tr style=\"text-align: right;\">\n",
       "      <th></th>\n",
       "      <th>mean radius</th>\n",
       "      <th>mean texture</th>\n",
       "      <th>mean perimeter</th>\n",
       "      <th>mean area</th>\n",
       "      <th>mean smoothness</th>\n",
       "      <th>mean compactness</th>\n",
       "      <th>mean concavity</th>\n",
       "      <th>mean concave points</th>\n",
       "      <th>mean symmetry</th>\n",
       "      <th>mean fractal dimension</th>\n",
       "      <th>...</th>\n",
       "      <th>worst radius</th>\n",
       "      <th>worst texture</th>\n",
       "      <th>worst perimeter</th>\n",
       "      <th>worst area</th>\n",
       "      <th>worst smoothness</th>\n",
       "      <th>worst compactness</th>\n",
       "      <th>worst concavity</th>\n",
       "      <th>worst concave points</th>\n",
       "      <th>worst symmetry</th>\n",
       "      <th>worst fractal dimension</th>\n",
       "    </tr>\n",
       "  </thead>\n",
       "  <tbody>\n",
       "    <tr>\n",
       "      <th>0</th>\n",
       "      <td>17.99</td>\n",
       "      <td>10.38</td>\n",
       "      <td>122.80</td>\n",
       "      <td>1001.0</td>\n",
       "      <td>0.11840</td>\n",
       "      <td>0.27760</td>\n",
       "      <td>0.3001</td>\n",
       "      <td>0.14710</td>\n",
       "      <td>0.2419</td>\n",
       "      <td>0.07871</td>\n",
       "      <td>...</td>\n",
       "      <td>25.38</td>\n",
       "      <td>17.33</td>\n",
       "      <td>184.60</td>\n",
       "      <td>2019.0</td>\n",
       "      <td>0.1622</td>\n",
       "      <td>0.6656</td>\n",
       "      <td>0.7119</td>\n",
       "      <td>0.2654</td>\n",
       "      <td>0.4601</td>\n",
       "      <td>0.11890</td>\n",
       "    </tr>\n",
       "    <tr>\n",
       "      <th>1</th>\n",
       "      <td>20.57</td>\n",
       "      <td>17.77</td>\n",
       "      <td>132.90</td>\n",
       "      <td>1326.0</td>\n",
       "      <td>0.08474</td>\n",
       "      <td>0.07864</td>\n",
       "      <td>0.0869</td>\n",
       "      <td>0.07017</td>\n",
       "      <td>0.1812</td>\n",
       "      <td>0.05667</td>\n",
       "      <td>...</td>\n",
       "      <td>24.99</td>\n",
       "      <td>23.41</td>\n",
       "      <td>158.80</td>\n",
       "      <td>1956.0</td>\n",
       "      <td>0.1238</td>\n",
       "      <td>0.1866</td>\n",
       "      <td>0.2416</td>\n",
       "      <td>0.1860</td>\n",
       "      <td>0.2750</td>\n",
       "      <td>0.08902</td>\n",
       "    </tr>\n",
       "    <tr>\n",
       "      <th>2</th>\n",
       "      <td>19.69</td>\n",
       "      <td>21.25</td>\n",
       "      <td>130.00</td>\n",
       "      <td>1203.0</td>\n",
       "      <td>0.10960</td>\n",
       "      <td>0.15990</td>\n",
       "      <td>0.1974</td>\n",
       "      <td>0.12790</td>\n",
       "      <td>0.2069</td>\n",
       "      <td>0.05999</td>\n",
       "      <td>...</td>\n",
       "      <td>23.57</td>\n",
       "      <td>25.53</td>\n",
       "      <td>152.50</td>\n",
       "      <td>1709.0</td>\n",
       "      <td>0.1444</td>\n",
       "      <td>0.4245</td>\n",
       "      <td>0.4504</td>\n",
       "      <td>0.2430</td>\n",
       "      <td>0.3613</td>\n",
       "      <td>0.08758</td>\n",
       "    </tr>\n",
       "    <tr>\n",
       "      <th>3</th>\n",
       "      <td>11.42</td>\n",
       "      <td>20.38</td>\n",
       "      <td>77.58</td>\n",
       "      <td>386.1</td>\n",
       "      <td>0.14250</td>\n",
       "      <td>0.28390</td>\n",
       "      <td>0.2414</td>\n",
       "      <td>0.10520</td>\n",
       "      <td>0.2597</td>\n",
       "      <td>0.09744</td>\n",
       "      <td>...</td>\n",
       "      <td>14.91</td>\n",
       "      <td>26.50</td>\n",
       "      <td>98.87</td>\n",
       "      <td>567.7</td>\n",
       "      <td>0.2098</td>\n",
       "      <td>0.8663</td>\n",
       "      <td>0.6869</td>\n",
       "      <td>0.2575</td>\n",
       "      <td>0.6638</td>\n",
       "      <td>0.17300</td>\n",
       "    </tr>\n",
       "    <tr>\n",
       "      <th>4</th>\n",
       "      <td>20.29</td>\n",
       "      <td>14.34</td>\n",
       "      <td>135.10</td>\n",
       "      <td>1297.0</td>\n",
       "      <td>0.10030</td>\n",
       "      <td>0.13280</td>\n",
       "      <td>0.1980</td>\n",
       "      <td>0.10430</td>\n",
       "      <td>0.1809</td>\n",
       "      <td>0.05883</td>\n",
       "      <td>...</td>\n",
       "      <td>22.54</td>\n",
       "      <td>16.67</td>\n",
       "      <td>152.20</td>\n",
       "      <td>1575.0</td>\n",
       "      <td>0.1374</td>\n",
       "      <td>0.2050</td>\n",
       "      <td>0.4000</td>\n",
       "      <td>0.1625</td>\n",
       "      <td>0.2364</td>\n",
       "      <td>0.07678</td>\n",
       "    </tr>\n",
       "  </tbody>\n",
       "</table>\n",
       "<p>5 rows × 30 columns</p>\n",
       "</div>"
      ],
      "text/plain": [
       "   mean radius  mean texture  mean perimeter  mean area  mean smoothness  \\\n",
       "0        17.99         10.38          122.80     1001.0          0.11840   \n",
       "1        20.57         17.77          132.90     1326.0          0.08474   \n",
       "2        19.69         21.25          130.00     1203.0          0.10960   \n",
       "3        11.42         20.38           77.58      386.1          0.14250   \n",
       "4        20.29         14.34          135.10     1297.0          0.10030   \n",
       "\n",
       "   mean compactness  mean concavity  mean concave points  mean symmetry  \\\n",
       "0           0.27760          0.3001              0.14710         0.2419   \n",
       "1           0.07864          0.0869              0.07017         0.1812   \n",
       "2           0.15990          0.1974              0.12790         0.2069   \n",
       "3           0.28390          0.2414              0.10520         0.2597   \n",
       "4           0.13280          0.1980              0.10430         0.1809   \n",
       "\n",
       "   mean fractal dimension           ...             worst radius  \\\n",
       "0                 0.07871           ...                    25.38   \n",
       "1                 0.05667           ...                    24.99   \n",
       "2                 0.05999           ...                    23.57   \n",
       "3                 0.09744           ...                    14.91   \n",
       "4                 0.05883           ...                    22.54   \n",
       "\n",
       "   worst texture  worst perimeter  worst area  worst smoothness  \\\n",
       "0          17.33           184.60      2019.0            0.1622   \n",
       "1          23.41           158.80      1956.0            0.1238   \n",
       "2          25.53           152.50      1709.0            0.1444   \n",
       "3          26.50            98.87       567.7            0.2098   \n",
       "4          16.67           152.20      1575.0            0.1374   \n",
       "\n",
       "   worst compactness  worst concavity  worst concave points  worst symmetry  \\\n",
       "0             0.6656           0.7119                0.2654          0.4601   \n",
       "1             0.1866           0.2416                0.1860          0.2750   \n",
       "2             0.4245           0.4504                0.2430          0.3613   \n",
       "3             0.8663           0.6869                0.2575          0.6638   \n",
       "4             0.2050           0.4000                0.1625          0.2364   \n",
       "\n",
       "   worst fractal dimension  \n",
       "0                  0.11890  \n",
       "1                  0.08902  \n",
       "2                  0.08758  \n",
       "3                  0.17300  \n",
       "4                  0.07678  \n",
       "\n",
       "[5 rows x 30 columns]"
      ]
     },
     "execution_count": 9,
     "metadata": {},
     "output_type": "execute_result"
    }
   ],
   "source": [
    "cancer_df.head()"
   ]
  },
  {
   "cell_type": "code",
   "execution_count": 10,
   "metadata": {},
   "outputs": [],
   "source": [
    "from sklearn.preprocessing import StandardScaler"
   ]
  },
  {
   "cell_type": "code",
   "execution_count": 11,
   "metadata": {},
   "outputs": [],
   "source": [
    "sc = StandardScaler()"
   ]
  },
  {
   "cell_type": "code",
   "execution_count": 12,
   "metadata": {},
   "outputs": [],
   "source": [
    "from sklearn.model_selection import train_test_split"
   ]
  },
  {
   "cell_type": "code",
   "execution_count": 13,
   "metadata": {},
   "outputs": [],
   "source": [
    "X_train, X_test, y_train, y_test = train_test_split(data, target, test_size=0.3, random_state=42)"
   ]
  },
  {
   "cell_type": "code",
   "execution_count": 14,
   "metadata": {},
   "outputs": [],
   "source": [
    "X_train = sc.fit_transform(X_train)\n",
    "X_test = sc.transform(X_test)"
   ]
  },
  {
   "cell_type": "code",
   "execution_count": 15,
   "metadata": {},
   "outputs": [
    {
     "data": {
      "text/plain": [
       "array([[-0.12348985, -0.29680142, -0.17050713, -0.20861569, -1.2016799 ,\n",
       "        -0.7731696 , -0.76231194, -0.93324109, -1.22994935, -0.94816603,\n",
       "        -0.53359339, -0.86028757, -0.61678096, -0.39177533, -1.35556152,\n",
       "        -0.52503193, -0.4817033 , -0.97940018, -0.88459317, -0.68548672,\n",
       "        -0.19761978, -0.5067476 , -0.30791001, -0.27357592, -1.50742388,\n",
       "        -0.44926047, -0.57223884, -0.84082156, -0.8563616 , -0.76574773],\n",
       "       [-0.22826757, -0.65795149, -0.25377521, -0.2965028 , -1.80463697,\n",
       "        -0.58761605, -0.09198533, -0.54268359, -1.41998468, -0.61249143,\n",
       "        -0.83040055, -0.12266723, -0.78254381, -0.53126109, -0.36490698,\n",
       "         0.40861926,  0.57668457, -0.2482875 , -1.03572382,  0.10768859,\n",
       "        -0.42291745, -0.45849468, -0.4652873 , -0.43812681, -1.27301714,\n",
       "         0.02704209,  0.31804488, -0.37706655, -1.3415819 , -0.41480748],\n",
       "       [ 0.14553402, -1.23056444,  0.24583328, -0.01024193,  0.5191843 ,\n",
       "         1.57000613,  0.73231958,  0.38658307,  1.05420084,  1.57422827,\n",
       "         0.48747836,  0.59258929,  0.90918448,  0.18132474,  0.93956737,\n",
       "         1.50696696,  0.68362272,  0.62223771,  0.76910084,  0.62438565,\n",
       "         0.03602226, -1.1922718 ,  0.20386884, -0.12744491, -0.02487735,\n",
       "         0.77080169,  0.27261182, -0.04762652, -0.08997059,  0.4882635 ],\n",
       "       [-0.35853176, -0.67220742, -0.40093712, -0.40001429, -1.20386189,\n",
       "        -0.9706502 , -0.63470419, -0.6549921 ,  0.0965718 , -0.82798624,\n",
       "        -0.72594925, -0.5687868 , -0.65466961, -0.50893518, -0.56458126,\n",
       "        -0.52781397, -0.30147421, -0.56308997, -0.23011004, -0.61901108,\n",
       "        -0.50218886, -0.58328671, -0.50099984, -0.49338644, -0.95989496,\n",
       "        -0.66349557, -0.47014208, -0.49351467,  0.22654729, -0.80289938],\n",
       "       [-0.15747182,  0.96722386, -0.20884342, -0.24153848, -0.25469546,\n",
       "        -0.7006297 , -0.75034872, -0.63746879, -0.51824839, -0.64288172,\n",
       "        -0.20265859,  0.25520414, -0.38329214, -0.1916614 , -0.38130535,\n",
       "        -0.24293351, -0.4014164 , -0.45965487,  0.06215914, -0.45622129,\n",
       "        -0.19553369,  0.59641391, -0.29610671, -0.26673426, -0.44237358,\n",
       "        -0.65608493, -0.83513799, -0.65980195, -0.38720819, -0.80061313]])"
      ]
     },
     "execution_count": 15,
     "metadata": {},
     "output_type": "execute_result"
    }
   ],
   "source": [
    "X_train[:5,:]"
   ]
  },
  {
   "cell_type": "code",
   "execution_count": 16,
   "metadata": {},
   "outputs": [
    {
     "name": "stderr",
     "output_type": "stream",
     "text": [
      "D:\\Anaconda\\lib\\site-packages\\h5py\\__init__.py:36: FutureWarning: Conversion of the second argument of issubdtype from `float` to `np.floating` is deprecated. In future, it will be treated as `np.float64 == np.dtype(float).type`.\n",
      "  from ._conv import register_converters as _register_converters\n",
      "Using TensorFlow backend.\n"
     ]
    }
   ],
   "source": [
    "import keras"
   ]
  },
  {
   "cell_type": "code",
   "execution_count": 17,
   "metadata": {},
   "outputs": [],
   "source": [
    "from keras.models import Sequential\n",
    "from keras.layers import Dense,Dropout"
   ]
  },
  {
   "cell_type": "code",
   "execution_count": 18,
   "metadata": {},
   "outputs": [],
   "source": [
    "model = Sequential([\n",
    "    Dense(units=15,kernel_initializer='uniform',activation='relu',input_shape=(30,)),\n",
    "    Dropout(0.4),\n",
    "    Dense(units=8,kernel_initializer='uniform',activation='relu'),\n",
    "    Dense(units=4,kernel_initializer='uniform',activation='relu'),\n",
    "    Dense(units=2,kernel_initializer='uniform',activation='relu'),\n",
    "    Dense(units=1,kernel_initializer='uniform',activation='sigmoid')\n",
    "    \n",
    "])"
   ]
  },
  {
   "cell_type": "code",
   "execution_count": 19,
   "metadata": {},
   "outputs": [],
   "source": [
    "model.compile(optimizer='adam',loss='binary_crossentropy',metrics=['accuracy'])"
   ]
  },
  {
   "cell_type": "code",
   "execution_count": 20,
   "metadata": {},
   "outputs": [
    {
     "name": "stdout",
     "output_type": "stream",
     "text": [
      "Epoch 1/100\n",
      "398/398 [==============================] - 6s 15ms/step - loss: 0.6912 - acc: 0.6156\n",
      "Epoch 2/100\n",
      "398/398 [==============================] - 0s 341us/step - loss: 0.6876 - acc: 0.6256\n",
      "Epoch 3/100\n",
      "398/398 [==============================] - 0s 300us/step - loss: 0.6845 - acc: 0.6256\n",
      "Epoch 4/100\n",
      "398/398 [==============================] - 0s 253us/step - loss: 0.6819 - acc: 0.6256\n",
      "Epoch 5/100\n",
      "398/398 [==============================] - 0s 273us/step - loss: 0.6796 - acc: 0.6256\n",
      "Epoch 6/100\n",
      "398/398 [==============================] - 0s 319us/step - loss: 0.6776 - acc: 0.6256\n",
      "Epoch 7/100\n",
      "398/398 [==============================] - 0s 329us/step - loss: 0.6756 - acc: 0.6256\n",
      "Epoch 8/100\n",
      "398/398 [==============================] - 0s 252us/step - loss: 0.6739 - acc: 0.6256\n",
      "Epoch 9/100\n",
      "398/398 [==============================] - 0s 305us/step - loss: 0.6724 - acc: 0.6256\n",
      "Epoch 10/100\n",
      "398/398 [==============================] - 0s 285us/step - loss: 0.6710 - acc: 0.6256\n",
      "Epoch 11/100\n",
      "398/398 [==============================] - 0s 295us/step - loss: 0.6699 - acc: 0.6256\n",
      "Epoch 12/100\n",
      "398/398 [==============================] - 0s 254us/step - loss: 0.6688 - acc: 0.6256\n",
      "Epoch 13/100\n",
      "398/398 [==============================] - 0s 307us/step - loss: 0.6679 - acc: 0.6256\n",
      "Epoch 14/100\n",
      "398/398 [==============================] - 0s 263us/step - loss: 0.6670 - acc: 0.6256\n",
      "Epoch 15/100\n",
      "398/398 [==============================] - 0s 280us/step - loss: 0.6663 - acc: 0.6256\n",
      "Epoch 16/100\n",
      "398/398 [==============================] - 0s 291us/step - loss: 0.6656 - acc: 0.6256\n",
      "Epoch 17/100\n",
      "398/398 [==============================] - 0s 294us/step - loss: 0.6651 - acc: 0.6256\n",
      "Epoch 18/100\n",
      "398/398 [==============================] - 0s 290us/step - loss: 0.6646 - acc: 0.6256\n",
      "Epoch 19/100\n",
      "398/398 [==============================] - 0s 288us/step - loss: 0.6642 - acc: 0.6256\n",
      "Epoch 20/100\n",
      "398/398 [==============================] - 0s 289us/step - loss: 0.6639 - acc: 0.6256\n",
      "Epoch 21/100\n",
      "398/398 [==============================] - 0s 293us/step - loss: 0.6636 - acc: 0.6256\n",
      "Epoch 22/100\n",
      "398/398 [==============================] - 0s 295us/step - loss: 0.6633 - acc: 0.6256\n",
      "Epoch 23/100\n",
      "398/398 [==============================] - 0s 264us/step - loss: 0.6630 - acc: 0.6256\n",
      "Epoch 24/100\n",
      "398/398 [==============================] - 0s 303us/step - loss: 0.6628 - acc: 0.6256\n",
      "Epoch 25/100\n",
      "398/398 [==============================] - 0s 237us/step - loss: 0.6626 - acc: 0.6256\n",
      "Epoch 26/100\n",
      "398/398 [==============================] - 0s 224us/step - loss: 0.6625 - acc: 0.6256\n",
      "Epoch 27/100\n",
      "398/398 [==============================] - 0s 280us/step - loss: 0.6623 - acc: 0.6256\n",
      "Epoch 28/100\n",
      "398/398 [==============================] - 0s 250us/step - loss: 0.6623 - acc: 0.6256\n",
      "Epoch 29/100\n",
      "398/398 [==============================] - 0s 320us/step - loss: 0.6621 - acc: 0.6256\n",
      "Epoch 30/100\n",
      "398/398 [==============================] - 0s 287us/step - loss: 0.6621 - acc: 0.6256\n",
      "Epoch 31/100\n",
      "398/398 [==============================] - 0s 243us/step - loss: 0.6618 - acc: 0.6256\n",
      "Epoch 32/100\n",
      "398/398 [==============================] - 0s 257us/step - loss: 0.6619 - acc: 0.6256\n",
      "Epoch 33/100\n",
      "398/398 [==============================] - 0s 295us/step - loss: 0.6618 - acc: 0.6256\n",
      "Epoch 34/100\n",
      "398/398 [==============================] - 0s 282us/step - loss: 0.6617 - acc: 0.6256\n",
      "Epoch 35/100\n",
      "398/398 [==============================] - 0s 305us/step - loss: 0.6616 - acc: 0.6256\n",
      "Epoch 36/100\n",
      "398/398 [==============================] - 0s 288us/step - loss: 0.6617 - acc: 0.6256\n",
      "Epoch 37/100\n",
      "398/398 [==============================] - 0s 263us/step - loss: 0.6616 - acc: 0.6256\n",
      "Epoch 38/100\n",
      "398/398 [==============================] - 0s 244us/step - loss: 0.6615 - acc: 0.6256\n",
      "Epoch 39/100\n",
      "398/398 [==============================] - 0s 304us/step - loss: 0.6615 - acc: 0.6256\n",
      "Epoch 40/100\n",
      "398/398 [==============================] - 0s 223us/step - loss: 0.6616 - acc: 0.6256\n",
      "Epoch 41/100\n",
      "398/398 [==============================] - 0s 255us/step - loss: 0.6614 - acc: 0.6256\n",
      "Epoch 42/100\n",
      "398/398 [==============================] - 0s 265us/step - loss: 0.6614 - acc: 0.6256\n",
      "Epoch 43/100\n",
      "398/398 [==============================] - 0s 293us/step - loss: 0.6614 - acc: 0.6256\n",
      "Epoch 44/100\n",
      "398/398 [==============================] - 0s 322us/step - loss: 0.6614 - acc: 0.6256\n",
      "Epoch 45/100\n",
      "398/398 [==============================] - 0s 264us/step - loss: 0.6614 - acc: 0.6256\n",
      "Epoch 46/100\n",
      "398/398 [==============================] - 0s 282us/step - loss: 0.6614 - acc: 0.6256\n",
      "Epoch 47/100\n",
      "398/398 [==============================] - 0s 290us/step - loss: 0.6614 - acc: 0.6256\n",
      "Epoch 48/100\n",
      "398/398 [==============================] - 0s 289us/step - loss: 0.6614 - acc: 0.6256\n",
      "Epoch 49/100\n",
      "398/398 [==============================] - 0s 262us/step - loss: 0.6614 - acc: 0.6256\n",
      "Epoch 50/100\n",
      "398/398 [==============================] - 0s 207us/step - loss: 0.6614 - acc: 0.6256\n",
      "Epoch 51/100\n",
      "398/398 [==============================] - 0s 241us/step - loss: 0.6613 - acc: 0.6256\n",
      "Epoch 52/100\n",
      "398/398 [==============================] - 0s 244us/step - loss: 0.6614 - acc: 0.6256\n",
      "Epoch 53/100\n",
      "398/398 [==============================] - 0s 268us/step - loss: 0.6614 - acc: 0.6256\n",
      "Epoch 54/100\n",
      "398/398 [==============================] - 0s 270us/step - loss: 0.6613 - acc: 0.6256\n",
      "Epoch 55/100\n",
      "398/398 [==============================] - 0s 279us/step - loss: 0.6614 - acc: 0.6256\n",
      "Epoch 56/100\n",
      "398/398 [==============================] - 0s 265us/step - loss: 0.6613 - acc: 0.6256\n",
      "Epoch 57/100\n",
      "398/398 [==============================] - 0s 246us/step - loss: 0.6613 - acc: 0.6256\n",
      "Epoch 58/100\n",
      "398/398 [==============================] - 0s 254us/step - loss: 0.6613 - acc: 0.6256\n",
      "Epoch 59/100\n",
      "398/398 [==============================] - 0s 249us/step - loss: 0.6613 - acc: 0.6256\n",
      "Epoch 60/100\n",
      "398/398 [==============================] - 0s 241us/step - loss: 0.6613 - acc: 0.6256\n",
      "Epoch 61/100\n",
      "398/398 [==============================] - 0s 253us/step - loss: 0.6613 - acc: 0.6256\n",
      "Epoch 62/100\n",
      "398/398 [==============================] - 0s 248us/step - loss: 0.6613 - acc: 0.6256\n",
      "Epoch 63/100\n",
      "398/398 [==============================] - 0s 262us/step - loss: 0.6613 - acc: 0.6256\n",
      "Epoch 64/100\n",
      "398/398 [==============================] - 0s 243us/step - loss: 0.6614 - acc: 0.6256\n",
      "Epoch 65/100\n",
      "398/398 [==============================] - 0s 249us/step - loss: 0.6614 - acc: 0.6256\n",
      "Epoch 66/100\n",
      "398/398 [==============================] - 0s 258us/step - loss: 0.6613 - acc: 0.6256\n",
      "Epoch 67/100\n",
      "398/398 [==============================] - 0s 243us/step - loss: 0.6614 - acc: 0.6256\n",
      "Epoch 68/100\n",
      "398/398 [==============================] - 0s 248us/step - loss: 0.6613 - acc: 0.6256\n",
      "Epoch 69/100\n",
      "398/398 [==============================] - 0s 259us/step - loss: 0.6613 - acc: 0.6256\n",
      "Epoch 70/100\n",
      "398/398 [==============================] - 0s 247us/step - loss: 0.6613 - acc: 0.6256\n",
      "Epoch 71/100\n",
      "398/398 [==============================] - 0s 252us/step - loss: 0.6613 - acc: 0.6256\n",
      "Epoch 72/100\n",
      "398/398 [==============================] - 0s 250us/step - loss: 0.6613 - acc: 0.6256\n",
      "Epoch 73/100\n",
      "398/398 [==============================] - 0s 248us/step - loss: 0.6613 - acc: 0.6256\n",
      "Epoch 74/100\n",
      "398/398 [==============================] - 0s 259us/step - loss: 0.6613 - acc: 0.6256\n",
      "Epoch 75/100\n",
      "398/398 [==============================] - 0s 249us/step - loss: 0.6613 - acc: 0.6256\n",
      "Epoch 76/100\n",
      "398/398 [==============================] - 0s 252us/step - loss: 0.6614 - acc: 0.6256\n",
      "Epoch 77/100\n",
      "398/398 [==============================] - 0s 257us/step - loss: 0.6613 - acc: 0.6256\n",
      "Epoch 78/100\n",
      "398/398 [==============================] - 0s 242us/step - loss: 0.6613 - acc: 0.6256\n",
      "Epoch 79/100\n",
      "398/398 [==============================] - 0s 304us/step - loss: 0.6613 - acc: 0.6256\n",
      "Epoch 80/100\n",
      "398/398 [==============================] - 0s 297us/step - loss: 0.6613 - acc: 0.6256\n",
      "Epoch 81/100\n",
      "398/398 [==============================] - 0s 290us/step - loss: 0.6613 - acc: 0.6256\n",
      "Epoch 82/100\n",
      "398/398 [==============================] - 0s 247us/step - loss: 0.6613 - acc: 0.6256\n",
      "Epoch 83/100\n",
      "398/398 [==============================] - 0s 229us/step - loss: 0.6613 - acc: 0.6256\n",
      "Epoch 84/100\n",
      "398/398 [==============================] - 0s 252us/step - loss: 0.6613 - acc: 0.6256\n",
      "Epoch 85/100\n",
      "398/398 [==============================] - 0s 246us/step - loss: 0.6614 - acc: 0.6256\n",
      "Epoch 86/100\n",
      "398/398 [==============================] - 0s 255us/step - loss: 0.6613 - acc: 0.6256\n",
      "Epoch 87/100\n",
      "398/398 [==============================] - 0s 297us/step - loss: 0.6613 - acc: 0.6256\n",
      "Epoch 88/100\n",
      "398/398 [==============================] - 0s 263us/step - loss: 0.6613 - acc: 0.6256\n",
      "Epoch 89/100\n",
      "398/398 [==============================] - 0s 226us/step - loss: 0.6614 - acc: 0.6256\n",
      "Epoch 90/100\n",
      "398/398 [==============================] - 0s 222us/step - loss: 0.6614 - acc: 0.6256\n",
      "Epoch 91/100\n",
      "398/398 [==============================] - 0s 216us/step - loss: 0.6614 - acc: 0.6256\n",
      "Epoch 92/100\n",
      "398/398 [==============================] - 0s 263us/step - loss: 0.6613 - acc: 0.6256\n",
      "Epoch 93/100\n",
      "398/398 [==============================] - 0s 246us/step - loss: 0.6613 - acc: 0.6256\n",
      "Epoch 94/100\n",
      "398/398 [==============================] - 0s 244us/step - loss: 0.6613 - acc: 0.6256\n",
      "Epoch 95/100\n",
      "398/398 [==============================] - 0s 242us/step - loss: 0.6613 - acc: 0.6256\n",
      "Epoch 96/100\n",
      "398/398 [==============================] - 0s 254us/step - loss: 0.6613 - acc: 0.6256\n",
      "Epoch 97/100\n",
      "398/398 [==============================] - 0s 273us/step - loss: 0.6613 - acc: 0.6256\n",
      "Epoch 98/100\n",
      "398/398 [==============================] - 0s 245us/step - loss: 0.6613 - acc: 0.6256\n",
      "Epoch 99/100\n",
      "398/398 [==============================] - 0s 242us/step - loss: 0.6613 - acc: 0.6256\n",
      "Epoch 100/100\n",
      "398/398 [==============================] - 0s 253us/step - loss: 0.6613 - acc: 0.6256\n"
     ]
    }
   ],
   "source": [
    "h = model.fit(X_train,y_train,epochs=100,batch_size=8)"
   ]
  },
  {
   "cell_type": "code",
   "execution_count": 21,
   "metadata": {},
   "outputs": [],
   "source": [
    "pred = model.predict_classes(X_test)"
   ]
  },
  {
   "cell_type": "code",
   "execution_count": 22,
   "metadata": {},
   "outputs": [],
   "source": [
    "from sklearn.metrics import classification_report,confusion_matrix,coverage_error"
   ]
  },
  {
   "cell_type": "code",
   "execution_count": 23,
   "metadata": {},
   "outputs": [
    {
     "name": "stdout",
     "output_type": "stream",
     "text": [
      "             precision    recall  f1-score   support\n",
      "\n",
      "          0       0.00      0.00      0.00        63\n",
      "          1       0.63      1.00      0.77       108\n",
      "\n",
      "avg / total       0.40      0.63      0.49       171\n",
      "\n"
     ]
    },
    {
     "name": "stderr",
     "output_type": "stream",
     "text": [
      "D:\\Anaconda\\lib\\site-packages\\sklearn\\metrics\\classification.py:1135: UndefinedMetricWarning: Precision and F-score are ill-defined and being set to 0.0 in labels with no predicted samples.\n",
      "  'precision', 'predicted', average, warn_for)\n"
     ]
    }
   ],
   "source": [
    "print(classification_report(y_test,pred))"
   ]
  },
  {
   "cell_type": "code",
   "execution_count": 24,
   "metadata": {},
   "outputs": [
    {
     "name": "stdout",
     "output_type": "stream",
     "text": [
      "[[  0  63]\n",
      " [  0 108]]\n"
     ]
    }
   ],
   "source": [
    "print(confusion_matrix(y_test,pred))"
   ]
  },
  {
   "cell_type": "code",
   "execution_count": 25,
   "metadata": {},
   "outputs": [],
   "source": [
    "import matplotlib.pyplot as plt\n",
    "plt.style.use('ggplot')"
   ]
  },
  {
   "cell_type": "code",
   "execution_count": 26,
   "metadata": {},
   "outputs": [
    {
     "data": {
      "text/plain": [
       "<matplotlib.legend.Legend at 0x1b874528cf8>"
      ]
     },
     "execution_count": 26,
     "metadata": {},
     "output_type": "execute_result"
    },
    {
     "data": {
      "image/png": "[encoded data removed]",
      "text/plain": [
       "<Figure size 720x576 with 1 Axes>"
      ]
     },
     "metadata": {
      "needs_background": "light"
     },
     "output_type": "display_data"
    }
   ],
   "source": [
    "plt.figure(figsize=(10,8))\n",
    "plt.plot(model.history.epoch,model.history.history['acc'],label='accuracy')\n",
    "plt.plot(model.history.epoch,model.history.history['loss'],label='loss')\n",
    "\n",
    "plt.legend()"
   ]
  },
  {
   "cell_type": "code",
   "execution_count": 27,
   "metadata": {},
   "outputs": [
    {
     "data": {
      "text/plain": [
       "False"
      ]
     },
     "execution_count": 27,
     "metadata": {},
     "output_type": "execute_result"
    }
   ],
   "source": [
    "h == model"
   ]
  },
  {
   "cell_type": "code",
   "execution_count": 28,
   "metadata": {},
   "outputs": [
    {
     "data": {
      "text/plain": [
       "keras.engine.sequential.Sequential"
      ]
     },
     "execution_count": 28,
     "metadata": {},
     "output_type": "execute_result"
    }
   ],
   "source": [
    "type(model)"
   ]
  },
  {
   "cell_type": "code",
   "execution_count": 29,
   "metadata": {},
   "outputs": [],
   "source": [
    "model.save_weights('cancer_weights')"
   ]
  },
  {
   "cell_type": "code",
   "execution_count": 30,
   "metadata": {},
   "outputs": [
    {
     "data": {
      "text/plain": [
       "[0.615577889746757,\n",
       " 0.6256281407035176,\n",
       " 0.6256281404039967,\n",
       " 0.6256281407783978,\n",
       " 0.625628140853278,\n",
       " 0.6256281410030384,\n",
       " 0.6256281410030384,\n",
       " 0.6256281407035176,\n",
       " 0.6256281404039967,\n",
       " 0.6256281410030384,\n",
       " 0.6256281404039967,\n",
       " 0.6256281407035176,\n",
       " 0.6256281410030384,\n",
       " 0.6256281410030384,\n",
       " 0.6256281410030384,\n",
       " 0.6256281407035176,\n",
       " 0.625628140853278,\n",
       " 0.6256281407035176,\n",
       " 0.625628140853278,\n",
       " 0.6256281407783978,\n",
       " 0.6256281407035176,\n",
       " 0.6256281407783978,\n",
       " 0.625628140853278,\n",
       " 0.6256281410030384,\n",
       " 0.6256281407035176,\n",
       " 0.625628140853278,\n",
       " 0.6256281410030384,\n",
       " 0.6256281404039967,\n",
       " 0.6256281407035176,\n",
       " 0.625628140853278,\n",
       " 0.625628140853278,\n",
       " 0.6256281410030384,\n",
       " 0.6256281407035176,\n",
       " 0.6256281410030384,\n",
       " 0.6256281407035176,\n",
       " 0.625628140853278,\n",
       " 0.625628140853278,\n",
       " 0.6256281407035176,\n",
       " 0.6256281407035176,\n",
       " 0.6256281407035176,\n",
       " 0.6256281410030384,\n",
       " 0.625628140853278,\n",
       " 0.6256281407035176,\n",
       " 0.6256281407035176,\n",
       " 0.6256281407035176,\n",
       " 0.6256281404039967,\n",
       " 0.6256281410030384,\n",
       " 0.6256281407035176,\n",
       " 0.6256281410030384,\n",
       " 0.6256281410030384,\n",
       " 0.6256281410030384,\n",
       " 0.6256281410030384,\n",
       " 0.6256281404039967,\n",
       " 0.625628140853278,\n",
       " 0.6256281410030384,\n",
       " 0.6256281410030384,\n",
       " 0.6256281407035176,\n",
       " 0.6256281410030384,\n",
       " 0.6256281407035176,\n",
       " 0.6256281410030384,\n",
       " 0.6256281404039967,\n",
       " 0.6256281407035176,\n",
       " 0.6256281407035176,\n",
       " 0.6256281407035176,\n",
       " 0.6256281404039967,\n",
       " 0.6256281410030384,\n",
       " 0.6256281407035176,\n",
       " 0.6256281410030384,\n",
       " 0.6256281410030384,\n",
       " 0.6256281404039967,\n",
       " 0.6256281407035176,\n",
       " 0.6256281407035176,\n",
       " 0.6256281407035176,\n",
       " 0.625628140853278,\n",
       " 0.6256281410030384,\n",
       " 0.6256281410030384,\n",
       " 0.6256281410030384,\n",
       " 0.6256281404039967,\n",
       " 0.625628140853278,\n",
       " 0.625628140853278,\n",
       " 0.6256281407035176,\n",
       " 0.6256281410030384,\n",
       " 0.6256281404039967,\n",
       " 0.6256281410030384,\n",
       " 0.6256281407035176,\n",
       " 0.6256281407035176,\n",
       " 0.6256281404039967,\n",
       " 0.6256281410030384,\n",
       " 0.6256281404039967,\n",
       " 0.6256281407035176,\n",
       " 0.6256281404039967,\n",
       " 0.6256281404039967,\n",
       " 0.6256281404039967,\n",
       " 0.6256281410030384,\n",
       " 0.6256281410030384,\n",
       " 0.625628140853278,\n",
       " 0.6256281407783978,\n",
       " 0.6256281410030384,\n",
       " 0.6256281410030384,\n",
       " 0.6256281404039967]"
      ]
     },
     "execution_count": 30,
     "metadata": {},
     "output_type": "execute_result"
    }
   ],
   "source": [
    "h.history['acc']"
   ]
  },
  {
   "cell_type": "code",
   "execution_count": 31,
   "metadata": {},
   "outputs": [],
   "source": [
    "from keras.utils import plot_model"
   ]
  },
  {
   "cell_type": "code",
   "execution_count": null,
   "metadata": {},
   "outputs": [],
   "source": []
  },
  {
   "cell_type": "code",
   "execution_count": 32,
   "metadata": {},
   "outputs": [],
   "source": [
    "model1 = Sequential([\n",
    "    Dense(units=15,kernel_initializer='uniform',activation='relu',input_shape=(30,)),\n",
    "    Dropout(0.6),\n",
    "    Dense(units=4,kernel_initializer='uniform',activation='relu'),\n",
    "    Dense(units=1,kernel_initializer='uniform',activation='sigmoid')\n",
    "    \n",
    "])"
   ]
  },
  {
   "cell_type": "code",
   "execution_count": 33,
   "metadata": {},
   "outputs": [],
   "source": [
    "model1.compile(optimizer='adam',loss='binary_crossentropy',metrics=['accuracy'])"
   ]
  },
  {
   "cell_type": "code",
   "execution_count": 34,
   "metadata": {},
   "outputs": [
    {
     "name": "stdout",
     "output_type": "stream",
     "text": [
      "Train on 398 samples, validate on 171 samples\n",
      "Epoch 1/100\n",
      "398/398 [==============================] - 1s 2ms/step - loss: 0.6896 - acc: 0.6206 - val_loss: 0.6819 - val_acc: 0.6316\n",
      "Epoch 2/100\n",
      "398/398 [==============================] - 0s 345us/step - loss: 0.6618 - acc: 0.6935 - val_loss: 0.6147 - val_acc: 0.8713\n",
      "Epoch 3/100\n",
      "398/398 [==============================] - 0s 303us/step - loss: 0.5453 - acc: 0.8869 - val_loss: 0.4319 - val_acc: 0.9474\n",
      "Epoch 4/100\n",
      "398/398 [==============================] - 0s 298us/step - loss: 0.3801 - acc: 0.9271 - val_loss: 0.2571 - val_acc: 0.9415\n",
      "Epoch 5/100\n",
      "398/398 [==============================] - 0s 284us/step - loss: 0.2701 - acc: 0.9472 - val_loss: 0.1671 - val_acc: 0.9532\n",
      "Epoch 6/100\n",
      "398/398 [==============================] - 0s 275us/step - loss: 0.1964 - acc: 0.9422 - val_loss: 0.1240 - val_acc: 0.9649\n",
      "Epoch 7/100\n",
      "398/398 [==============================] - 0s 275us/step - loss: 0.1845 - acc: 0.9397 - val_loss: 0.1000 - val_acc: 0.9766\n",
      "Epoch 8/100\n",
      "398/398 [==============================] - 0s 311us/step - loss: 0.1630 - acc: 0.9472 - val_loss: 0.0864 - val_acc: 0.9825\n",
      "Epoch 9/100\n",
      "398/398 [==============================] - 0s 282us/step - loss: 0.1501 - acc: 0.9548 - val_loss: 0.0787 - val_acc: 0.9825\n",
      "Epoch 10/100\n",
      "398/398 [==============================] - 0s 282us/step - loss: 0.1497 - acc: 0.9497 - val_loss: 0.0717 - val_acc: 0.9825\n",
      "Epoch 11/100\n",
      "398/398 [==============================] - 0s 305us/step - loss: 0.1385 - acc: 0.9497 - val_loss: 0.0667 - val_acc: 0.9825\n",
      "Epoch 12/100\n",
      "398/398 [==============================] - 0s 302us/step - loss: 0.1233 - acc: 0.9749 - val_loss: 0.0611 - val_acc: 0.9825\n",
      "Epoch 13/100\n",
      "398/398 [==============================] - 0s 300us/step - loss: 0.1132 - acc: 0.9648 - val_loss: 0.0563 - val_acc: 0.9825\n",
      "Epoch 14/100\n",
      "398/398 [==============================] - 0s 276us/step - loss: 0.1086 - acc: 0.9623 - val_loss: 0.0530 - val_acc: 0.9825\n",
      "Epoch 15/100\n",
      "398/398 [==============================] - 0s 279us/step - loss: 0.0950 - acc: 0.9724 - val_loss: 0.0509 - val_acc: 0.9825\n",
      "Epoch 16/100\n",
      "398/398 [==============================] - 0s 283us/step - loss: 0.0953 - acc: 0.9673 - val_loss: 0.0491 - val_acc: 0.9766\n",
      "Epoch 17/100\n",
      "398/398 [==============================] - 0s 278us/step - loss: 0.1007 - acc: 0.9698 - val_loss: 0.0461 - val_acc: 0.9883\n",
      "Epoch 18/100\n",
      "398/398 [==============================] - 0s 282us/step - loss: 0.1006 - acc: 0.9698 - val_loss: 0.0446 - val_acc: 0.9883\n",
      "Epoch 19/100\n",
      "398/398 [==============================] - 0s 277us/step - loss: 0.0968 - acc: 0.9749 - val_loss: 0.0442 - val_acc: 0.9883\n",
      "Epoch 20/100\n",
      "398/398 [==============================] - 0s 277us/step - loss: 0.0865 - acc: 0.9749 - val_loss: 0.0434 - val_acc: 0.9883\n",
      "Epoch 21/100\n",
      "398/398 [==============================] - 0s 273us/step - loss: 0.0987 - acc: 0.9623 - val_loss: 0.0429 - val_acc: 0.9883\n",
      "Epoch 22/100\n",
      "398/398 [==============================] - 0s 289us/step - loss: 0.0936 - acc: 0.9598 - val_loss: 0.0433 - val_acc: 0.9883\n",
      "Epoch 23/100\n",
      "398/398 [==============================] - 0s 283us/step - loss: 0.0952 - acc: 0.9673 - val_loss: 0.0420 - val_acc: 0.9883\n",
      "Epoch 24/100\n",
      "398/398 [==============================] - 0s 279us/step - loss: 0.0936 - acc: 0.9523 - val_loss: 0.0412 - val_acc: 0.9883\n",
      "Epoch 25/100\n",
      "398/398 [==============================] - 0s 282us/step - loss: 0.0864 - acc: 0.9774 - val_loss: 0.0408 - val_acc: 0.9883\n",
      "Epoch 26/100\n",
      "398/398 [==============================] - 0s 274us/step - loss: 0.0959 - acc: 0.9648 - val_loss: 0.0402 - val_acc: 0.9883\n",
      "Epoch 27/100\n",
      "398/398 [==============================] - 0s 282us/step - loss: 0.0937 - acc: 0.9698 - val_loss: 0.0406 - val_acc: 0.9883\n",
      "Epoch 28/100\n",
      "398/398 [==============================] - 0s 274us/step - loss: 0.0791 - acc: 0.9673 - val_loss: 0.0405 - val_acc: 0.9883\n",
      "Epoch 29/100\n",
      "398/398 [==============================] - 0s 314us/step - loss: 0.0705 - acc: 0.9749 - val_loss: 0.0399 - val_acc: 0.9942\n",
      "Epoch 30/100\n",
      "398/398 [==============================] - 0s 315us/step - loss: 0.0849 - acc: 0.9623 - val_loss: 0.0397 - val_acc: 0.9942\n",
      "Epoch 31/100\n",
      "398/398 [==============================] - 0s 283us/step - loss: 0.0753 - acc: 0.9774 - val_loss: 0.0394 - val_acc: 0.9942\n",
      "Epoch 32/100\n",
      "398/398 [==============================] - 0s 292us/step - loss: 0.0740 - acc: 0.9749 - val_loss: 0.0384 - val_acc: 0.9942\n",
      "Epoch 33/100\n",
      "398/398 [==============================] - 0s 278us/step - loss: 0.0888 - acc: 0.9623 - val_loss: 0.0384 - val_acc: 0.9942\n",
      "Epoch 34/100\n",
      "398/398 [==============================] - 0s 283us/step - loss: 0.0825 - acc: 0.9774 - val_loss: 0.0381 - val_acc: 0.9942\n",
      "Epoch 35/100\n",
      "398/398 [==============================] - 0s 275us/step - loss: 0.0656 - acc: 0.9774 - val_loss: 0.0379 - val_acc: 0.9942\n",
      "Epoch 36/100\n",
      "398/398 [==============================] - 0s 295us/step - loss: 0.0708 - acc: 0.9749 - val_loss: 0.0384 - val_acc: 0.9942\n",
      "Epoch 37/100\n",
      "398/398 [==============================] - 0s 279us/step - loss: 0.0817 - acc: 0.9648 - val_loss: 0.0382 - val_acc: 0.9942\n",
      "Epoch 38/100\n",
      "398/398 [==============================] - 0s 277us/step - loss: 0.0742 - acc: 0.9774 - val_loss: 0.0382 - val_acc: 0.9942\n",
      "Epoch 39/100\n",
      "398/398 [==============================] - 0s 278us/step - loss: 0.0684 - acc: 0.9774 - val_loss: 0.0379 - val_acc: 0.9942\n",
      "Epoch 40/100\n",
      "398/398 [==============================] - 0s 293us/step - loss: 0.0667 - acc: 0.9749 - val_loss: 0.0373 - val_acc: 0.9942\n",
      "Epoch 41/100\n",
      "398/398 [==============================] - 0s 292us/step - loss: 0.0706 - acc: 0.9749 - val_loss: 0.0377 - val_acc: 0.9942\n",
      "Epoch 42/100\n",
      "398/398 [==============================] - 0s 284us/step - loss: 0.0826 - acc: 0.9673 - val_loss: 0.0378 - val_acc: 0.9942\n",
      "Epoch 43/100\n",
      "398/398 [==============================] - 0s 282us/step - loss: 0.0739 - acc: 0.9698 - val_loss: 0.0384 - val_acc: 0.9942\n",
      "Epoch 44/100\n",
      "398/398 [==============================] - 0s 284us/step - loss: 0.0833 - acc: 0.9774 - val_loss: 0.0389 - val_acc: 0.9942\n",
      "Epoch 45/100\n",
      "398/398 [==============================] - 0s 293us/step - loss: 0.0827 - acc: 0.9724 - val_loss: 0.0386 - val_acc: 0.9942\n",
      "Epoch 46/100\n",
      "398/398 [==============================] - 0s 284us/step - loss: 0.0696 - acc: 0.9799 - val_loss: 0.0382 - val_acc: 0.9942\n",
      "Epoch 47/100\n",
      "398/398 [==============================] - 0s 279us/step - loss: 0.0833 - acc: 0.9673 - val_loss: 0.0383 - val_acc: 0.9942\n",
      "Epoch 48/100\n",
      "398/398 [==============================] - 0s 285us/step - loss: 0.0778 - acc: 0.9698 - val_loss: 0.0389 - val_acc: 0.9942\n",
      "Epoch 49/100\n",
      "398/398 [==============================] - 0s 287us/step - loss: 0.0595 - acc: 0.9849 - val_loss: 0.0388 - val_acc: 0.9942\n",
      "Epoch 50/100\n",
      "398/398 [==============================] - 0s 298us/step - loss: 0.0646 - acc: 0.9799 - val_loss: 0.0386 - val_acc: 0.9942\n",
      "Epoch 51/100\n",
      "398/398 [==============================] - 0s 290us/step - loss: 0.0772 - acc: 0.9749 - val_loss: 0.0386 - val_acc: 0.9942\n",
      "Epoch 52/100\n",
      "398/398 [==============================] - 0s 283us/step - loss: 0.0888 - acc: 0.9648 - val_loss: 0.0383 - val_acc: 0.9942\n",
      "Epoch 53/100\n",
      "398/398 [==============================] - 0s 282us/step - loss: 0.0690 - acc: 0.9724 - val_loss: 0.0382 - val_acc: 0.9942\n",
      "Epoch 54/100\n",
      "398/398 [==============================] - 0s 299us/step - loss: 0.0745 - acc: 0.9749 - val_loss: 0.0374 - val_acc: 0.9942\n",
      "Epoch 55/100\n",
      "398/398 [==============================] - 0s 288us/step - loss: 0.0592 - acc: 0.9774 - val_loss: 0.0379 - val_acc: 0.9942\n",
      "Epoch 56/100\n",
      "398/398 [==============================] - 0s 295us/step - loss: 0.0577 - acc: 0.9849 - val_loss: 0.0381 - val_acc: 0.9942\n",
      "Epoch 57/100\n",
      "398/398 [==============================] - 0s 282us/step - loss: 0.0746 - acc: 0.9673 - val_loss: 0.0385 - val_acc: 0.9942\n",
      "Epoch 58/100\n",
      "398/398 [==============================] - 0s 287us/step - loss: 0.0671 - acc: 0.9724 - val_loss: 0.0390 - val_acc: 0.9942\n",
      "Epoch 59/100\n",
      "398/398 [==============================] - 0s 298us/step - loss: 0.0551 - acc: 0.9799 - val_loss: 0.0404 - val_acc: 0.9942\n",
      "Epoch 60/100\n",
      "398/398 [==============================] - 0s 282us/step - loss: 0.0693 - acc: 0.9799 - val_loss: 0.0415 - val_acc: 0.9942\n",
      "Epoch 61/100\n",
      "398/398 [==============================] - 0s 280us/step - loss: 0.0612 - acc: 0.9874 - val_loss: 0.0413 - val_acc: 0.9942\n",
      "Epoch 62/100\n",
      "398/398 [==============================] - 0s 275us/step - loss: 0.0652 - acc: 0.9724 - val_loss: 0.0399 - val_acc: 0.9942\n",
      "Epoch 63/100\n",
      "398/398 [==============================] - 0s 285us/step - loss: 0.0699 - acc: 0.9724 - val_loss: 0.0384 - val_acc: 0.9942\n",
      "Epoch 64/100\n",
      "398/398 [==============================] - 0s 283us/step - loss: 0.0791 - acc: 0.9774 - val_loss: 0.0390 - val_acc: 0.9942\n",
      "Epoch 65/100\n",
      "398/398 [==============================] - 0s 345us/step - loss: 0.0543 - acc: 0.9799 - val_loss: 0.0406 - val_acc: 0.9942\n",
      "Epoch 66/100\n",
      "398/398 [==============================] - 0s 274us/step - loss: 0.0658 - acc: 0.9774 - val_loss: 0.0405 - val_acc: 0.9942\n",
      "Epoch 67/100\n",
      "398/398 [==============================] - 0s 242us/step - loss: 0.0767 - acc: 0.9724 - val_loss: 0.0365 - val_acc: 0.9942\n",
      "Epoch 68/100\n",
      "398/398 [==============================] - 0s 214us/step - loss: 0.0660 - acc: 0.9749 - val_loss: 0.0367 - val_acc: 0.9942\n",
      "Epoch 69/100\n",
      "398/398 [==============================] - 0s 224us/step - loss: 0.0621 - acc: 0.9749 - val_loss: 0.0365 - val_acc: 0.9942\n",
      "Epoch 70/100\n",
      "398/398 [==============================] - 0s 217us/step - loss: 0.0724 - acc: 0.9749 - val_loss: 0.0378 - val_acc: 0.9942\n",
      "Epoch 71/100\n",
      "398/398 [==============================] - 0s 217us/step - loss: 0.0646 - acc: 0.9799 - val_loss: 0.0446 - val_acc: 0.9883\n",
      "Epoch 72/100\n",
      "398/398 [==============================] - 0s 236us/step - loss: 0.0360 - acc: 0.9849 - val_loss: 0.0449 - val_acc: 0.9883\n",
      "Epoch 73/100\n",
      "398/398 [==============================] - 0s 216us/step - loss: 0.0649 - acc: 0.9749 - val_loss: 0.0493 - val_acc: 0.9883\n",
      "Epoch 74/100\n",
      "398/398 [==============================] - 0s 229us/step - loss: 0.0649 - acc: 0.9774 - val_loss: 0.0475 - val_acc: 0.9883\n",
      "Epoch 75/100\n",
      "398/398 [==============================] - 0s 219us/step - loss: 0.0645 - acc: 0.9749 - val_loss: 0.0453 - val_acc: 0.9883\n",
      "Epoch 76/100\n",
      "398/398 [==============================] - 0s 217us/step - loss: 0.1050 - acc: 0.9698 - val_loss: 0.0516 - val_acc: 0.9883\n",
      "Epoch 77/100\n",
      "398/398 [==============================] - 0s 214us/step - loss: 0.0542 - acc: 0.9849 - val_loss: 0.0498 - val_acc: 0.9883\n",
      "Epoch 78/100\n",
      "398/398 [==============================] - 0s 219us/step - loss: 0.0647 - acc: 0.9724 - val_loss: 0.0477 - val_acc: 0.9883\n",
      "Epoch 79/100\n",
      "398/398 [==============================] - 0s 223us/step - loss: 0.0669 - acc: 0.9774 - val_loss: 0.0649 - val_acc: 0.9883\n",
      "Epoch 80/100\n",
      "398/398 [==============================] - 0s 231us/step - loss: 0.0514 - acc: 0.9774 - val_loss: 0.0639 - val_acc: 0.9883\n",
      "Epoch 81/100\n",
      "398/398 [==============================] - 0s 216us/step - loss: 0.0444 - acc: 0.9849 - val_loss: 0.0617 - val_acc: 0.9883\n",
      "Epoch 82/100\n",
      "398/398 [==============================] - 0s 214us/step - loss: 0.0764 - acc: 0.9724 - val_loss: 0.0693 - val_acc: 0.9883\n",
      "Epoch 83/100\n",
      "398/398 [==============================] - 0s 217us/step - loss: 0.0542 - acc: 0.9849 - val_loss: 0.0771 - val_acc: 0.9883\n",
      "Epoch 84/100\n",
      "398/398 [==============================] - 0s 217us/step - loss: 0.0774 - acc: 0.9623 - val_loss: 0.0794 - val_acc: 0.9883\n",
      "Epoch 85/100\n",
      "398/398 [==============================] - 0s 221us/step - loss: 0.0664 - acc: 0.9673 - val_loss: 0.0780 - val_acc: 0.9883\n",
      "Epoch 86/100\n",
      "398/398 [==============================] - 0s 233us/step - loss: 0.0605 - acc: 0.9749 - val_loss: 0.0709 - val_acc: 0.9883\n",
      "Epoch 87/100\n",
      "398/398 [==============================] - 0s 218us/step - loss: 0.0744 - acc: 0.9749 - val_loss: 0.0625 - val_acc: 0.9883\n",
      "Epoch 88/100\n",
      "398/398 [==============================] - 0s 336us/step - loss: 0.0570 - acc: 0.9774 - val_loss: 0.0594 - val_acc: 0.9883\n",
      "Epoch 89/100\n",
      "398/398 [==============================] - 0s 226us/step - loss: 0.0565 - acc: 0.9849 - val_loss: 0.0588 - val_acc: 0.9883\n",
      "Epoch 90/100\n",
      "398/398 [==============================] - 0s 222us/step - loss: 0.0567 - acc: 0.9774 - val_loss: 0.0558 - val_acc: 0.9883\n",
      "Epoch 91/100\n",
      "398/398 [==============================] - 0s 232us/step - loss: 0.0620 - acc: 0.9698 - val_loss: 0.0955 - val_acc: 0.9825\n",
      "Epoch 92/100\n",
      "398/398 [==============================] - 0s 218us/step - loss: 0.0531 - acc: 0.9799 - val_loss: 0.0967 - val_acc: 0.9825\n",
      "Epoch 93/100\n",
      "398/398 [==============================] - 0s 221us/step - loss: 0.0497 - acc: 0.9799 - val_loss: 0.0945 - val_acc: 0.9825\n",
      "Epoch 94/100\n",
      "398/398 [==============================] - 0s 219us/step - loss: 0.0695 - acc: 0.9774 - val_loss: 0.0834 - val_acc: 0.9883\n",
      "Epoch 95/100\n",
      "398/398 [==============================] - 0s 221us/step - loss: 0.0600 - acc: 0.9749 - val_loss: 0.0789 - val_acc: 0.9883\n",
      "Epoch 96/100\n",
      "398/398 [==============================] - 0s 217us/step - loss: 0.0733 - acc: 0.9724 - val_loss: 0.0923 - val_acc: 0.9825\n",
      "Epoch 97/100\n",
      "398/398 [==============================] - 0s 229us/step - loss: 0.0636 - acc: 0.9799 - val_loss: 0.0835 - val_acc: 0.9883\n",
      "Epoch 98/100\n",
      "398/398 [==============================] - 0s 228us/step - loss: 0.0685 - acc: 0.9698 - val_loss: 0.0727 - val_acc: 0.9883\n",
      "Epoch 99/100\n",
      "398/398 [==============================] - 0s 222us/step - loss: 0.0597 - acc: 0.9698 - val_loss: 0.0716 - val_acc: 0.9883\n",
      "Epoch 100/100\n",
      "398/398 [==============================] - 0s 227us/step - loss: 0.0561 - acc: 0.9824 - val_loss: 0.0677 - val_acc: 0.9883\n"
     ]
    }
   ],
   "source": [
    "history = model1.fit(X_train,y_train,batch_size=10,epochs=100,validation_split=0.25,verbose=1,validation_data=(X_test,y_test))"
   ]
  },
  {
   "cell_type": "code",
   "execution_count": 35,
   "metadata": {},
   "outputs": [
    {
     "data": {
      "text/plain": [
       "<matplotlib.legend.Legend at 0x1b875cc8668>"
      ]
     },
     "execution_count": 35,
     "metadata": {},
     "output_type": "execute_result"
    },
    {
     "data": {
      "image/png": "[encoded data removed]",
      "text/plain": [
       "<Figure size 720x576 with 1 Axes>"
      ]
     },
     "metadata": {
      "needs_background": "light"
     },
     "output_type": "display_data"
    }
   ],
   "source": [
    "plt.figure(figsize=(10,8))\n",
    "plt.plot(history.history['acc'])\n",
    "plt.plot(history.history['val_acc'])\n",
    "plt.title('Model accuracy')\n",
    "plt.ylabel('Accuracy')\n",
    "plt.xlabel('Epoch')\n",
    "plt.legend(['Train', 'Test'], loc='upper left')"
   ]
  },
  {
   "cell_type": "code",
   "execution_count": 36,
   "metadata": {},
   "outputs": [
    {
     "data": {
      "text/plain": [
       "<matplotlib.legend.Legend at 0x1b874cbadd8>"
      ]
     },
     "execution_count": 36,
     "metadata": {},
     "output_type": "execute_result"
    },
    {
     "data": {
      "image/png": "[encoded data removed]",
      "text/plain": [
       "<Figure size 720x576 with 1 Axes>"
      ]
     },
     "metadata": {
      "needs_background": "light"
     },
     "output_type": "display_data"
    }
   ],
   "source": [
    "plt.figure(figsize=(10,8))\n",
    "plt.plot(history.history['loss'])\n",
    "plt.plot(history.history['val_loss'])\n",
    "plt.title('Model loss')\n",
    "plt.ylabel('Loss')\n",
    "plt.xlabel('Epoch')\n",
    "plt.legend(['Train', 'Test'], loc='upper left')"
   ]
  },
  {
   "cell_type": "code",
   "execution_count": 37,
   "metadata": {},
   "outputs": [
    {
     "name": "stdout",
     "output_type": "stream",
     "text": [
      "[[ 62   1]\n",
      " [  1 107]]\n",
      "             precision    recall  f1-score   support\n",
      "\n",
      "          0       0.98      0.98      0.98        63\n",
      "          1       0.99      0.99      0.99       108\n",
      "\n",
      "avg / total       0.99      0.99      0.99       171\n",
      "\n"
     ]
    }
   ],
   "source": [
    "pred1 = model1.predict_classes(X_test)\n",
    "print(confusion_matrix(y_test,pred1))\n",
    "print(classification_report(y_test,pred1))"
   ]
  },
  {
   "cell_type": "code",
   "execution_count": 38,
   "metadata": {},
   "outputs": [],
   "source": [
    "from sklearn.datasets import make_circles"
   ]
  },
  {
   "cell_type": "code",
   "execution_count": 39,
   "metadata": {},
   "outputs": [],
   "source": [
    "xs , ys= make_circles(200,noise=0.015)"
   ]
  },
  {
   "cell_type": "code",
   "execution_count": 40,
   "metadata": {},
   "outputs": [
    {
     "data": {
      "text/plain": [
       "<matplotlib.collections.PathCollection at 0x1b875cb0278>"
      ]
     },
     "execution_count": 40,
     "metadata": {},
     "output_type": "execute_result"
    },
    {
     "data": {
      "image/png": "[encoded data removed]",
      "text/plain": [
       "<Figure size 432x288 with 1 Axes>"
      ]
     },
     "metadata": {
      "needs_background": "light"
     },
     "output_type": "display_data"
    }
   ],
   "source": [
    "plt.scatter(xs[:,0],xs[:,1],c=ys)"
   ]
  },
  {
   "cell_type": "code",
   "execution_count": 41,
   "metadata": {},
   "outputs": [],
   "source": [
    "from mpl_toolkits.mplot3d import Axes3D "
   ]
  },
  {
   "cell_type": "code",
   "execution_count": 42,
   "metadata": {},
   "outputs": [
    {
     "data": {
      "text/plain": [
       "<mpl_toolkits.mplot3d.art3d.Path3DCollection at 0x1b874b839b0>"
      ]
     },
     "execution_count": 42,
     "metadata": {},
     "output_type": "execute_result"
    },
    {
     "data": {
      "image/png": "[encoded data removed]",
      "text/plain": [
       "<Figure size 720x576 with 1 Axes>"
      ]
     },
     "metadata": {
      "needs_background": "light"
     },
     "output_type": "display_data"
    }
   ],
   "source": [
    "fig = plt.figure(figsize=(10,8))\n",
    "axes = fig.add_subplot(111,projection='3d')\n",
    "axes.scatter(xs[:,0],xs[:,1], xs[:,1]**2 + xs[:,0]**2,cmap='gray')"
   ]
  },
  {
   "cell_type": "code",
   "execution_count": 43,
   "metadata": {},
   "outputs": [
    {
     "data": {
      "text/html": [
       "<div>\n",
       "<style scoped>\n",
       "    .dataframe tbody tr th:only-of-type {\n",
       "        vertical-align: middle;\n",
       "    }\n",
       "\n",
       "    .dataframe tbody tr th {\n",
       "        vertical-align: top;\n",
       "    }\n",
       "\n",
       "    .dataframe thead th {\n",
       "        text-align: right;\n",
       "    }\n",
       "</style>\n",
       "<table border=\"1\" class=\"dataframe\">\n",
       "  <thead>\n",
       "    <tr style=\"text-align: right;\">\n",
       "      <th></th>\n",
       "      <th>mean radius</th>\n",
       "      <th>mean texture</th>\n",
       "      <th>mean perimeter</th>\n",
       "      <th>mean area</th>\n",
       "      <th>mean smoothness</th>\n",
       "      <th>mean compactness</th>\n",
       "      <th>mean concavity</th>\n",
       "      <th>mean concave points</th>\n",
       "      <th>mean symmetry</th>\n",
       "      <th>mean fractal dimension</th>\n",
       "      <th>...</th>\n",
       "      <th>worst radius</th>\n",
       "      <th>worst texture</th>\n",
       "      <th>worst perimeter</th>\n",
       "      <th>worst area</th>\n",
       "      <th>worst smoothness</th>\n",
       "      <th>worst compactness</th>\n",
       "      <th>worst concavity</th>\n",
       "      <th>worst concave points</th>\n",
       "      <th>worst symmetry</th>\n",
       "      <th>worst fractal dimension</th>\n",
       "    </tr>\n",
       "  </thead>\n",
       "  <tbody>\n",
       "    <tr>\n",
       "      <th>count</th>\n",
       "      <td>569.000000</td>\n",
       "      <td>569.000000</td>\n",
       "      <td>569.000000</td>\n",
       "      <td>569.000000</td>\n",
       "      <td>569.000000</td>\n",
       "      <td>569.000000</td>\n",
       "      <td>569.000000</td>\n",
       "      <td>569.000000</td>\n",
       "      <td>569.000000</td>\n",
       "      <td>569.000000</td>\n",
       "      <td>...</td>\n",
       "      <td>569.000000</td>\n",
       "      <td>569.000000</td>\n",
       "      <td>569.000000</td>\n",
       "      <td>569.000000</td>\n",
       "      <td>569.000000</td>\n",
       "      <td>569.000000</td>\n",
       "      <td>569.000000</td>\n",
       "      <td>569.000000</td>\n",
       "      <td>569.000000</td>\n",
       "      <td>569.000000</td>\n",
       "    </tr>\n",
       "    <tr>\n",
       "      <th>mean</th>\n",
       "      <td>14.127292</td>\n",
       "      <td>19.289649</td>\n",
       "      <td>91.969033</td>\n",
       "      <td>654.889104</td>\n",
       "      <td>0.096360</td>\n",
       "      <td>0.104341</td>\n",
       "      <td>0.088799</td>\n",
       "      <td>0.048919</td>\n",
       "      <td>0.181162</td>\n",
       "      <td>0.062798</td>\n",
       "      <td>...</td>\n",
       "      <td>16.269190</td>\n",
       "      <td>25.677223</td>\n",
       "      <td>107.261213</td>\n",
       "      <td>880.583128</td>\n",
       "      <td>0.132369</td>\n",
       "      <td>0.254265</td>\n",
       "      <td>0.272188</td>\n",
       "      <td>0.114606</td>\n",
       "      <td>0.290076</td>\n",
       "      <td>0.083946</td>\n",
       "    </tr>\n",
       "    <tr>\n",
       "      <th>std</th>\n",
       "      <td>3.524049</td>\n",
       "      <td>4.301036</td>\n",
       "      <td>24.298981</td>\n",
       "      <td>351.914129</td>\n",
       "      <td>0.014064</td>\n",
       "      <td>0.052813</td>\n",
       "      <td>0.079720</td>\n",
       "      <td>0.038803</td>\n",
       "      <td>0.027414</td>\n",
       "      <td>0.007060</td>\n",
       "      <td>...</td>\n",
       "      <td>4.833242</td>\n",
       "      <td>6.146258</td>\n",
       "      <td>33.602542</td>\n",
       "      <td>569.356993</td>\n",
       "      <td>0.022832</td>\n",
       "      <td>0.157336</td>\n",
       "      <td>0.208624</td>\n",
       "      <td>0.065732</td>\n",
       "      <td>0.061867</td>\n",
       "      <td>0.018061</td>\n",
       "    </tr>\n",
       "    <tr>\n",
       "      <th>min</th>\n",
       "      <td>6.981000</td>\n",
       "      <td>9.710000</td>\n",
       "      <td>43.790000</td>\n",
       "      <td>143.500000</td>\n",
       "      <td>0.052630</td>\n",
       "      <td>0.019380</td>\n",
       "      <td>0.000000</td>\n",
       "      <td>0.000000</td>\n",
       "      <td>0.106000</td>\n",
       "      <td>0.049960</td>\n",
       "      <td>...</td>\n",
       "      <td>7.930000</td>\n",
       "      <td>12.020000</td>\n",
       "      <td>50.410000</td>\n",
       "      <td>185.200000</td>\n",
       "      <td>0.071170</td>\n",
       "      <td>0.027290</td>\n",
       "      <td>0.000000</td>\n",
       "      <td>0.000000</td>\n",
       "      <td>0.156500</td>\n",
       "      <td>0.055040</td>\n",
       "    </tr>\n",
       "    <tr>\n",
       "      <th>25%</th>\n",
       "      <td>11.700000</td>\n",
       "      <td>16.170000</td>\n",
       "      <td>75.170000</td>\n",
       "      <td>420.300000</td>\n",
       "      <td>0.086370</td>\n",
       "      <td>0.064920</td>\n",
       "      <td>0.029560</td>\n",
       "      <td>0.020310</td>\n",
       "      <td>0.161900</td>\n",
       "      <td>0.057700</td>\n",
       "      <td>...</td>\n",
       "      <td>13.010000</td>\n",
       "      <td>21.080000</td>\n",
       "      <td>84.110000</td>\n",
       "      <td>515.300000</td>\n",
       "      <td>0.116600</td>\n",
       "      <td>0.147200</td>\n",
       "      <td>0.114500</td>\n",
       "      <td>0.064930</td>\n",
       "      <td>0.250400</td>\n",
       "      <td>0.071460</td>\n",
       "    </tr>\n",
       "    <tr>\n",
       "      <th>50%</th>\n",
       "      <td>13.370000</td>\n",
       "      <td>18.840000</td>\n",
       "      <td>86.240000</td>\n",
       "      <td>551.100000</td>\n",
       "      <td>0.095870</td>\n",
       "      <td>0.092630</td>\n",
       "      <td>0.061540</td>\n",
       "      <td>0.033500</td>\n",
       "      <td>0.179200</td>\n",
       "      <td>0.061540</td>\n",
       "      <td>...</td>\n",
       "      <td>14.970000</td>\n",
       "      <td>25.410000</td>\n",
       "      <td>97.660000</td>\n",
       "      <td>686.500000</td>\n",
       "      <td>0.131300</td>\n",
       "      <td>0.211900</td>\n",
       "      <td>0.226700</td>\n",
       "      <td>0.099930</td>\n",
       "      <td>0.282200</td>\n",
       "      <td>0.080040</td>\n",
       "    </tr>\n",
       "    <tr>\n",
       "      <th>75%</th>\n",
       "      <td>15.780000</td>\n",
       "      <td>21.800000</td>\n",
       "      <td>104.100000</td>\n",
       "      <td>782.700000</td>\n",
       "      <td>0.105300</td>\n",
       "      <td>0.130400</td>\n",
       "      <td>0.130700</td>\n",
       "      <td>0.074000</td>\n",
       "      <td>0.195700</td>\n",
       "      <td>0.066120</td>\n",
       "      <td>...</td>\n",
       "      <td>18.790000</td>\n",
       "      <td>29.720000</td>\n",
       "      <td>125.400000</td>\n",
       "      <td>1084.000000</td>\n",
       "      <td>0.146000</td>\n",
       "      <td>0.339100</td>\n",
       "      <td>0.382900</td>\n",
       "      <td>0.161400</td>\n",
       "      <td>0.317900</td>\n",
       "      <td>0.092080</td>\n",
       "    </tr>\n",
       "    <tr>\n",
       "      <th>max</th>\n",
       "      <td>28.110000</td>\n",
       "      <td>39.280000</td>\n",
       "      <td>188.500000</td>\n",
       "      <td>2501.000000</td>\n",
       "      <td>0.163400</td>\n",
       "      <td>0.345400</td>\n",
       "      <td>0.426800</td>\n",
       "      <td>0.201200</td>\n",
       "      <td>0.304000</td>\n",
       "      <td>0.097440</td>\n",
       "      <td>...</td>\n",
       "      <td>36.040000</td>\n",
       "      <td>49.540000</td>\n",
       "      <td>251.200000</td>\n",
       "      <td>4254.000000</td>\n",
       "      <td>0.222600</td>\n",
       "      <td>1.058000</td>\n",
       "      <td>1.252000</td>\n",
       "      <td>0.291000</td>\n",
       "      <td>0.663800</td>\n",
       "      <td>0.207500</td>\n",
       "    </tr>\n",
       "  </tbody>\n",
       "</table>\n",
       "<p>8 rows × 30 columns</p>\n",
       "</div>"
      ],
      "text/plain": [
       "       mean radius  mean texture  mean perimeter    mean area  \\\n",
       "count   569.000000    569.000000      569.000000   569.000000   \n",
       "mean     14.127292     19.289649       91.969033   654.889104   \n",
       "std       3.524049      4.301036       24.298981   351.914129   \n",
       "min       6.981000      9.710000       43.790000   143.500000   \n",
       "25%      11.700000     16.170000       75.170000   420.300000   \n",
       "50%      13.370000     18.840000       86.240000   551.100000   \n",
       "75%      15.780000     21.800000      104.100000   782.700000   \n",
       "max      28.110000     39.280000      188.500000  2501.000000   \n",
       "\n",
       "       mean smoothness  mean compactness  mean concavity  mean concave points  \\\n",
       "count       569.000000        569.000000      569.000000           569.000000   \n",
       "mean          0.096360          0.104341        0.088799             0.048919   \n",
       "std           0.014064          0.052813        0.079720             0.038803   \n",
       "min           0.052630          0.019380        0.000000             0.000000   \n",
       "25%           0.086370          0.064920        0.029560             0.020310   \n",
       "50%           0.095870          0.092630        0.061540             0.033500   \n",
       "75%           0.105300          0.130400        0.130700             0.074000   \n",
       "max           0.163400          0.345400        0.426800             0.201200   \n",
       "\n",
       "       mean symmetry  mean fractal dimension           ...             \\\n",
       "count     569.000000              569.000000           ...              \n",
       "mean        0.181162                0.062798           ...              \n",
       "std         0.027414                0.007060           ...              \n",
       "min         0.106000                0.049960           ...              \n",
       "25%         0.161900                0.057700           ...              \n",
       "50%         0.179200                0.061540           ...              \n",
       "75%         0.195700                0.066120           ...              \n",
       "max         0.304000                0.097440           ...              \n",
       "\n",
       "       worst radius  worst texture  worst perimeter   worst area  \\\n",
       "count    569.000000     569.000000       569.000000   569.000000   \n",
       "mean      16.269190      25.677223       107.261213   880.583128   \n",
       "std        4.833242       6.146258        33.602542   569.356993   \n",
       "min        7.930000      12.020000        50.410000   185.200000   \n",
       "25%       13.010000      21.080000        84.110000   515.300000   \n",
       "50%       14.970000      25.410000        97.660000   686.500000   \n",
       "75%       18.790000      29.720000       125.400000  1084.000000   \n",
       "max       36.040000      49.540000       251.200000  4254.000000   \n",
       "\n",
       "       worst smoothness  worst compactness  worst concavity  \\\n",
       "count        569.000000         569.000000       569.000000   \n",
       "mean           0.132369           0.254265         0.272188   \n",
       "std            0.022832           0.157336         0.208624   \n",
       "min            0.071170           0.027290         0.000000   \n",
       "25%            0.116600           0.147200         0.114500   \n",
       "50%            0.131300           0.211900         0.226700   \n",
       "75%            0.146000           0.339100         0.382900   \n",
       "max            0.222600           1.058000         1.252000   \n",
       "\n",
       "       worst concave points  worst symmetry  worst fractal dimension  \n",
       "count            569.000000      569.000000               569.000000  \n",
       "mean               0.114606        0.290076                 0.083946  \n",
       "std                0.065732        0.061867                 0.018061  \n",
       "min                0.000000        0.156500                 0.055040  \n",
       "25%                0.064930        0.250400                 0.071460  \n",
       "50%                0.099930        0.282200                 0.080040  \n",
       "75%                0.161400        0.317900                 0.092080  \n",
       "max                0.291000        0.663800                 0.207500  \n",
       "\n",
       "[8 rows x 30 columns]"
      ]
     },
     "execution_count": 43,
     "metadata": {},
     "output_type": "execute_result"
    }
   ],
   "source": [
    "cancer_df.describe()"
   ]
  },
  {
   "cell_type": "code",
   "execution_count": 44,
   "metadata": {},
   "outputs": [],
   "source": [
    "model1.save(\"cancer_calssifier_best\")"
   ]
  },
  {
   "cell_type": "code",
   "execution_count": null,
   "metadata": {},
   "outputs": [],
   "source": []
  }
 ],
 "metadata": {
  "kernelspec": {
   "display_name": "Python 3",
   "language": "python",
   "name": "python3"
  },
  "language_info": {
   "codemirror_mode": {
    "name": "ipython",
    "version": 3
   },
   "file_extension": ".py",
   "mimetype": "text/x-python",
   "name": "python",
   "nbconvert_exporter": "python",
   "pygments_lexer": "ipython3",
   "version": "3.6.4"
  }
 },
 "nbformat": 4,
 "nbformat_minor": 2
}
